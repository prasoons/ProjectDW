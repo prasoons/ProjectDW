{
 "cells": [
  {
   "cell_type": "code",
   "execution_count": 3,
   "metadata": {},
   "outputs": [],
   "source": [
    "library(tidyverse)\n",
    "library(magrittr) # better handling of pipes\n",
    "library(purrr) # to work with lists and map functions\n",
    "library(glue) # to paste strings\n",
    "library(stringr) # to hand strings\n",
    "library(rvest)\n",
    "library(dplyr)# rvest makes scraping easier\n",
    "library(visdat)"
   ]
  },
  {
   "cell_type": "code",
   "execution_count": 4,
   "metadata": {},
   "outputs": [
    {
     "name": "stderr",
     "output_type": "stream",
     "text": [
      "Parsed with column specification:\n",
      "cols(\n",
      "  Index = \u001b[32mcol_number()\u001b[39m,\n",
      "  Movie_names = \u001b[31mcol_character()\u001b[39m,\n",
      "  Year = \u001b[31mcol_character()\u001b[39m,\n",
      "  Advisory_rating = \u001b[31mcol_character()\u001b[39m,\n",
      "  runtime = \u001b[31mcol_character()\u001b[39m,\n",
      "  genre = \u001b[31mcol_character()\u001b[39m,\n",
      "  Ratings = \u001b[32mcol_double()\u001b[39m,\n",
      "  Description = \u001b[31mcol_character()\u001b[39m,\n",
      "  Director = \u001b[31mcol_character()\u001b[39m,\n",
      "  Cast = \u001b[31mcol_character()\u001b[39m,\n",
      "  User_votes = \u001b[32mcol_number()\u001b[39m\n",
      ")\n",
      "\n"
     ]
    }
   ],
   "source": [
    "imdb_20000_data <- read_csv(\"IMDB_20000_MOVIES.csv\")"
   ]
  },
  {
   "cell_type": "code",
   "execution_count": 5,
   "metadata": {},
   "outputs": [
    {
     "data": {
      "text/html": [
       "<table>\n",
       "<caption>A tibble: 5 × 11</caption>\n",
       "<thead>\n",
       "\t<tr><th scope=col>Index</th><th scope=col>Movie_names</th><th scope=col>Year</th><th scope=col>Advisory_rating</th><th scope=col>runtime</th><th scope=col>genre</th><th scope=col>Ratings</th><th scope=col>Description</th><th scope=col>Director</th><th scope=col>Cast</th><th scope=col>User_votes</th></tr>\n",
       "\t<tr><th scope=col>&lt;dbl&gt;</th><th scope=col>&lt;chr&gt;</th><th scope=col>&lt;chr&gt;</th><th scope=col>&lt;chr&gt;</th><th scope=col>&lt;chr&gt;</th><th scope=col>&lt;chr&gt;</th><th scope=col>&lt;dbl&gt;</th><th scope=col>&lt;chr&gt;</th><th scope=col>&lt;chr&gt;</th><th scope=col>&lt;chr&gt;</th><th scope=col>&lt;dbl&gt;</th></tr>\n",
       "</thead>\n",
       "<tbody>\n",
       "\t<tr><td>1</td><td>Enola Holmes              </td><td>-2020</td><td>PG-13</td><td>123 min</td><td>Adventure, Crime, Drama </td><td>6.6</td><td>When Enola Holmes-Sherlock's teen sister-discovers her mother missing, she sets off to find her, becoming a super-sleuth in her own right as she outwits her famous brother and unravels a dangerous conspiracy around a mysterious young Lord.</td><td>Harry Bradbeer   </td><td>Millie Bobby Brown   </td><td> 75468</td></tr>\n",
       "\t<tr><td>2</td><td>The Devil All the Time    </td><td>-2020</td><td>R    </td><td>138 min</td><td>Crime, Drama, Thriller  </td><td>7.1</td><td>Sinister characters converge around a young man devoted to protecting those he loves in a postwar backwoods town teeming with corruption and brutality.                                                                                        </td><td>Antonio Campos   </td><td>Donald Ray Pollock   </td><td> 56302</td></tr>\n",
       "\t<tr><td>3</td><td>Tenet                     </td><td>-2020</td><td>PG-13</td><td>150 min</td><td>Action, Sci-Fi          </td><td>7.8</td><td>Armed with only one word, Tenet, and fighting for the survival of the entire world, a Protagonist journeys through a twilight world of international espionage on a mission that will unfold in something beyond real time.                    </td><td>Christopher Nolan</td><td>John David Washington</td><td>130255</td></tr>\n",
       "\t<tr><td>4</td><td>The Boys in the Band      </td><td>-2020</td><td>R    </td><td>121 min</td><td>Drama                   </td><td>6.8</td><td>At a birthday party in 1968 New York, a surprise guest and a drunken game leave seven gay friends reckoning with unspoken feelings and buried truths.                                                                                          </td><td>Joe Mantello     </td><td>Jim Parsons          </td><td>  5665</td></tr>\n",
       "\t<tr><td>5</td><td>The Trial of the Chicago 7</td><td>-2020</td><td>R    </td><td>129 min</td><td>Drama, History, Thriller</td><td>7.6</td><td>The story of 7 people on trial stemming from various charges surrounding the uprising at the 1968 Democratic National Convention in Chicago, Illinois.                                                                                         </td><td>Aaron Sorkin     </td><td>Eddie Redmayne       </td><td>   979</td></tr>\n",
       "</tbody>\n",
       "</table>\n"
      ],
      "text/latex": [
       "A tibble: 5 × 11\n",
       "\\begin{tabular}{lllllllllll}\n",
       " Index & Movie\\_names & Year & Advisory\\_rating & runtime & genre & Ratings & Description & Director & Cast & User\\_votes\\\\\n",
       " <dbl> & <chr> & <chr> & <chr> & <chr> & <chr> & <dbl> & <chr> & <chr> & <chr> & <dbl>\\\\\n",
       "\\hline\n",
       "\t 1 & Enola Holmes               & -2020 & PG-13 & 123 min & Adventure, Crime, Drama  & 6.6 & When Enola Holmes-Sherlock's teen sister-discovers her mother missing, she sets off to find her, becoming a super-sleuth in her own right as she outwits her famous brother and unravels a dangerous conspiracy around a mysterious young Lord. & Harry Bradbeer    & Millie Bobby Brown    &  75468\\\\\n",
       "\t 2 & The Devil All the Time     & -2020 & R     & 138 min & Crime, Drama, Thriller   & 7.1 & Sinister characters converge around a young man devoted to protecting those he loves in a postwar backwoods town teeming with corruption and brutality.                                                                                         & Antonio Campos    & Donald Ray Pollock    &  56302\\\\\n",
       "\t 3 & Tenet                      & -2020 & PG-13 & 150 min & Action, Sci-Fi           & 7.8 & Armed with only one word, Tenet, and fighting for the survival of the entire world, a Protagonist journeys through a twilight world of international espionage on a mission that will unfold in something beyond real time.                     & Christopher Nolan & John David Washington & 130255\\\\\n",
       "\t 4 & The Boys in the Band       & -2020 & R     & 121 min & Drama                    & 6.8 & At a birthday party in 1968 New York, a surprise guest and a drunken game leave seven gay friends reckoning with unspoken feelings and buried truths.                                                                                           & Joe Mantello      & Jim Parsons           &   5665\\\\\n",
       "\t 5 & The Trial of the Chicago 7 & -2020 & R     & 129 min & Drama, History, Thriller & 7.6 & The story of 7 people on trial stemming from various charges surrounding the uprising at the 1968 Democratic National Convention in Chicago, Illinois.                                                                                          & Aaron Sorkin      & Eddie Redmayne        &    979\\\\\n",
       "\\end{tabular}\n"
      ],
      "text/markdown": [
       "\n",
       "A tibble: 5 × 11\n",
       "\n",
       "| Index &lt;dbl&gt; | Movie_names &lt;chr&gt; | Year &lt;chr&gt; | Advisory_rating &lt;chr&gt; | runtime &lt;chr&gt; | genre &lt;chr&gt; | Ratings &lt;dbl&gt; | Description &lt;chr&gt; | Director &lt;chr&gt; | Cast &lt;chr&gt; | User_votes &lt;dbl&gt; |\n",
       "|---|---|---|---|---|---|---|---|---|---|---|\n",
       "| 1 | Enola Holmes               | -2020 | PG-13 | 123 min | Adventure, Crime, Drama  | 6.6 | When Enola Holmes-Sherlock's teen sister-discovers her mother missing, she sets off to find her, becoming a super-sleuth in her own right as she outwits her famous brother and unravels a dangerous conspiracy around a mysterious young Lord. | Harry Bradbeer    | Millie Bobby Brown    |  75468 |\n",
       "| 2 | The Devil All the Time     | -2020 | R     | 138 min | Crime, Drama, Thriller   | 7.1 | Sinister characters converge around a young man devoted to protecting those he loves in a postwar backwoods town teeming with corruption and brutality.                                                                                         | Antonio Campos    | Donald Ray Pollock    |  56302 |\n",
       "| 3 | Tenet                      | -2020 | PG-13 | 150 min | Action, Sci-Fi           | 7.8 | Armed with only one word, Tenet, and fighting for the survival of the entire world, a Protagonist journeys through a twilight world of international espionage on a mission that will unfold in something beyond real time.                     | Christopher Nolan | John David Washington | 130255 |\n",
       "| 4 | The Boys in the Band       | -2020 | R     | 121 min | Drama                    | 6.8 | At a birthday party in 1968 New York, a surprise guest and a drunken game leave seven gay friends reckoning with unspoken feelings and buried truths.                                                                                           | Joe Mantello      | Jim Parsons           |   5665 |\n",
       "| 5 | The Trial of the Chicago 7 | -2020 | R     | 129 min | Drama, History, Thriller | 7.6 | The story of 7 people on trial stemming from various charges surrounding the uprising at the 1968 Democratic National Convention in Chicago, Illinois.                                                                                          | Aaron Sorkin      | Eddie Redmayne        |    979 |\n",
       "\n"
      ],
      "text/plain": [
       "  Index Movie_names                Year  Advisory_rating runtime\n",
       "1 1     Enola Holmes               -2020 PG-13           123 min\n",
       "2 2     The Devil All the Time     -2020 R               138 min\n",
       "3 3     Tenet                      -2020 PG-13           150 min\n",
       "4 4     The Boys in the Band       -2020 R               121 min\n",
       "5 5     The Trial of the Chicago 7 -2020 R               129 min\n",
       "  genre                    Ratings\n",
       "1 Adventure, Crime, Drama  6.6    \n",
       "2 Crime, Drama, Thriller   7.1    \n",
       "3 Action, Sci-Fi           7.8    \n",
       "4 Drama                    6.8    \n",
       "5 Drama, History, Thriller 7.6    \n",
       "  Description                                                                                                                                                                                                                                    \n",
       "1 When Enola Holmes-Sherlock's teen sister-discovers her mother missing, she sets off to find her, becoming a super-sleuth in her own right as she outwits her famous brother and unravels a dangerous conspiracy around a mysterious young Lord.\n",
       "2 Sinister characters converge around a young man devoted to protecting those he loves in a postwar backwoods town teeming with corruption and brutality.                                                                                        \n",
       "3 Armed with only one word, Tenet, and fighting for the survival of the entire world, a Protagonist journeys through a twilight world of international espionage on a mission that will unfold in something beyond real time.                    \n",
       "4 At a birthday party in 1968 New York, a surprise guest and a drunken game leave seven gay friends reckoning with unspoken feelings and buried truths.                                                                                          \n",
       "5 The story of 7 people on trial stemming from various charges surrounding the uprising at the 1968 Democratic National Convention in Chicago, Illinois.                                                                                         \n",
       "  Director          Cast                  User_votes\n",
       "1 Harry Bradbeer    Millie Bobby Brown     75468    \n",
       "2 Antonio Campos    Donald Ray Pollock     56302    \n",
       "3 Christopher Nolan John David Washington 130255    \n",
       "4 Joe Mantello      Jim Parsons             5665    \n",
       "5 Aaron Sorkin      Eddie Redmayne           979    "
      ]
     },
     "metadata": {},
     "output_type": "display_data"
    }
   ],
   "source": [
    "imdb_data  <- imdb_20000_data\n",
    "head(imdb_data,5)"
   ]
  },
  {
   "cell_type": "code",
   "execution_count": 6,
   "metadata": {},
   "outputs": [
    {
     "name": "stderr",
     "output_type": "stream",
     "text": [
      "Warning message in eval(expr, envir, enclos):\n",
      "\"NAs introduced by coercion\"\n",
      "Warning message in eval(expr, envir, enclos):\n",
      "\"NAs introduced by coercion\"\n"
     ]
    }
   ],
   "source": [
    "imdb_data$Year <-  as.numeric(gsub(\"-\",\"\", imdb_data$Year))\n",
    "imdb_data$genre  <- str_extract(imdb_data$genre, '\\\\w*')\n",
    "imdb_data$runtime  <- as.numeric(gsub(\"min\",\"\",imdb_data$runtime))"
   ]
  },
  {
   "cell_type": "code",
   "execution_count": 7,
   "metadata": {},
   "outputs": [
    {
     "data": {
      "text/html": [
       "<table>\n",
       "<caption>A tibble: 1 × 1</caption>\n",
       "<thead>\n",
       "\t<tr><th scope=col>n</th></tr>\n",
       "\t<tr><th scope=col>&lt;int&gt;</th></tr>\n",
       "</thead>\n",
       "<tbody>\n",
       "\t<tr><td>20000</td></tr>\n",
       "</tbody>\n",
       "</table>\n"
      ],
      "text/latex": [
       "A tibble: 1 × 1\n",
       "\\begin{tabular}{l}\n",
       " n\\\\\n",
       " <int>\\\\\n",
       "\\hline\n",
       "\t 20000\\\\\n",
       "\\end{tabular}\n"
      ],
      "text/markdown": [
       "\n",
       "A tibble: 1 × 1\n",
       "\n",
       "| n &lt;int&gt; |\n",
       "|---|\n",
       "| 20000 |\n",
       "\n"
      ],
      "text/plain": [
       "  n    \n",
       "1 20000"
      ]
     },
     "metadata": {},
     "output_type": "display_data"
    }
   ],
   "source": [
    "count(imdb_data)"
   ]
  },
  {
   "cell_type": "code",
   "execution_count": 8,
   "metadata": {},
   "outputs": [
    {
     "data": {
      "image/png": "[encoded data removed]",
      "text/plain": [
       "plot without title"
      ]
     },
     "metadata": {
      "image/png": {
       "height": 420,
       "width": 420
      }
     },
     "output_type": "display_data"
    }
   ],
   "source": [
    "imdb_data %>%\n",
    "vis_miss()"
   ]
  },
  {
   "cell_type": "code",
   "execution_count": 17,
   "metadata": {},
   "outputs": [
    {
     "data": {
      "text/html": [
       "<style>\n",
       ".dl-inline {width: auto; margin:0; padding: 0}\n",
       ".dl-inline>dt, .dl-inline>dd {float: none; width: auto; display: inline-block}\n",
       ".dl-inline>dt::after {content: \":\\0020\"; padding-right: .5ex}\n",
       ".dl-inline>dt:not(:first-of-type) {padding-left: .5ex}\n",
       "</style><dl class=dl-inline><dt>Index</dt><dd>FALSE</dd><dt>Movie_names</dt><dd>FALSE</dd><dt>Year</dt><dd>TRUE</dd><dt>Advisory_rating</dt><dd>TRUE</dd><dt>runtime</dt><dd>TRUE</dd><dt>genre</dt><dd>TRUE</dd><dt>Ratings</dt><dd>TRUE</dd><dt>Description</dt><dd>TRUE</dd><dt>Director</dt><dd>TRUE</dd><dt>Cast</dt><dd>TRUE</dd><dt>User_votes</dt><dd>TRUE</dd></dl>\n"
      ],
      "text/latex": [
       "\\begin{description*}\n",
       "\\item[Index] FALSE\n",
       "\\item[Movie\\textbackslash{}\\_names] FALSE\n",
       "\\item[Year] TRUE\n",
       "\\item[Advisory\\textbackslash{}\\_rating] TRUE\n",
       "\\item[runtime] TRUE\n",
       "\\item[genre] TRUE\n",
       "\\item[Ratings] TRUE\n",
       "\\item[Description] TRUE\n",
       "\\item[Director] TRUE\n",
       "\\item[Cast] TRUE\n",
       "\\item[User\\textbackslash{}\\_votes] TRUE\n",
       "\\end{description*}\n"
      ],
      "text/markdown": [
       "Index\n",
       ":   FALSEMovie_names\n",
       ":   FALSEYear\n",
       ":   TRUEAdvisory_rating\n",
       ":   TRUEruntime\n",
       ":   TRUEgenre\n",
       ":   TRUERatings\n",
       ":   TRUEDescription\n",
       ":   TRUEDirector\n",
       ":   TRUECast\n",
       ":   TRUEUser_votes\n",
       ":   TRUE\n",
       "\n"
      ],
      "text/plain": [
       "          Index     Movie_names            Year Advisory_rating         runtime \n",
       "          FALSE           FALSE            TRUE            TRUE            TRUE \n",
       "          genre         Ratings     Description        Director            Cast \n",
       "           TRUE            TRUE            TRUE            TRUE            TRUE \n",
       "     User_votes \n",
       "           TRUE "
      ]
     },
     "metadata": {},
     "output_type": "display_data"
    }
   ],
   "source": [
    "apply(imdb_data, 2, function(x) any(is.na(x) | is.infinite(x)))"
   ]
  },
  {
   "cell_type": "code",
   "execution_count": 15,
   "metadata": {},
   "outputs": [
    {
     "data": {
      "text/html": [
       "<table>\n",
       "<caption>A tibble: 50 × 11</caption>\n",
       "<thead>\n",
       "\t<tr><th scope=col>Index</th><th scope=col>Movie_names</th><th scope=col>Year</th><th scope=col>Advisory_rating</th><th scope=col>runtime</th><th scope=col>genre</th><th scope=col>Ratings</th><th scope=col>Description</th><th scope=col>Director</th><th scope=col>Cast</th><th scope=col>User_votes</th></tr>\n",
       "\t<tr><th scope=col>&lt;dbl&gt;</th><th scope=col>&lt;chr&gt;</th><th scope=col>&lt;dbl&gt;</th><th scope=col>&lt;chr&gt;</th><th scope=col>&lt;dbl&gt;</th><th scope=col>&lt;chr&gt;</th><th scope=col>&lt;dbl&gt;</th><th scope=col>&lt;chr&gt;</th><th scope=col>&lt;chr&gt;</th><th scope=col>&lt;chr&gt;</th><th scope=col>&lt;dbl&gt;</th></tr>\n",
       "</thead>\n",
       "<tbody>\n",
       "\t<tr><td> 1</td><td>Enola Holmes                        </td><td>2020</td><td>PG-13</td><td>123</td><td>Adventure</td><td>6.6</td><td>When Enola Holmes-Sherlock's teen sister-discovers her mother missing, she sets off to find her, becoming a super-sleuth in her own right as she outwits her famous brother and unravels a dangerous conspiracy around a mysterious young Lord.</td><td>Harry Bradbeer       </td><td>Millie Bobby Brown   </td><td> 75468</td></tr>\n",
       "\t<tr><td> 2</td><td>The Devil All the Time              </td><td>2020</td><td>R    </td><td>138</td><td>Crime    </td><td>7.1</td><td>Sinister characters converge around a young man devoted to protecting those he loves in a postwar backwoods town teeming with corruption and brutality.                                                                                        </td><td>Antonio Campos       </td><td>Donald Ray Pollock   </td><td> 56302</td></tr>\n",
       "\t<tr><td> 3</td><td>Tenet                               </td><td>2020</td><td>PG-13</td><td>150</td><td>Action   </td><td>7.8</td><td>Armed with only one word, Tenet, and fighting for the survival of the entire world, a Protagonist journeys through a twilight world of international espionage on a mission that will unfold in something beyond real time.                    </td><td>Christopher Nolan    </td><td>John David Washington</td><td>130255</td></tr>\n",
       "\t<tr><td> 4</td><td>The Boys in the Band                </td><td>2020</td><td>R    </td><td>121</td><td>Drama    </td><td>6.8</td><td>At a birthday party in 1968 New York, a surprise guest and a drunken game leave seven gay friends reckoning with unspoken feelings and buried truths.                                                                                          </td><td>Joe Mantello         </td><td>Jim Parsons          </td><td>  5665</td></tr>\n",
       "\t<tr><td> 5</td><td>The Trial of the Chicago 7          </td><td>2020</td><td>R    </td><td>129</td><td>Drama    </td><td>7.6</td><td>The story of 7 people on trial stemming from various charges surrounding the uprising at the 1968 Democratic National Convention in Chicago, Illinois.                                                                                         </td><td>Aaron Sorkin         </td><td>Eddie Redmayne       </td><td>   979</td></tr>\n",
       "\t<tr><td> 6</td><td>After We Collided                   </td><td>2020</td><td>R    </td><td>105</td><td>Drama    </td><td>5.3</td><td>Based on the 2014 romance novel of the same name, this follows the love life of two young adults.                                                                                                                                              </td><td>Roger Kumble         </td><td>Josephine Langford   </td><td>  5104</td></tr>\n",
       "\t<tr><td> 7</td><td>Secret Society of Second Born Royals</td><td>2020</td><td>TV-PG</td><td> 99</td><td>Action   </td><td>4.6</td><td>It follows Sam's adventures at a top-secret training program for a new class of second-born royals tasked with saving the world.                                                                                                               </td><td>Anna Mastro          </td><td>Peyton Elizabeth Lee </td><td>  1782</td></tr>\n",
       "\t<tr><td> 8</td><td>Mulan                               </td><td>2020</td><td>PG-13</td><td>115</td><td>Action   </td><td>5.4</td><td>A young Chinese maiden disguises herself as a male warrior in order to save her father.                                                                                                                                                        </td><td>Niki Caro            </td><td>Yifei Liu            </td><td> 61080</td></tr>\n",
       "\t<tr><td> 9</td><td>I'm Thinking of Ending Things       </td><td>2020</td><td>R    </td><td>134</td><td>Drama    </td><td>6.7</td><td>Full of misgivings, a young woman travels with her new boyfriend to his parents' secluded farm. Upon arriving, she comes to question everything she thought she knew about him, and herself.                                                   </td><td>Charlie Kaufman      </td><td>Jesse Plemons        </td><td> 41548</td></tr>\n",
       "\t<tr><td>10</td><td>The Gentlemen                       </td><td>2019</td><td>R    </td><td>113</td><td>Action   </td><td>7.9</td><td>An American expat tries to sell off his highly profitable marijuana empire in London, triggering plots, schemes, bribery and blackmail in an attempt to steal his domain out from under him.                                                   </td><td>Guy Ritchie          </td><td>Matthew McConaughey  </td><td>191828</td></tr>\n",
       "\t<tr><td>11</td><td>Antebellum                          </td><td>2020</td><td>R    </td><td>105</td><td>Drama    </td><td>5.5</td><td>Successful author Veronica Henley finds herself trapped in a horrifying reality and must uncover the mind-bending mystery before it's too late.                                                                                                </td><td>Gerard Bush          </td><td>Christopher Renz     </td><td>  8402</td></tr>\n",
       "\t<tr><td>12</td><td>365 Days                            </td><td>2020</td><td>TV-MA</td><td>114</td><td>Drama    </td><td>3.3</td><td>Massimo is a member of the Sicilian Mafia family and Laura is a sales director. She does not expect that on a trip to Sicily trying to save her relationship, Massimo will kidnap her and give her 365 days to fall in love with him.          </td><td>Barbara Bialowas     </td><td>Tomasz Mandes        </td><td> 39585</td></tr>\n",
       "\t<tr><td>13</td><td>Ava                                 </td><td>  NA</td><td>R    </td><td> 96</td><td>Action   </td><td>5.3</td><td>Ava is a deadly assassin who works for a black ops organization, traveling the globe specializing in high profile hits. When a job goes dangerously wrong she is forced to fight for her own survival.                                         </td><td>Tate Taylor          </td><td>Jessica Chastain     </td><td> 14009</td></tr>\n",
       "\t<tr><td>14</td><td>Knives Out                          </td><td>2019</td><td>PG-13</td><td>130</td><td>Comedy   </td><td>7.9</td><td>A detective investigates the death of a patriarch of an eccentric, combative family.                                                                                                                                                           </td><td>Rian Johnson         </td><td>Daniel Craig         </td><td>399226</td></tr>\n",
       "\t<tr><td>15</td><td>The Babysitter: Killer Queen        </td><td>2020</td><td>TV-MA</td><td>101</td><td>Comedy   </td><td>5.8</td><td>Two years after Cole survived a satanic blood cult, he's living another nightmare: high school. And the demons from his past? Still making his life hell.                                                                                      </td><td>McG                  </td><td>Judah Lewis          </td><td> 19083</td></tr>\n",
       "\t<tr><td>16</td><td>The Invisible Man                   </td><td>  NA</td><td>R    </td><td>124</td><td>Horror   </td><td>7.1</td><td>When Cecilia's abusive ex takes his own life and leaves her his fortune, she suspects his death was a hoax. As a series of coincidences turn lethal, Cecilia works to prove that she is being hunted by someone nobody can see.                </td><td>Leigh Whannell       </td><td>Elisabeth Moss       </td><td>138606</td></tr>\n",
       "\t<tr><td>17</td><td><span style=white-space:pre-wrap>Bill &amp; Ted Face the Music           </span></td><td>2020</td><td>PG-13</td><td> 91</td><td>Adventure</td><td>6.2</td><td><span style=white-space:pre-wrap>Once told they'd save the universe during a time-traveling adventure, 2 would-be rockers from San Dimas, California find themselves as middle-aged dads still trying to crank out a hit song and fulfill their destiny.                        </span></td><td><span style=white-space:pre-wrap>Dean Parisot         </span></td><td><span style=white-space:pre-wrap>Keanu Reeves         </span></td><td> 20316</td></tr>\n",
       "\t<tr><td>18</td><td>Harley Quinn: Birds of Prey         </td><td>2020</td><td>R    </td><td>109</td><td>Action   </td><td>6.1</td><td>After splitting with the Joker, Harley Quinn joins superheroes Black Canary, Huntress and Renee Montoya to save a young girl from an evil crime lord.                                                                                          </td><td>Cathy Yan            </td><td>Margot Robbie        </td><td>146904</td></tr>\n",
       "\t<tr><td>19</td><td>The Glorias                         </td><td>2020</td><td>R    </td><td>139</td><td>Biography</td><td>4.6</td><td>The story of feminist icon Gloria Steinem's itinerant childhood's influence on her life as a writer, activist and organizer for women's rights worldwide.                                                                                      </td><td>Julie Taymor         </td><td>Julianne Moore       </td><td>  1016</td></tr>\n",
       "\t<tr><td>20</td><td>Joker                               </td><td>2019</td><td>R    </td><td>122</td><td>Crime    </td><td>8.5</td><td>In Gotham City, mentally troubled comedian Arthur Fleck is disregarded and mistreated by society. He then embarks on a downward spiral of revolution and bloody crime. This path brings him face-to-face with his alter-ego: the Joker.        </td><td>Todd Phillips        </td><td>Joaquin Phoenix      </td><td>878389</td></tr>\n",
       "\t<tr><td>21</td><td>Judy                                </td><td>  NA</td><td>PG-13</td><td>118</td><td>Biography</td><td>6.8</td><td>Legendary performer  arrives in London in the winter of 1968 to perform a series of sold-out concerts.                                                                                                                                         </td><td>Rupert Goold         </td><td>Renée Zellweger      </td><td> 36545</td></tr>\n",
       "\t<tr><td>22</td><td>Sound of Metal                      </td><td>2019</td><td>R    </td><td>130</td><td>Drama    </td><td>7.0</td><td>A heavy-metal drummer's life is thrown into freefall when he begins to lose his hearing.                                                                                                                                                       </td><td>Darius Marder        </td><td>Riz Ahmed            </td><td>   409</td></tr>\n",
       "\t<tr><td>23</td><td>Avengers: Endgame                   </td><td>2019</td><td>PG-13</td><td>181</td><td>Action   </td><td>8.4</td><td>After the devastating events of  (2018), the universe is in ruins. With the help of remaining allies, the Avengers assemble once more in order to reverse Thanos' actions and restore balance to the universe.                                 </td><td>Anthony Russo        </td><td>Joe Russo            </td><td>769741</td></tr>\n",
       "\t<tr><td>24</td><td>Once Upon a Time... In Hollywood    </td><td>2019</td><td>R    </td><td>161</td><td>Comedy   </td><td>7.6</td><td>A faded television actor and his stunt double strive to achieve fame and success in the final years of Hollywood's Golden Age in 1969 Los Angeles.                                                                                             </td><td>Quentin Tarantino    </td><td>Leonardo DiCaprio    </td><td>518897</td></tr>\n",
       "\t<tr><td>25</td><td>The New Mutants                     </td><td>2020</td><td>PG-13</td><td> 94</td><td>Action   </td><td>5.5</td><td>Five young mutants, just discovering their abilities while held in a secret facility against their will, fight to escape their past sins and save themselves.                                                                                  </td><td>Josh Boone           </td><td>Maisie Williams      </td><td> 12408</td></tr>\n",
       "\t<tr><td>26</td><td>Parasite                            </td><td>2019</td><td>R    </td><td>132</td><td>Comedy   </td><td>8.6</td><td>Greed and class discrimination threaten the newly formed symbiotic relationship between the wealthy Park family and the destitute Kim clan.                                                                                                    </td><td>Bong Joon Ho         </td><td>Kang-ho Song         </td><td>490021</td></tr>\n",
       "\t<tr><td>27</td><td>The Outpost                         </td><td>2020</td><td>R    </td><td>123</td><td>Action   </td><td>6.7</td><td>A small team of U.S. soldiers battle against hundreds of Taliban fighters in Afghanistan.                                                                                                                                                      </td><td>Rod Lurie            </td><td>Scott Eastwood       </td><td> 12894</td></tr>\n",
       "\t<tr><td>28</td><td>Cuties                              </td><td>2020</td><td>TV-MA</td><td> 96</td><td>Drama    </td><td>2.9</td><td>Amy, an 11-year-old girl, joins a group of dancers named \"the cuties\" at school, and rapidly grows aware of her burgeoning femininity - upsetting her mother and her values in the process.                                                    </td><td>Maïmouna Doucouré    </td><td>Fathia Youssouf      </td><td> 23943</td></tr>\n",
       "\t<tr><td>29</td><td>Greenland                           </td><td>2020</td><td>PG-13</td><td>119</td><td>Action   </td><td>6.5</td><td>A family struggles for survival in the face of a cataclysmic natural disaster.                                                                                                                                                                 </td><td>Ric Roman Waugh      </td><td>Gerard Butler        </td><td>  4146</td></tr>\n",
       "\t<tr><td>30</td><td>Minari                              </td><td>2020</td><td>PG-13</td><td>115</td><td>Drama    </td><td>7.7</td><td>A Korean family moves to Arkansas to start a farm in the 1980s.                                                                                                                                                                                </td><td>Lee Isaac Chung      </td><td>Steven Yeun          </td><td>   265</td></tr>\n",
       "\t<tr><td>31</td><td>The Babysitter                      </td><td>  NA</td><td>TV-MA</td><td> 85</td><td>Comedy   </td><td>6.3</td><td>The events of one evening take an unexpected turn for the worst for a young boy trying to spy on his babysitter.                                                                                                                               </td><td>McG                  </td><td>Judah Lewis          </td><td> 68139</td></tr>\n",
       "\t<tr><td>32</td><td>Hamilton                            </td><td>2020</td><td>PG-13</td><td>160</td><td>Biography</td><td>8.7</td><td>The real life of one of America's foremost founding fathers and first Secretary of the Treasury, Alexander Hamilton. Captured live on Broadway from the Richard Rodgers Theater with the original Broadway cast.                               </td><td>Thomas Kail          </td><td>Lin-Manuel Miranda   </td><td> 43197</td></tr>\n",
       "\t<tr><td>33</td><td>Gemini Man                          </td><td>2019</td><td>PG-13</td><td>117</td><td>Action   </td><td>5.7</td><td>An over-the-hill hitman faces off against a younger clone of himself.                                                                                                                                                                          </td><td>Ang Lee              </td><td>Will Smith           </td><td> 79400</td></tr>\n",
       "\t<tr><td>34</td><td>Ford v Ferrari                      </td><td>2019</td><td>PG-13</td><td>152</td><td>Action   </td><td>8.1</td><td>American car designer  and driver  battle corporate interference and the laws of physics to build a revolutionary race car for Ford in order to defeat Ferrari at the 24 Hours of Le Mans in 1966.                                             </td><td>James Mangold        </td><td>Matt Damon           </td><td>264096</td></tr>\n",
       "\t<tr><td>35</td><td>Jojo Rabbit                         </td><td>2019</td><td>PG-13</td><td>108</td><td>Comedy   </td><td>7.9</td><td>A young boy in Hitler's army finds out his mother is hiding a Jewish girl in their home.                                                                                                                                                       </td><td>Taika Waititi        </td><td>Roman Griffin Davis  </td><td>265476</td></tr>\n",
       "\t<tr><td>36</td><td>Black Panther                       </td><td>2018</td><td>PG-13</td><td>134</td><td>Action   </td><td>7.3</td><td>T'Challa, heir to the hidden but advanced kingdom of Wakanda, must step forward to lead his people into a new future and must confront a challenger from his country's past.                                                                   </td><td>Ryan Coogler         </td><td>Chadwick Boseman     </td><td>610094</td></tr>\n",
       "\t<tr><td>37</td><td>The Silencing                       </td><td>2020</td><td>R    </td><td> 93</td><td>Action   </td><td>6.1</td><td>A reformed hunter living in isolation on a wildlife sanctuary becomes involved in a deadly game of cat and mouse when he and the local Sheriff set out to track a vicious killer who may have kidnapped his daughter years ago.                </td><td>Robin Pront          </td><td>Nikolaj Coster-Waldau</td><td>  7052</td></tr>\n",
       "\t<tr><td>38</td><td>Just Mercy                          </td><td>2019</td><td>PG-13</td><td>137</td><td>Biography</td><td>7.6</td><td>World-renowned civil rights defense attorney  works to free a wrongly condemned death row prisoner.                                                                                                                                            </td><td>Destin Daniel Cretton</td><td>Michael B. Jordan    </td><td> 40349</td></tr>\n",
       "\t<tr><td>39</td><td>The Old Guard                       </td><td>2020</td><td>R    </td><td>125</td><td>Action   </td><td>6.6</td><td>A covert team of immortal mercenaries is suddenly exposed and must now fight to keep their identity a secret just as an unexpected new member is discovered.                                                                                   </td><td>Gina Prince-Bythewood</td><td>Charlize Theron      </td><td>108551</td></tr>\n",
       "\t<tr><td>40</td><td>Possessor Uncut                     </td><td>2020</td><td>NA   </td><td>103</td><td>Horror   </td><td>6.4</td><td>Possessor follows an agent who works for a secretive organization that uses brain-implant technology to inhabit other people's bodies - ultimately driving them to commit assassinations for high-paying clients.                              </td><td>Brandon Cronenberg   </td><td>Andrea Riseborough   </td><td>  2522</td></tr>\n",
       "\t<tr><td>41</td><td>After                               </td><td>2019</td><td>PG-13</td><td>105</td><td>Drama    </td><td>5.3</td><td>A young woman falls for a guy with a dark secret and the two embark on a rocky relationship. Based on the novel by .                                                                                                                           </td><td>Jenny Gage           </td><td>Josephine Langford   </td><td> 32899</td></tr>\n",
       "\t<tr><td>42</td><td>Alone                               </td><td>  NA</td><td>NA   </td><td> 98</td><td>Thriller </td><td>6.2</td><td>A recently widowed traveler is kidnapped by a cold blooded killer, only to escape into the wilderness where she is forced to battle against the elements as her pursuer closes in on her.                                                      </td><td>John Hyams           </td><td>Jules Willcox        </td><td>  2982</td></tr>\n",
       "\t<tr><td>43</td><td>Doctor Sleep                        </td><td>2019</td><td>R    </td><td>152</td><td>Drama    </td><td>7.4</td><td>Years following the events of  (1980), a now-adult Dan Torrance must protect a young girl with similar powers from a cult known as The True Knot, who prey on children with powers to remain immortal.                                         </td><td>Mike Flanagan        </td><td>Ewan McGregor        </td><td>128128</td></tr>\n",
       "\t<tr><td>44</td><td>21 Bridges                          </td><td>2019</td><td>R    </td><td> 99</td><td>Action   </td><td>6.6</td><td>An embattled NYPD detective is thrust into a citywide manhunt for a pair of cop killers after uncovering a massive and unexpected conspiracy.                                                                                                  </td><td>Brian Kirk           </td><td>Chadwick Boseman     </td><td> 42312</td></tr>\n",
       "\t<tr><td>45</td><td>The Addams Family                   </td><td>2019</td><td>PG   </td><td> 86</td><td>Animation</td><td>5.8</td><td>The eccentrically macabre family moves to a bland suburb where Wednesday Addams' friendship with the daughter of a hostile and conformist local reality show host exacerbates conflict between the families.                                   </td><td>Greg Tiernan         </td><td>Conrad Vernon        </td><td> 25016</td></tr>\n",
       "\t<tr><td>46</td><td>Midsommar: The Directors Cut        </td><td>2019</td><td>R    </td><td>148</td><td>Drama    </td><td>7.1</td><td>A couple travels to Sweden to visit a rural hometown's fabled mid-summer festival. What begins as an idyllic retreat quickly devolves into an increasingly violent and bizarre competition at the hands of a pagan cult.                       </td><td>Ari Aster            </td><td>Florence Pugh        </td><td>182268</td></tr>\n",
       "\t<tr><td>47</td><td>Unhinged                            </td><td>2020</td><td>R    </td><td> 90</td><td>Action   </td><td>6.2</td><td>After a confrontation with an unstable man at an intersection, a woman becomes the target of his rage.                                                                                                                                         </td><td>Derrick Borte        </td><td>Russell Crowe        </td><td>  7405</td></tr>\n",
       "\t<tr><td>48</td><td>Blade Runner 2049                   </td><td>2017</td><td>R    </td><td>164</td><td>Action   </td><td>8.0</td><td>Young Blade Runner K's discovery of a long-buried secret leads him to track down former Blade Runner Rick Deckard, who's been missing for thirty years.                                                                                        </td><td>Denis Villeneuve     </td><td>Harrison Ford        </td><td>446207</td></tr>\n",
       "\t<tr><td>49</td><td>Terminator: Dark Fate               </td><td>2019</td><td>R    </td><td>128</td><td>Action   </td><td>6.2</td><td>An augmented human and Sarah Connor must stop an advanced liquid Terminator from hunting down a young girl, whose fate is critical to the human race.                                                                                          </td><td>Tim Miller           </td><td>Linda Hamilton       </td><td>137704</td></tr>\n",
       "\t<tr><td>50</td><td>1917                                </td><td>2019</td><td>R    </td><td>119</td><td>Drama    </td><td>8.3</td><td>April 6th, 1917. As a regiment assembles to wage war deep in enemy territory, two soldiers are assigned to race against time and deliver a message that will stop 1,600 men from walking straight into a deadly trap.                          </td><td>Sam Mendes           </td><td>Dean-Charles Chapman </td><td>375395</td></tr>\n",
       "</tbody>\n",
       "</table>\n"
      ],
      "text/latex": [
       "A tibble: 50 × 11\n",
       "\\begin{tabular}{lllllllllll}\n",
       " Index & Movie\\_names & Year & Advisory\\_rating & runtime & genre & Ratings & Description & Director & Cast & User\\_votes\\\\\n",
       " <dbl> & <chr> & <dbl> & <chr> & <dbl> & <chr> & <dbl> & <chr> & <chr> & <chr> & <dbl>\\\\\n",
       "\\hline\n",
       "\t  1 & Enola Holmes                         & 2020 & PG-13 & 123 & Adventure & 6.6 & When Enola Holmes-Sherlock's teen sister-discovers her mother missing, she sets off to find her, becoming a super-sleuth in her own right as she outwits her famous brother and unravels a dangerous conspiracy around a mysterious young Lord. & Harry Bradbeer        & Millie Bobby Brown    &  75468\\\\\n",
       "\t  2 & The Devil All the Time               & 2020 & R     & 138 & Crime     & 7.1 & Sinister characters converge around a young man devoted to protecting those he loves in a postwar backwoods town teeming with corruption and brutality.                                                                                         & Antonio Campos        & Donald Ray Pollock    &  56302\\\\\n",
       "\t  3 & Tenet                                & 2020 & PG-13 & 150 & Action    & 7.8 & Armed with only one word, Tenet, and fighting for the survival of the entire world, a Protagonist journeys through a twilight world of international espionage on a mission that will unfold in something beyond real time.                     & Christopher Nolan     & John David Washington & 130255\\\\\n",
       "\t  4 & The Boys in the Band                 & 2020 & R     & 121 & Drama     & 6.8 & At a birthday party in 1968 New York, a surprise guest and a drunken game leave seven gay friends reckoning with unspoken feelings and buried truths.                                                                                           & Joe Mantello          & Jim Parsons           &   5665\\\\\n",
       "\t  5 & The Trial of the Chicago 7           & 2020 & R     & 129 & Drama     & 7.6 & The story of 7 people on trial stemming from various charges surrounding the uprising at the 1968 Democratic National Convention in Chicago, Illinois.                                                                                          & Aaron Sorkin          & Eddie Redmayne        &    979\\\\\n",
       "\t  6 & After We Collided                    & 2020 & R     & 105 & Drama     & 5.3 & Based on the 2014 romance novel of the same name, this follows the love life of two young adults.                                                                                                                                               & Roger Kumble          & Josephine Langford    &   5104\\\\\n",
       "\t  7 & Secret Society of Second Born Royals & 2020 & TV-PG &  99 & Action    & 4.6 & It follows Sam's adventures at a top-secret training program for a new class of second-born royals tasked with saving the world.                                                                                                                & Anna Mastro           & Peyton Elizabeth Lee  &   1782\\\\\n",
       "\t  8 & Mulan                                & 2020 & PG-13 & 115 & Action    & 5.4 & A young Chinese maiden disguises herself as a male warrior in order to save her father.                                                                                                                                                         & Niki Caro             & Yifei Liu             &  61080\\\\\n",
       "\t  9 & I'm Thinking of Ending Things        & 2020 & R     & 134 & Drama     & 6.7 & Full of misgivings, a young woman travels with her new boyfriend to his parents' secluded farm. Upon arriving, she comes to question everything she thought she knew about him, and herself.                                                    & Charlie Kaufman       & Jesse Plemons         &  41548\\\\\n",
       "\t 10 & The Gentlemen                        & 2019 & R     & 113 & Action    & 7.9 & An American expat tries to sell off his highly profitable marijuana empire in London, triggering plots, schemes, bribery and blackmail in an attempt to steal his domain out from under him.                                                    & Guy Ritchie           & Matthew McConaughey   & 191828\\\\\n",
       "\t 11 & Antebellum                           & 2020 & R     & 105 & Drama     & 5.5 & Successful author Veronica Henley finds herself trapped in a horrifying reality and must uncover the mind-bending mystery before it's too late.                                                                                                 & Gerard Bush           & Christopher Renz      &   8402\\\\\n",
       "\t 12 & 365 Days                             & 2020 & TV-MA & 114 & Drama     & 3.3 & Massimo is a member of the Sicilian Mafia family and Laura is a sales director. She does not expect that on a trip to Sicily trying to save her relationship, Massimo will kidnap her and give her 365 days to fall in love with him.           & Barbara Bialowas      & Tomasz Mandes         &  39585\\\\\n",
       "\t 13 & Ava                                  &   NA & R     &  96 & Action    & 5.3 & Ava is a deadly assassin who works for a black ops organization, traveling the globe specializing in high profile hits. When a job goes dangerously wrong she is forced to fight for her own survival.                                          & Tate Taylor           & Jessica Chastain      &  14009\\\\\n",
       "\t 14 & Knives Out                           & 2019 & PG-13 & 130 & Comedy    & 7.9 & A detective investigates the death of a patriarch of an eccentric, combative family.                                                                                                                                                            & Rian Johnson          & Daniel Craig          & 399226\\\\\n",
       "\t 15 & The Babysitter: Killer Queen         & 2020 & TV-MA & 101 & Comedy    & 5.8 & Two years after Cole survived a satanic blood cult, he's living another nightmare: high school. And the demons from his past? Still making his life hell.                                                                                       & McG                   & Judah Lewis           &  19083\\\\\n",
       "\t 16 & The Invisible Man                    &   NA & R     & 124 & Horror    & 7.1 & When Cecilia's abusive ex takes his own life and leaves her his fortune, she suspects his death was a hoax. As a series of coincidences turn lethal, Cecilia works to prove that she is being hunted by someone nobody can see.                 & Leigh Whannell        & Elisabeth Moss        & 138606\\\\\n",
       "\t 17 & Bill \\& Ted Face the Music            & 2020 & PG-13 &  91 & Adventure & 6.2 & Once told they'd save the universe during a time-traveling adventure, 2 would-be rockers from San Dimas, California find themselves as middle-aged dads still trying to crank out a hit song and fulfill their destiny.                         & Dean Parisot          & Keanu Reeves          &  20316\\\\\n",
       "\t 18 & Harley Quinn: Birds of Prey          & 2020 & R     & 109 & Action    & 6.1 & After splitting with the Joker, Harley Quinn joins superheroes Black Canary, Huntress and Renee Montoya to save a young girl from an evil crime lord.                                                                                           & Cathy Yan             & Margot Robbie         & 146904\\\\\n",
       "\t 19 & The Glorias                          & 2020 & R     & 139 & Biography & 4.6 & The story of feminist icon Gloria Steinem's itinerant childhood's influence on her life as a writer, activist and organizer for women's rights worldwide.                                                                                       & Julie Taymor          & Julianne Moore        &   1016\\\\\n",
       "\t 20 & Joker                                & 2019 & R     & 122 & Crime     & 8.5 & In Gotham City, mentally troubled comedian Arthur Fleck is disregarded and mistreated by society. He then embarks on a downward spiral of revolution and bloody crime. This path brings him face-to-face with his alter-ego: the Joker.         & Todd Phillips         & Joaquin Phoenix       & 878389\\\\\n",
       "\t 21 & Judy                                 &   NA & PG-13 & 118 & Biography & 6.8 & Legendary performer  arrives in London in the winter of 1968 to perform a series of sold-out concerts.                                                                                                                                          & Rupert Goold          & Renée Zellweger       &  36545\\\\\n",
       "\t 22 & Sound of Metal                       & 2019 & R     & 130 & Drama     & 7.0 & A heavy-metal drummer's life is thrown into freefall when he begins to lose his hearing.                                                                                                                                                        & Darius Marder         & Riz Ahmed             &    409\\\\\n",
       "\t 23 & Avengers: Endgame                    & 2019 & PG-13 & 181 & Action    & 8.4 & After the devastating events of  (2018), the universe is in ruins. With the help of remaining allies, the Avengers assemble once more in order to reverse Thanos' actions and restore balance to the universe.                                  & Anthony Russo         & Joe Russo             & 769741\\\\\n",
       "\t 24 & Once Upon a Time... In Hollywood     & 2019 & R     & 161 & Comedy    & 7.6 & A faded television actor and his stunt double strive to achieve fame and success in the final years of Hollywood's Golden Age in 1969 Los Angeles.                                                                                              & Quentin Tarantino     & Leonardo DiCaprio     & 518897\\\\\n",
       "\t 25 & The New Mutants                      & 2020 & PG-13 &  94 & Action    & 5.5 & Five young mutants, just discovering their abilities while held in a secret facility against their will, fight to escape their past sins and save themselves.                                                                                   & Josh Boone            & Maisie Williams       &  12408\\\\\n",
       "\t 26 & Parasite                             & 2019 & R     & 132 & Comedy    & 8.6 & Greed and class discrimination threaten the newly formed symbiotic relationship between the wealthy Park family and the destitute Kim clan.                                                                                                     & Bong Joon Ho          & Kang-ho Song          & 490021\\\\\n",
       "\t 27 & The Outpost                          & 2020 & R     & 123 & Action    & 6.7 & A small team of U.S. soldiers battle against hundreds of Taliban fighters in Afghanistan.                                                                                                                                                       & Rod Lurie             & Scott Eastwood        &  12894\\\\\n",
       "\t 28 & Cuties                               & 2020 & TV-MA &  96 & Drama     & 2.9 & Amy, an 11-year-old girl, joins a group of dancers named \"the cuties\" at school, and rapidly grows aware of her burgeoning femininity - upsetting her mother and her values in the process.                                                     & Maïmouna Doucouré     & Fathia Youssouf       &  23943\\\\\n",
       "\t 29 & Greenland                            & 2020 & PG-13 & 119 & Action    & 6.5 & A family struggles for survival in the face of a cataclysmic natural disaster.                                                                                                                                                                  & Ric Roman Waugh       & Gerard Butler         &   4146\\\\\n",
       "\t 30 & Minari                               & 2020 & PG-13 & 115 & Drama     & 7.7 & A Korean family moves to Arkansas to start a farm in the 1980s.                                                                                                                                                                                 & Lee Isaac Chung       & Steven Yeun           &    265\\\\\n",
       "\t 31 & The Babysitter                       &   NA & TV-MA &  85 & Comedy    & 6.3 & The events of one evening take an unexpected turn for the worst for a young boy trying to spy on his babysitter.                                                                                                                                & McG                   & Judah Lewis           &  68139\\\\\n",
       "\t 32 & Hamilton                             & 2020 & PG-13 & 160 & Biography & 8.7 & The real life of one of America's foremost founding fathers and first Secretary of the Treasury, Alexander Hamilton. Captured live on Broadway from the Richard Rodgers Theater with the original Broadway cast.                                & Thomas Kail           & Lin-Manuel Miranda    &  43197\\\\\n",
       "\t 33 & Gemini Man                           & 2019 & PG-13 & 117 & Action    & 5.7 & An over-the-hill hitman faces off against a younger clone of himself.                                                                                                                                                                           & Ang Lee               & Will Smith            &  79400\\\\\n",
       "\t 34 & Ford v Ferrari                       & 2019 & PG-13 & 152 & Action    & 8.1 & American car designer  and driver  battle corporate interference and the laws of physics to build a revolutionary race car for Ford in order to defeat Ferrari at the 24 Hours of Le Mans in 1966.                                              & James Mangold         & Matt Damon            & 264096\\\\\n",
       "\t 35 & Jojo Rabbit                          & 2019 & PG-13 & 108 & Comedy    & 7.9 & A young boy in Hitler's army finds out his mother is hiding a Jewish girl in their home.                                                                                                                                                        & Taika Waititi         & Roman Griffin Davis   & 265476\\\\\n",
       "\t 36 & Black Panther                        & 2018 & PG-13 & 134 & Action    & 7.3 & T'Challa, heir to the hidden but advanced kingdom of Wakanda, must step forward to lead his people into a new future and must confront a challenger from his country's past.                                                                    & Ryan Coogler          & Chadwick Boseman      & 610094\\\\\n",
       "\t 37 & The Silencing                        & 2020 & R     &  93 & Action    & 6.1 & A reformed hunter living in isolation on a wildlife sanctuary becomes involved in a deadly game of cat and mouse when he and the local Sheriff set out to track a vicious killer who may have kidnapped his daughter years ago.                 & Robin Pront           & Nikolaj Coster-Waldau &   7052\\\\\n",
       "\t 38 & Just Mercy                           & 2019 & PG-13 & 137 & Biography & 7.6 & World-renowned civil rights defense attorney  works to free a wrongly condemned death row prisoner.                                                                                                                                             & Destin Daniel Cretton & Michael B. Jordan     &  40349\\\\\n",
       "\t 39 & The Old Guard                        & 2020 & R     & 125 & Action    & 6.6 & A covert team of immortal mercenaries is suddenly exposed and must now fight to keep their identity a secret just as an unexpected new member is discovered.                                                                                    & Gina Prince-Bythewood & Charlize Theron       & 108551\\\\\n",
       "\t 40 & Possessor Uncut                      & 2020 & NA    & 103 & Horror    & 6.4 & Possessor follows an agent who works for a secretive organization that uses brain-implant technology to inhabit other people's bodies - ultimately driving them to commit assassinations for high-paying clients.                               & Brandon Cronenberg    & Andrea Riseborough    &   2522\\\\\n",
       "\t 41 & After                                & 2019 & PG-13 & 105 & Drama     & 5.3 & A young woman falls for a guy with a dark secret and the two embark on a rocky relationship. Based on the novel by .                                                                                                                            & Jenny Gage            & Josephine Langford    &  32899\\\\\n",
       "\t 42 & Alone                                &   NA & NA    &  98 & Thriller  & 6.2 & A recently widowed traveler is kidnapped by a cold blooded killer, only to escape into the wilderness where she is forced to battle against the elements as her pursuer closes in on her.                                                       & John Hyams            & Jules Willcox         &   2982\\\\\n",
       "\t 43 & Doctor Sleep                         & 2019 & R     & 152 & Drama     & 7.4 & Years following the events of  (1980), a now-adult Dan Torrance must protect a young girl with similar powers from a cult known as The True Knot, who prey on children with powers to remain immortal.                                          & Mike Flanagan         & Ewan McGregor         & 128128\\\\\n",
       "\t 44 & 21 Bridges                           & 2019 & R     &  99 & Action    & 6.6 & An embattled NYPD detective is thrust into a citywide manhunt for a pair of cop killers after uncovering a massive and unexpected conspiracy.                                                                                                   & Brian Kirk            & Chadwick Boseman      &  42312\\\\\n",
       "\t 45 & The Addams Family                    & 2019 & PG    &  86 & Animation & 5.8 & The eccentrically macabre family moves to a bland suburb where Wednesday Addams' friendship with the daughter of a hostile and conformist local reality show host exacerbates conflict between the families.                                    & Greg Tiernan          & Conrad Vernon         &  25016\\\\\n",
       "\t 46 & Midsommar: The Directors Cut         & 2019 & R     & 148 & Drama     & 7.1 & A couple travels to Sweden to visit a rural hometown's fabled mid-summer festival. What begins as an idyllic retreat quickly devolves into an increasingly violent and bizarre competition at the hands of a pagan cult.                        & Ari Aster             & Florence Pugh         & 182268\\\\\n",
       "\t 47 & Unhinged                             & 2020 & R     &  90 & Action    & 6.2 & After a confrontation with an unstable man at an intersection, a woman becomes the target of his rage.                                                                                                                                          & Derrick Borte         & Russell Crowe         &   7405\\\\\n",
       "\t 48 & Blade Runner 2049                    & 2017 & R     & 164 & Action    & 8.0 & Young Blade Runner K's discovery of a long-buried secret leads him to track down former Blade Runner Rick Deckard, who's been missing for thirty years.                                                                                         & Denis Villeneuve      & Harrison Ford         & 446207\\\\\n",
       "\t 49 & Terminator: Dark Fate                & 2019 & R     & 128 & Action    & 6.2 & An augmented human and Sarah Connor must stop an advanced liquid Terminator from hunting down a young girl, whose fate is critical to the human race.                                                                                           & Tim Miller            & Linda Hamilton        & 137704\\\\\n",
       "\t 50 & 1917                                 & 2019 & R     & 119 & Drama     & 8.3 & April 6th, 1917. As a regiment assembles to wage war deep in enemy territory, two soldiers are assigned to race against time and deliver a message that will stop 1,600 men from walking straight into a deadly trap.                           & Sam Mendes            & Dean-Charles Chapman  & 375395\\\\\n",
       "\\end{tabular}\n"
      ],
      "text/markdown": [
       "\n",
       "A tibble: 50 × 11\n",
       "\n",
       "| Index &lt;dbl&gt; | Movie_names &lt;chr&gt; | Year &lt;dbl&gt; | Advisory_rating &lt;chr&gt; | runtime &lt;dbl&gt; | genre &lt;chr&gt; | Ratings &lt;dbl&gt; | Description &lt;chr&gt; | Director &lt;chr&gt; | Cast &lt;chr&gt; | User_votes &lt;dbl&gt; |\n",
       "|---|---|---|---|---|---|---|---|---|---|---|\n",
       "|  1 | Enola Holmes                         | 2020 | PG-13 | 123 | Adventure | 6.6 | When Enola Holmes-Sherlock's teen sister-discovers her mother missing, she sets off to find her, becoming a super-sleuth in her own right as she outwits her famous brother and unravels a dangerous conspiracy around a mysterious young Lord. | Harry Bradbeer        | Millie Bobby Brown    |  75468 |\n",
       "|  2 | The Devil All the Time               | 2020 | R     | 138 | Crime     | 7.1 | Sinister characters converge around a young man devoted to protecting those he loves in a postwar backwoods town teeming with corruption and brutality.                                                                                         | Antonio Campos        | Donald Ray Pollock    |  56302 |\n",
       "|  3 | Tenet                                | 2020 | PG-13 | 150 | Action    | 7.8 | Armed with only one word, Tenet, and fighting for the survival of the entire world, a Protagonist journeys through a twilight world of international espionage on a mission that will unfold in something beyond real time.                     | Christopher Nolan     | John David Washington | 130255 |\n",
       "|  4 | The Boys in the Band                 | 2020 | R     | 121 | Drama     | 6.8 | At a birthday party in 1968 New York, a surprise guest and a drunken game leave seven gay friends reckoning with unspoken feelings and buried truths.                                                                                           | Joe Mantello          | Jim Parsons           |   5665 |\n",
       "|  5 | The Trial of the Chicago 7           | 2020 | R     | 129 | Drama     | 7.6 | The story of 7 people on trial stemming from various charges surrounding the uprising at the 1968 Democratic National Convention in Chicago, Illinois.                                                                                          | Aaron Sorkin          | Eddie Redmayne        |    979 |\n",
       "|  6 | After We Collided                    | 2020 | R     | 105 | Drama     | 5.3 | Based on the 2014 romance novel of the same name, this follows the love life of two young adults.                                                                                                                                               | Roger Kumble          | Josephine Langford    |   5104 |\n",
       "|  7 | Secret Society of Second Born Royals | 2020 | TV-PG |  99 | Action    | 4.6 | It follows Sam's adventures at a top-secret training program for a new class of second-born royals tasked with saving the world.                                                                                                                | Anna Mastro           | Peyton Elizabeth Lee  |   1782 |\n",
       "|  8 | Mulan                                | 2020 | PG-13 | 115 | Action    | 5.4 | A young Chinese maiden disguises herself as a male warrior in order to save her father.                                                                                                                                                         | Niki Caro             | Yifei Liu             |  61080 |\n",
       "|  9 | I'm Thinking of Ending Things        | 2020 | R     | 134 | Drama     | 6.7 | Full of misgivings, a young woman travels with her new boyfriend to his parents' secluded farm. Upon arriving, she comes to question everything she thought she knew about him, and herself.                                                    | Charlie Kaufman       | Jesse Plemons         |  41548 |\n",
       "| 10 | The Gentlemen                        | 2019 | R     | 113 | Action    | 7.9 | An American expat tries to sell off his highly profitable marijuana empire in London, triggering plots, schemes, bribery and blackmail in an attempt to steal his domain out from under him.                                                    | Guy Ritchie           | Matthew McConaughey   | 191828 |\n",
       "| 11 | Antebellum                           | 2020 | R     | 105 | Drama     | 5.5 | Successful author Veronica Henley finds herself trapped in a horrifying reality and must uncover the mind-bending mystery before it's too late.                                                                                                 | Gerard Bush           | Christopher Renz      |   8402 |\n",
       "| 12 | 365 Days                             | 2020 | TV-MA | 114 | Drama     | 3.3 | Massimo is a member of the Sicilian Mafia family and Laura is a sales director. She does not expect that on a trip to Sicily trying to save her relationship, Massimo will kidnap her and give her 365 days to fall in love with him.           | Barbara Bialowas      | Tomasz Mandes         |  39585 |\n",
       "| 13 | Ava                                  |   NA | R     |  96 | Action    | 5.3 | Ava is a deadly assassin who works for a black ops organization, traveling the globe specializing in high profile hits. When a job goes dangerously wrong she is forced to fight for her own survival.                                          | Tate Taylor           | Jessica Chastain      |  14009 |\n",
       "| 14 | Knives Out                           | 2019 | PG-13 | 130 | Comedy    | 7.9 | A detective investigates the death of a patriarch of an eccentric, combative family.                                                                                                                                                            | Rian Johnson          | Daniel Craig          | 399226 |\n",
       "| 15 | The Babysitter: Killer Queen         | 2020 | TV-MA | 101 | Comedy    | 5.8 | Two years after Cole survived a satanic blood cult, he's living another nightmare: high school. And the demons from his past? Still making his life hell.                                                                                       | McG                   | Judah Lewis           |  19083 |\n",
       "| 16 | The Invisible Man                    |   NA | R     | 124 | Horror    | 7.1 | When Cecilia's abusive ex takes his own life and leaves her his fortune, she suspects his death was a hoax. As a series of coincidences turn lethal, Cecilia works to prove that she is being hunted by someone nobody can see.                 | Leigh Whannell        | Elisabeth Moss        | 138606 |\n",
       "| 17 | Bill &amp; Ted Face the Music            | 2020 | PG-13 |  91 | Adventure | 6.2 | Once told they'd save the universe during a time-traveling adventure, 2 would-be rockers from San Dimas, California find themselves as middle-aged dads still trying to crank out a hit song and fulfill their destiny.                         | Dean Parisot          | Keanu Reeves          |  20316 |\n",
       "| 18 | Harley Quinn: Birds of Prey          | 2020 | R     | 109 | Action    | 6.1 | After splitting with the Joker, Harley Quinn joins superheroes Black Canary, Huntress and Renee Montoya to save a young girl from an evil crime lord.                                                                                           | Cathy Yan             | Margot Robbie         | 146904 |\n",
       "| 19 | The Glorias                          | 2020 | R     | 139 | Biography | 4.6 | The story of feminist icon Gloria Steinem's itinerant childhood's influence on her life as a writer, activist and organizer for women's rights worldwide.                                                                                       | Julie Taymor          | Julianne Moore        |   1016 |\n",
       "| 20 | Joker                                | 2019 | R     | 122 | Crime     | 8.5 | In Gotham City, mentally troubled comedian Arthur Fleck is disregarded and mistreated by society. He then embarks on a downward spiral of revolution and bloody crime. This path brings him face-to-face with his alter-ego: the Joker.         | Todd Phillips         | Joaquin Phoenix       | 878389 |\n",
       "| 21 | Judy                                 |   NA | PG-13 | 118 | Biography | 6.8 | Legendary performer  arrives in London in the winter of 1968 to perform a series of sold-out concerts.                                                                                                                                          | Rupert Goold          | Renée Zellweger       |  36545 |\n",
       "| 22 | Sound of Metal                       | 2019 | R     | 130 | Drama     | 7.0 | A heavy-metal drummer's life is thrown into freefall when he begins to lose his hearing.                                                                                                                                                        | Darius Marder         | Riz Ahmed             |    409 |\n",
       "| 23 | Avengers: Endgame                    | 2019 | PG-13 | 181 | Action    | 8.4 | After the devastating events of  (2018), the universe is in ruins. With the help of remaining allies, the Avengers assemble once more in order to reverse Thanos' actions and restore balance to the universe.                                  | Anthony Russo         | Joe Russo             | 769741 |\n",
       "| 24 | Once Upon a Time... In Hollywood     | 2019 | R     | 161 | Comedy    | 7.6 | A faded television actor and his stunt double strive to achieve fame and success in the final years of Hollywood's Golden Age in 1969 Los Angeles.                                                                                              | Quentin Tarantino     | Leonardo DiCaprio     | 518897 |\n",
       "| 25 | The New Mutants                      | 2020 | PG-13 |  94 | Action    | 5.5 | Five young mutants, just discovering their abilities while held in a secret facility against their will, fight to escape their past sins and save themselves.                                                                                   | Josh Boone            | Maisie Williams       |  12408 |\n",
       "| 26 | Parasite                             | 2019 | R     | 132 | Comedy    | 8.6 | Greed and class discrimination threaten the newly formed symbiotic relationship between the wealthy Park family and the destitute Kim clan.                                                                                                     | Bong Joon Ho          | Kang-ho Song          | 490021 |\n",
       "| 27 | The Outpost                          | 2020 | R     | 123 | Action    | 6.7 | A small team of U.S. soldiers battle against hundreds of Taliban fighters in Afghanistan.                                                                                                                                                       | Rod Lurie             | Scott Eastwood        |  12894 |\n",
       "| 28 | Cuties                               | 2020 | TV-MA |  96 | Drama     | 2.9 | Amy, an 11-year-old girl, joins a group of dancers named \"the cuties\" at school, and rapidly grows aware of her burgeoning femininity - upsetting her mother and her values in the process.                                                     | Maïmouna Doucouré     | Fathia Youssouf       |  23943 |\n",
       "| 29 | Greenland                            | 2020 | PG-13 | 119 | Action    | 6.5 | A family struggles for survival in the face of a cataclysmic natural disaster.                                                                                                                                                                  | Ric Roman Waugh       | Gerard Butler         |   4146 |\n",
       "| 30 | Minari                               | 2020 | PG-13 | 115 | Drama     | 7.7 | A Korean family moves to Arkansas to start a farm in the 1980s.                                                                                                                                                                                 | Lee Isaac Chung       | Steven Yeun           |    265 |\n",
       "| 31 | The Babysitter                       |   NA | TV-MA |  85 | Comedy    | 6.3 | The events of one evening take an unexpected turn for the worst for a young boy trying to spy on his babysitter.                                                                                                                                | McG                   | Judah Lewis           |  68139 |\n",
       "| 32 | Hamilton                             | 2020 | PG-13 | 160 | Biography | 8.7 | The real life of one of America's foremost founding fathers and first Secretary of the Treasury, Alexander Hamilton. Captured live on Broadway from the Richard Rodgers Theater with the original Broadway cast.                                | Thomas Kail           | Lin-Manuel Miranda    |  43197 |\n",
       "| 33 | Gemini Man                           | 2019 | PG-13 | 117 | Action    | 5.7 | An over-the-hill hitman faces off against a younger clone of himself.                                                                                                                                                                           | Ang Lee               | Will Smith            |  79400 |\n",
       "| 34 | Ford v Ferrari                       | 2019 | PG-13 | 152 | Action    | 8.1 | American car designer  and driver  battle corporate interference and the laws of physics to build a revolutionary race car for Ford in order to defeat Ferrari at the 24 Hours of Le Mans in 1966.                                              | James Mangold         | Matt Damon            | 264096 |\n",
       "| 35 | Jojo Rabbit                          | 2019 | PG-13 | 108 | Comedy    | 7.9 | A young boy in Hitler's army finds out his mother is hiding a Jewish girl in their home.                                                                                                                                                        | Taika Waititi         | Roman Griffin Davis   | 265476 |\n",
       "| 36 | Black Panther                        | 2018 | PG-13 | 134 | Action    | 7.3 | T'Challa, heir to the hidden but advanced kingdom of Wakanda, must step forward to lead his people into a new future and must confront a challenger from his country's past.                                                                    | Ryan Coogler          | Chadwick Boseman      | 610094 |\n",
       "| 37 | The Silencing                        | 2020 | R     |  93 | Action    | 6.1 | A reformed hunter living in isolation on a wildlife sanctuary becomes involved in a deadly game of cat and mouse when he and the local Sheriff set out to track a vicious killer who may have kidnapped his daughter years ago.                 | Robin Pront           | Nikolaj Coster-Waldau |   7052 |\n",
       "| 38 | Just Mercy                           | 2019 | PG-13 | 137 | Biography | 7.6 | World-renowned civil rights defense attorney  works to free a wrongly condemned death row prisoner.                                                                                                                                             | Destin Daniel Cretton | Michael B. Jordan     |  40349 |\n",
       "| 39 | The Old Guard                        | 2020 | R     | 125 | Action    | 6.6 | A covert team of immortal mercenaries is suddenly exposed and must now fight to keep their identity a secret just as an unexpected new member is discovered.                                                                                    | Gina Prince-Bythewood | Charlize Theron       | 108551 |\n",
       "| 40 | Possessor Uncut                      | 2020 | NA    | 103 | Horror    | 6.4 | Possessor follows an agent who works for a secretive organization that uses brain-implant technology to inhabit other people's bodies - ultimately driving them to commit assassinations for high-paying clients.                               | Brandon Cronenberg    | Andrea Riseborough    |   2522 |\n",
       "| 41 | After                                | 2019 | PG-13 | 105 | Drama     | 5.3 | A young woman falls for a guy with a dark secret and the two embark on a rocky relationship. Based on the novel by .                                                                                                                            | Jenny Gage            | Josephine Langford    |  32899 |\n",
       "| 42 | Alone                                |   NA | NA    |  98 | Thriller  | 6.2 | A recently widowed traveler is kidnapped by a cold blooded killer, only to escape into the wilderness where she is forced to battle against the elements as her pursuer closes in on her.                                                       | John Hyams            | Jules Willcox         |   2982 |\n",
       "| 43 | Doctor Sleep                         | 2019 | R     | 152 | Drama     | 7.4 | Years following the events of  (1980), a now-adult Dan Torrance must protect a young girl with similar powers from a cult known as The True Knot, who prey on children with powers to remain immortal.                                          | Mike Flanagan         | Ewan McGregor         | 128128 |\n",
       "| 44 | 21 Bridges                           | 2019 | R     |  99 | Action    | 6.6 | An embattled NYPD detective is thrust into a citywide manhunt for a pair of cop killers after uncovering a massive and unexpected conspiracy.                                                                                                   | Brian Kirk            | Chadwick Boseman      |  42312 |\n",
       "| 45 | The Addams Family                    | 2019 | PG    |  86 | Animation | 5.8 | The eccentrically macabre family moves to a bland suburb where Wednesday Addams' friendship with the daughter of a hostile and conformist local reality show host exacerbates conflict between the families.                                    | Greg Tiernan          | Conrad Vernon         |  25016 |\n",
       "| 46 | Midsommar: The Directors Cut         | 2019 | R     | 148 | Drama     | 7.1 | A couple travels to Sweden to visit a rural hometown's fabled mid-summer festival. What begins as an idyllic retreat quickly devolves into an increasingly violent and bizarre competition at the hands of a pagan cult.                        | Ari Aster             | Florence Pugh         | 182268 |\n",
       "| 47 | Unhinged                             | 2020 | R     |  90 | Action    | 6.2 | After a confrontation with an unstable man at an intersection, a woman becomes the target of his rage.                                                                                                                                          | Derrick Borte         | Russell Crowe         |   7405 |\n",
       "| 48 | Blade Runner 2049                    | 2017 | R     | 164 | Action    | 8.0 | Young Blade Runner K's discovery of a long-buried secret leads him to track down former Blade Runner Rick Deckard, who's been missing for thirty years.                                                                                         | Denis Villeneuve      | Harrison Ford         | 446207 |\n",
       "| 49 | Terminator: Dark Fate                | 2019 | R     | 128 | Action    | 6.2 | An augmented human and Sarah Connor must stop an advanced liquid Terminator from hunting down a young girl, whose fate is critical to the human race.                                                                                           | Tim Miller            | Linda Hamilton        | 137704 |\n",
       "| 50 | 1917                                 | 2019 | R     | 119 | Drama     | 8.3 | April 6th, 1917. As a regiment assembles to wage war deep in enemy territory, two soldiers are assigned to race against time and deliver a message that will stop 1,600 men from walking straight into a deadly trap.                           | Sam Mendes            | Dean-Charles Chapman  | 375395 |\n",
       "\n"
      ],
      "text/plain": [
       "   Index Movie_names                          Year Advisory_rating runtime\n",
       "1   1    Enola Holmes                         2020 PG-13           123    \n",
       "2   2    The Devil All the Time               2020 R               138    \n",
       "3   3    Tenet                                2020 PG-13           150    \n",
       "4   4    The Boys in the Band                 2020 R               121    \n",
       "5   5    The Trial of the Chicago 7           2020 R               129    \n",
       "6   6    After We Collided                    2020 R               105    \n",
       "7   7    Secret Society of Second Born Royals 2020 TV-PG            99    \n",
       "8   8    Mulan                                2020 PG-13           115    \n",
       "9   9    I'm Thinking of Ending Things        2020 R               134    \n",
       "10 10    The Gentlemen                        2019 R               113    \n",
       "11 11    Antebellum                           2020 R               105    \n",
       "12 12    365 Days                             2020 TV-MA           114    \n",
       "13 13    Ava                                    NA R                96    \n",
       "14 14    Knives Out                           2019 PG-13           130    \n",
       "15 15    The Babysitter: Killer Queen         2020 TV-MA           101    \n",
       "16 16    The Invisible Man                      NA R               124    \n",
       "17 17    Bill & Ted Face the Music            2020 PG-13            91    \n",
       "18 18    Harley Quinn: Birds of Prey          2020 R               109    \n",
       "19 19    The Glorias                          2020 R               139    \n",
       "20 20    Joker                                2019 R               122    \n",
       "21 21    Judy                                   NA PG-13           118    \n",
       "22 22    Sound of Metal                       2019 R               130    \n",
       "23 23    Avengers: Endgame                    2019 PG-13           181    \n",
       "24 24    Once Upon a Time... In Hollywood     2019 R               161    \n",
       "25 25    The New Mutants                      2020 PG-13            94    \n",
       "26 26    Parasite                             2019 R               132    \n",
       "27 27    The Outpost                          2020 R               123    \n",
       "28 28    Cuties                               2020 TV-MA            96    \n",
       "29 29    Greenland                            2020 PG-13           119    \n",
       "30 30    Minari                               2020 PG-13           115    \n",
       "31 31    The Babysitter                         NA TV-MA            85    \n",
       "32 32    Hamilton                             2020 PG-13           160    \n",
       "33 33    Gemini Man                           2019 PG-13           117    \n",
       "34 34    Ford v Ferrari                       2019 PG-13           152    \n",
       "35 35    Jojo Rabbit                          2019 PG-13           108    \n",
       "36 36    Black Panther                        2018 PG-13           134    \n",
       "37 37    The Silencing                        2020 R                93    \n",
       "38 38    Just Mercy                           2019 PG-13           137    \n",
       "39 39    The Old Guard                        2020 R               125    \n",
       "40 40    Possessor Uncut                      2020 NA              103    \n",
       "41 41    After                                2019 PG-13           105    \n",
       "42 42    Alone                                  NA NA               98    \n",
       "43 43    Doctor Sleep                         2019 R               152    \n",
       "44 44    21 Bridges                           2019 R                99    \n",
       "45 45    The Addams Family                    2019 PG               86    \n",
       "46 46    Midsommar: The Directors Cut         2019 R               148    \n",
       "47 47    Unhinged                             2020 R                90    \n",
       "48 48    Blade Runner 2049                    2017 R               164    \n",
       "49 49    Terminator: Dark Fate                2019 R               128    \n",
       "50 50    1917                                 2019 R               119    \n",
       "   genre     Ratings\n",
       "1  Adventure 6.6    \n",
       "2  Crime     7.1    \n",
       "3  Action    7.8    \n",
       "4  Drama     6.8    \n",
       "5  Drama     7.6    \n",
       "6  Drama     5.3    \n",
       "7  Action    4.6    \n",
       "8  Action    5.4    \n",
       "9  Drama     6.7    \n",
       "10 Action    7.9    \n",
       "11 Drama     5.5    \n",
       "12 Drama     3.3    \n",
       "13 Action    5.3    \n",
       "14 Comedy    7.9    \n",
       "15 Comedy    5.8    \n",
       "16 Horror    7.1    \n",
       "17 Adventure 6.2    \n",
       "18 Action    6.1    \n",
       "19 Biography 4.6    \n",
       "20 Crime     8.5    \n",
       "21 Biography 6.8    \n",
       "22 Drama     7.0    \n",
       "23 Action    8.4    \n",
       "24 Comedy    7.6    \n",
       "25 Action    5.5    \n",
       "26 Comedy    8.6    \n",
       "27 Action    6.7    \n",
       "28 Drama     2.9    \n",
       "29 Action    6.5    \n",
       "30 Drama     7.7    \n",
       "31 Comedy    6.3    \n",
       "32 Biography 8.7    \n",
       "33 Action    5.7    \n",
       "34 Action    8.1    \n",
       "35 Comedy    7.9    \n",
       "36 Action    7.3    \n",
       "37 Action    6.1    \n",
       "38 Biography 7.6    \n",
       "39 Action    6.6    \n",
       "40 Horror    6.4    \n",
       "41 Drama     5.3    \n",
       "42 Thriller  6.2    \n",
       "43 Drama     7.4    \n",
       "44 Action    6.6    \n",
       "45 Animation 5.8    \n",
       "46 Drama     7.1    \n",
       "47 Action    6.2    \n",
       "48 Action    8.0    \n",
       "49 Action    6.2    \n",
       "50 Drama     8.3    \n",
       "   Description                                                                                                                                                                                                                                    \n",
       "1  When Enola Holmes-Sherlock's teen sister-discovers her mother missing, she sets off to find her, becoming a super-sleuth in her own right as she outwits her famous brother and unravels a dangerous conspiracy around a mysterious young Lord.\n",
       "2  Sinister characters converge around a young man devoted to protecting those he loves in a postwar backwoods town teeming with corruption and brutality.                                                                                        \n",
       "3  Armed with only one word, Tenet, and fighting for the survival of the entire world, a Protagonist journeys through a twilight world of international espionage on a mission that will unfold in something beyond real time.                    \n",
       "4  At a birthday party in 1968 New York, a surprise guest and a drunken game leave seven gay friends reckoning with unspoken feelings and buried truths.                                                                                          \n",
       "5  The story of 7 people on trial stemming from various charges surrounding the uprising at the 1968 Democratic National Convention in Chicago, Illinois.                                                                                         \n",
       "6  Based on the 2014 romance novel of the same name, this follows the love life of two young adults.                                                                                                                                              \n",
       "7  It follows Sam's adventures at a top-secret training program for a new class of second-born royals tasked with saving the world.                                                                                                               \n",
       "8  A young Chinese maiden disguises herself as a male warrior in order to save her father.                                                                                                                                                        \n",
       "9  Full of misgivings, a young woman travels with her new boyfriend to his parents' secluded farm. Upon arriving, she comes to question everything she thought she knew about him, and herself.                                                   \n",
       "10 An American expat tries to sell off his highly profitable marijuana empire in London, triggering plots, schemes, bribery and blackmail in an attempt to steal his domain out from under him.                                                   \n",
       "11 Successful author Veronica Henley finds herself trapped in a horrifying reality and must uncover the mind-bending mystery before it's too late.                                                                                                \n",
       "12 Massimo is a member of the Sicilian Mafia family and Laura is a sales director. She does not expect that on a trip to Sicily trying to save her relationship, Massimo will kidnap her and give her 365 days to fall in love with him.          \n",
       "13 Ava is a deadly assassin who works for a black ops organization, traveling the globe specializing in high profile hits. When a job goes dangerously wrong she is forced to fight for her own survival.                                         \n",
       "14 A detective investigates the death of a patriarch of an eccentric, combative family.                                                                                                                                                           \n",
       "15 Two years after Cole survived a satanic blood cult, he's living another nightmare: high school. And the demons from his past? Still making his life hell.                                                                                      \n",
       "16 When Cecilia's abusive ex takes his own life and leaves her his fortune, she suspects his death was a hoax. As a series of coincidences turn lethal, Cecilia works to prove that she is being hunted by someone nobody can see.                \n",
       "17 Once told they'd save the universe during a time-traveling adventure, 2 would-be rockers from San Dimas, California find themselves as middle-aged dads still trying to crank out a hit song and fulfill their destiny.                        \n",
       "18 After splitting with the Joker, Harley Quinn joins superheroes Black Canary, Huntress and Renee Montoya to save a young girl from an evil crime lord.                                                                                          \n",
       "19 The story of feminist icon Gloria Steinem's itinerant childhood's influence on her life as a writer, activist and organizer for women's rights worldwide.                                                                                      \n",
       "20 In Gotham City, mentally troubled comedian Arthur Fleck is disregarded and mistreated by society. He then embarks on a downward spiral of revolution and bloody crime. This path brings him face-to-face with his alter-ego: the Joker.        \n",
       "21 Legendary performer  arrives in London in the winter of 1968 to perform a series of sold-out concerts.                                                                                                                                         \n",
       "22 A heavy-metal drummer's life is thrown into freefall when he begins to lose his hearing.                                                                                                                                                       \n",
       "23 After the devastating events of  (2018), the universe is in ruins. With the help of remaining allies, the Avengers assemble once more in order to reverse Thanos' actions and restore balance to the universe.                                 \n",
       "24 A faded television actor and his stunt double strive to achieve fame and success in the final years of Hollywood's Golden Age in 1969 Los Angeles.                                                                                             \n",
       "25 Five young mutants, just discovering their abilities while held in a secret facility against their will, fight to escape their past sins and save themselves.                                                                                  \n",
       "26 Greed and class discrimination threaten the newly formed symbiotic relationship between the wealthy Park family and the destitute Kim clan.                                                                                                    \n",
       "27 A small team of U.S. soldiers battle against hundreds of Taliban fighters in Afghanistan.                                                                                                                                                      \n",
       "28 Amy, an 11-year-old girl, joins a group of dancers named \"the cuties\" at school, and rapidly grows aware of her burgeoning femininity - upsetting her mother and her values in the process.                                                    \n",
       "29 A family struggles for survival in the face of a cataclysmic natural disaster.                                                                                                                                                                 \n",
       "30 A Korean family moves to Arkansas to start a farm in the 1980s.                                                                                                                                                                                \n",
       "31 The events of one evening take an unexpected turn for the worst for a young boy trying to spy on his babysitter.                                                                                                                               \n",
       "32 The real life of one of America's foremost founding fathers and first Secretary of the Treasury, Alexander Hamilton. Captured live on Broadway from the Richard Rodgers Theater with the original Broadway cast.                               \n",
       "33 An over-the-hill hitman faces off against a younger clone of himself.                                                                                                                                                                          \n",
       "34 American car designer  and driver  battle corporate interference and the laws of physics to build a revolutionary race car for Ford in order to defeat Ferrari at the 24 Hours of Le Mans in 1966.                                             \n",
       "35 A young boy in Hitler's army finds out his mother is hiding a Jewish girl in their home.                                                                                                                                                       \n",
       "36 T'Challa, heir to the hidden but advanced kingdom of Wakanda, must step forward to lead his people into a new future and must confront a challenger from his country's past.                                                                   \n",
       "37 A reformed hunter living in isolation on a wildlife sanctuary becomes involved in a deadly game of cat and mouse when he and the local Sheriff set out to track a vicious killer who may have kidnapped his daughter years ago.                \n",
       "38 World-renowned civil rights defense attorney  works to free a wrongly condemned death row prisoner.                                                                                                                                            \n",
       "39 A covert team of immortal mercenaries is suddenly exposed and must now fight to keep their identity a secret just as an unexpected new member is discovered.                                                                                   \n",
       "40 Possessor follows an agent who works for a secretive organization that uses brain-implant technology to inhabit other people's bodies - ultimately driving them to commit assassinations for high-paying clients.                              \n",
       "41 A young woman falls for a guy with a dark secret and the two embark on a rocky relationship. Based on the novel by .                                                                                                                           \n",
       "42 A recently widowed traveler is kidnapped by a cold blooded killer, only to escape into the wilderness where she is forced to battle against the elements as her pursuer closes in on her.                                                      \n",
       "43 Years following the events of  (1980), a now-adult Dan Torrance must protect a young girl with similar powers from a cult known as The True Knot, who prey on children with powers to remain immortal.                                         \n",
       "44 An embattled NYPD detective is thrust into a citywide manhunt for a pair of cop killers after uncovering a massive and unexpected conspiracy.                                                                                                  \n",
       "45 The eccentrically macabre family moves to a bland suburb where Wednesday Addams' friendship with the daughter of a hostile and conformist local reality show host exacerbates conflict between the families.                                   \n",
       "46 A couple travels to Sweden to visit a rural hometown's fabled mid-summer festival. What begins as an idyllic retreat quickly devolves into an increasingly violent and bizarre competition at the hands of a pagan cult.                       \n",
       "47 After a confrontation with an unstable man at an intersection, a woman becomes the target of his rage.                                                                                                                                         \n",
       "48 Young Blade Runner K's discovery of a long-buried secret leads him to track down former Blade Runner Rick Deckard, who's been missing for thirty years.                                                                                        \n",
       "49 An augmented human and Sarah Connor must stop an advanced liquid Terminator from hunting down a young girl, whose fate is critical to the human race.                                                                                          \n",
       "50 April 6th, 1917. As a regiment assembles to wage war deep in enemy territory, two soldiers are assigned to race against time and deliver a message that will stop 1,600 men from walking straight into a deadly trap.                          \n",
       "   Director              Cast                  User_votes\n",
       "1  Harry Bradbeer        Millie Bobby Brown     75468    \n",
       "2  Antonio Campos        Donald Ray Pollock     56302    \n",
       "3  Christopher Nolan     John David Washington 130255    \n",
       "4  Joe Mantello          Jim Parsons             5665    \n",
       "5  Aaron Sorkin          Eddie Redmayne           979    \n",
       "6  Roger Kumble          Josephine Langford      5104    \n",
       "7  Anna Mastro           Peyton Elizabeth Lee    1782    \n",
       "8  Niki Caro             Yifei Liu              61080    \n",
       "9  Charlie Kaufman       Jesse Plemons          41548    \n",
       "10 Guy Ritchie           Matthew McConaughey   191828    \n",
       "11 Gerard Bush           Christopher Renz        8402    \n",
       "12 Barbara Bialowas      Tomasz Mandes          39585    \n",
       "13 Tate Taylor           Jessica Chastain       14009    \n",
       "14 Rian Johnson          Daniel Craig          399226    \n",
       "15 McG                   Judah Lewis            19083    \n",
       "16 Leigh Whannell        Elisabeth Moss        138606    \n",
       "17 Dean Parisot          Keanu Reeves           20316    \n",
       "18 Cathy Yan             Margot Robbie         146904    \n",
       "19 Julie Taymor          Julianne Moore          1016    \n",
       "20 Todd Phillips         Joaquin Phoenix       878389    \n",
       "21 Rupert Goold          Renée Zellweger        36545    \n",
       "22 Darius Marder         Riz Ahmed                409    \n",
       "23 Anthony Russo         Joe Russo             769741    \n",
       "24 Quentin Tarantino     Leonardo DiCaprio     518897    \n",
       "25 Josh Boone            Maisie Williams        12408    \n",
       "26 Bong Joon Ho          Kang-ho Song          490021    \n",
       "27 Rod Lurie             Scott Eastwood         12894    \n",
       "28 Maïmouna Doucouré     Fathia Youssouf        23943    \n",
       "29 Ric Roman Waugh       Gerard Butler           4146    \n",
       "30 Lee Isaac Chung       Steven Yeun              265    \n",
       "31 McG                   Judah Lewis            68139    \n",
       "32 Thomas Kail           Lin-Manuel Miranda     43197    \n",
       "33 Ang Lee               Will Smith             79400    \n",
       "34 James Mangold         Matt Damon            264096    \n",
       "35 Taika Waititi         Roman Griffin Davis   265476    \n",
       "36 Ryan Coogler          Chadwick Boseman      610094    \n",
       "37 Robin Pront           Nikolaj Coster-Waldau   7052    \n",
       "38 Destin Daniel Cretton Michael B. Jordan      40349    \n",
       "39 Gina Prince-Bythewood Charlize Theron       108551    \n",
       "40 Brandon Cronenberg    Andrea Riseborough      2522    \n",
       "41 Jenny Gage            Josephine Langford     32899    \n",
       "42 John Hyams            Jules Willcox           2982    \n",
       "43 Mike Flanagan         Ewan McGregor         128128    \n",
       "44 Brian Kirk            Chadwick Boseman       42312    \n",
       "45 Greg Tiernan          Conrad Vernon          25016    \n",
       "46 Ari Aster             Florence Pugh         182268    \n",
       "47 Derrick Borte         Russell Crowe           7405    \n",
       "48 Denis Villeneuve      Harrison Ford         446207    \n",
       "49 Tim Miller            Linda Hamilton        137704    \n",
       "50 Sam Mendes            Dean-Charles Chapman  375395    "
      ]
     },
     "metadata": {},
     "output_type": "display_data"
    }
   ],
   "source": [
    "head(imdb_data,50)"
   ]
  },
  {
   "cell_type": "code",
   "execution_count": null,
   "metadata": {},
   "outputs": [],
   "source": [
    "imdb_data"
   ]
  },
  {
   "cell_type": "code",
   "execution_count": 82,
   "metadata": {},
   "outputs": [],
   "source": [
    "imdb_data <- na.omit(imdb_data)"
   ]
  },
  {
   "cell_type": "code",
   "execution_count": 83,
   "metadata": {},
   "outputs": [
    {
     "data": {
      "text/html": [
       "<table>\n",
       "<caption>A tibble: 1 × 1</caption>\n",
       "<thead>\n",
       "\t<tr><th scope=col>n</th></tr>\n",
       "\t<tr><th scope=col>&lt;int&gt;</th></tr>\n",
       "</thead>\n",
       "<tbody>\n",
       "\t<tr><td>7192</td></tr>\n",
       "</tbody>\n",
       "</table>\n"
      ],
      "text/latex": [
       "A tibble: 1 × 1\n",
       "\\begin{tabular}{l}\n",
       " n\\\\\n",
       " <int>\\\\\n",
       "\\hline\n",
       "\t 7192\\\\\n",
       "\\end{tabular}\n"
      ],
      "text/markdown": [
       "\n",
       "A tibble: 1 × 1\n",
       "\n",
       "| n &lt;int&gt; |\n",
       "|---|\n",
       "| 7192 |\n",
       "\n"
      ],
      "text/plain": [
       "  n   \n",
       "1 7192"
      ]
     },
     "metadata": {},
     "output_type": "display_data"
    }
   ],
   "source": [
    "count(imdb_data)"
   ]
  },
  {
   "cell_type": "code",
   "execution_count": 84,
   "metadata": {},
   "outputs": [
    {
     "data": {
      "text/html": [
       "<table>\n",
       "<caption>A tibble: 3 × 11</caption>\n",
       "<thead>\n",
       "\t<tr><th scope=col>Index</th><th scope=col>Movie_names</th><th scope=col>Year</th><th scope=col>Advisory_rating</th><th scope=col>runtime</th><th scope=col>genre</th><th scope=col>Ratings</th><th scope=col>Description</th><th scope=col>Director</th><th scope=col>Cast</th><th scope=col>User_votes</th></tr>\n",
       "\t<tr><th scope=col>&lt;dbl&gt;</th><th scope=col>&lt;chr&gt;</th><th scope=col>&lt;dbl&gt;</th><th scope=col>&lt;chr&gt;</th><th scope=col>&lt;dbl&gt;</th><th scope=col>&lt;chr&gt;</th><th scope=col>&lt;dbl&gt;</th><th scope=col>&lt;chr&gt;</th><th scope=col>&lt;chr&gt;</th><th scope=col>&lt;chr&gt;</th><th scope=col>&lt;dbl&gt;</th></tr>\n",
       "</thead>\n",
       "<tbody>\n",
       "\t<tr><td>1</td><td>Enola Holmes          </td><td>2020</td><td>PG-13</td><td>123</td><td>Adventure</td><td>6.6</td><td>When Enola Holmes-Sherlock's teen sister-discovers her mother missing, she sets off to find her, becoming a super-sleuth in her own right as she outwits her famous brother and unravels a dangerous conspiracy around a mysterious young Lord.</td><td>Harry Bradbeer   </td><td>Millie Bobby Brown   </td><td> 75468</td></tr>\n",
       "\t<tr><td>2</td><td>The Devil All the Time</td><td>2020</td><td>R    </td><td>138</td><td>Crime    </td><td>7.1</td><td>Sinister characters converge around a young man devoted to protecting those he loves in a postwar backwoods town teeming with corruption and brutality.                                                                                        </td><td>Antonio Campos   </td><td>Donald Ray Pollock   </td><td> 56302</td></tr>\n",
       "\t<tr><td>3</td><td>Tenet                 </td><td>2020</td><td>PG-13</td><td>150</td><td>Action   </td><td>7.8</td><td>Armed with only one word, Tenet, and fighting for the survival of the entire world, a Protagonist journeys through a twilight world of international espionage on a mission that will unfold in something beyond real time.                    </td><td>Christopher Nolan</td><td>John David Washington</td><td>130255</td></tr>\n",
       "</tbody>\n",
       "</table>\n"
      ],
      "text/latex": [
       "A tibble: 3 × 11\n",
       "\\begin{tabular}{lllllllllll}\n",
       " Index & Movie\\_names & Year & Advisory\\_rating & runtime & genre & Ratings & Description & Director & Cast & User\\_votes\\\\\n",
       " <dbl> & <chr> & <dbl> & <chr> & <dbl> & <chr> & <dbl> & <chr> & <chr> & <chr> & <dbl>\\\\\n",
       "\\hline\n",
       "\t 1 & Enola Holmes           & 2020 & PG-13 & 123 & Adventure & 6.6 & When Enola Holmes-Sherlock's teen sister-discovers her mother missing, she sets off to find her, becoming a super-sleuth in her own right as she outwits her famous brother and unravels a dangerous conspiracy around a mysterious young Lord. & Harry Bradbeer    & Millie Bobby Brown    &  75468\\\\\n",
       "\t 2 & The Devil All the Time & 2020 & R     & 138 & Crime     & 7.1 & Sinister characters converge around a young man devoted to protecting those he loves in a postwar backwoods town teeming with corruption and brutality.                                                                                         & Antonio Campos    & Donald Ray Pollock    &  56302\\\\\n",
       "\t 3 & Tenet                  & 2020 & PG-13 & 150 & Action    & 7.8 & Armed with only one word, Tenet, and fighting for the survival of the entire world, a Protagonist journeys through a twilight world of international espionage on a mission that will unfold in something beyond real time.                     & Christopher Nolan & John David Washington & 130255\\\\\n",
       "\\end{tabular}\n"
      ],
      "text/markdown": [
       "\n",
       "A tibble: 3 × 11\n",
       "\n",
       "| Index &lt;dbl&gt; | Movie_names &lt;chr&gt; | Year &lt;dbl&gt; | Advisory_rating &lt;chr&gt; | runtime &lt;dbl&gt; | genre &lt;chr&gt; | Ratings &lt;dbl&gt; | Description &lt;chr&gt; | Director &lt;chr&gt; | Cast &lt;chr&gt; | User_votes &lt;dbl&gt; |\n",
       "|---|---|---|---|---|---|---|---|---|---|---|\n",
       "| 1 | Enola Holmes           | 2020 | PG-13 | 123 | Adventure | 6.6 | When Enola Holmes-Sherlock's teen sister-discovers her mother missing, she sets off to find her, becoming a super-sleuth in her own right as she outwits her famous brother and unravels a dangerous conspiracy around a mysterious young Lord. | Harry Bradbeer    | Millie Bobby Brown    |  75468 |\n",
       "| 2 | The Devil All the Time | 2020 | R     | 138 | Crime     | 7.1 | Sinister characters converge around a young man devoted to protecting those he loves in a postwar backwoods town teeming with corruption and brutality.                                                                                         | Antonio Campos    | Donald Ray Pollock    |  56302 |\n",
       "| 3 | Tenet                  | 2020 | PG-13 | 150 | Action    | 7.8 | Armed with only one word, Tenet, and fighting for the survival of the entire world, a Protagonist journeys through a twilight world of international espionage on a mission that will unfold in something beyond real time.                     | Christopher Nolan | John David Washington | 130255 |\n",
       "\n"
      ],
      "text/plain": [
       "  Index Movie_names            Year Advisory_rating runtime genre     Ratings\n",
       "1 1     Enola Holmes           2020 PG-13           123     Adventure 6.6    \n",
       "2 2     The Devil All the Time 2020 R               138     Crime     7.1    \n",
       "3 3     Tenet                  2020 PG-13           150     Action    7.8    \n",
       "  Description                                                                                                                                                                                                                                    \n",
       "1 When Enola Holmes-Sherlock's teen sister-discovers her mother missing, she sets off to find her, becoming a super-sleuth in her own right as she outwits her famous brother and unravels a dangerous conspiracy around a mysterious young Lord.\n",
       "2 Sinister characters converge around a young man devoted to protecting those he loves in a postwar backwoods town teeming with corruption and brutality.                                                                                        \n",
       "3 Armed with only one word, Tenet, and fighting for the survival of the entire world, a Protagonist journeys through a twilight world of international espionage on a mission that will unfold in something beyond real time.                    \n",
       "  Director          Cast                  User_votes\n",
       "1 Harry Bradbeer    Millie Bobby Brown     75468    \n",
       "2 Antonio Campos    Donald Ray Pollock     56302    \n",
       "3 Christopher Nolan John David Washington 130255    "
      ]
     },
     "metadata": {},
     "output_type": "display_data"
    }
   ],
   "source": [
    "head(v,3)"
   ]
  },
  {
   "cell_type": "code",
   "execution_count": 86,
   "metadata": {},
   "outputs": [
    {
     "data": {
      "text/html": [
       "'C:/Users/64223/Jupyter C/Data Wrangling Lab/Group Project'"
      ],
      "text/latex": [
       "'C:/Users/64223/Jupyter C/Data Wrangling Lab/Group Project'"
      ],
      "text/markdown": [
       "'C:/Users/64223/Jupyter C/Data Wrangling Lab/Group Project'"
      ],
      "text/plain": [
       "[1] \"C:/Users/64223/Jupyter C/Data Wrangling Lab/Group Project\""
      ]
     },
     "metadata": {},
     "output_type": "display_data"
    }
   ],
   "source": [
    "#Stroing data into CSV file\n",
    "getwd()  # getting current working directory\n",
    "filepath <- paste(getwd(),'//imdb_data_softscraped_8000.csv',sep='')  # creating file path using 'paste' function with seprator a whitespace\n",
    "write.csv(imdb_data,filepath, row.names = TRUE)\n",
    "#library(tidytext)"
   ]
  },
  {
   "cell_type": "code",
   "execution_count": null,
   "metadata": {},
   "outputs": [],
   "source": []
  }
 ],
 "metadata": {
  "kernelspec": {
   "display_name": "R",
   "language": "R",
   "name": "ir"
  },
  "language_info": {
   "codemirror_mode": "r",
   "file_extension": ".r",
   "mimetype": "text/x-r-source",
   "name": "R",
   "pygments_lexer": "r",
   "version": "3.6.2"
  }
 },
 "nbformat": 4,
 "nbformat_minor": 2
}
