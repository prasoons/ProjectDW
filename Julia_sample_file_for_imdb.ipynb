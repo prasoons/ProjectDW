{
 "cells": [
  {
   "cell_type": "code",
   "execution_count": 186,
   "metadata": {},
   "outputs": [],
   "source": [
    "using Pkg \n",
    "\n",
    "#Cascadia for searching and dealing with the html pages, \n",
    "#Gumbo for transforming the downloaded page into something Julia and Cascadia can deal with, and \n",
    "#HTTP to handle internet connections.\n",
    "using HTTP, Gumbo, Cascadia"
   ]
  },
  {
   "cell_type": "code",
   "execution_count": 187,
   "metadata": {},
   "outputs": [
    {
     "data": {
      "text/plain": [
       "HTTP.Messages.Response:\n",
       "\"\"\"\n",
       "HTTP/1.1 200 OK\r\n",
       "Content-Type: text/html;charset=UTF-8\r\n",
       "Transfer-Encoding: chunked\r\n",
       "Connection: keep-alive\r\n",
       "Server: Server\r\n",
       "Date: Mon, 05 Oct 2020 08:49:23 GMT\r\n",
       "x-amz-rid: 83EN8MT8BA88A25WESGX\r\n",
       "Set-Cookie: uu=BCYuN1OmcY8gJ5dCviOuq0wrM9E5uiR-6lZdxE9BLJazdWckSIyE8iDp841Vo-xwx9i0HnQuVzC9%0D%0AB84IkKKpgzG0KJXh4O0_5yqVTj0bi22aHF5XchopqBe2vN_XFwJLZbDuhXk6LTTLxefii27fp91R%0D%0A4A%0D%0A; Domain=.imdb.com; Expires=Sat, 23-Oct-2088 12:03:30 GMT; Path=/; Secure\r\n",
       "Set-Cookie: session-id=138-6019019-7750519; Domain=.imdb.com; Expires=Sat, 23-Oct-2088 12:03:30 GMT; Path=/; Secure\r\n",
       "Set-Cookie: session-id-time=2232607763; Domain=.imdb.com; Expires=Sat, 23-Oct-2088 12:03:30 GMT; Path=/; Secure\r\n",
       "X-Frame-Options: SAMEORIGIN\r\n",
       "Content-Security-Policy: frame-ancestors 'self' imdb.com *.imdb.com *.media-imdb.com withoutabox.com *.withoutabox.com amazon.com *.amazon.com amazon.co.uk *.amazon.co.uk amazon.de *.amazon.de translate.google.com images.google.com www.google.com www.google.co.uk search.aol.com bing.com www.bing.com\r\n",
       "Ad-Unit: imdb.standard.main\r\n",
       "Entity-Id: \r\n",
       "Section-Id: top\r\n",
       "Page-Id: top\r\n",
       "Content-Language: en-US\r\n",
       "Strict-Transport-Security: max-age=47474747; includeSubDomains; preload\r\n",
       "Vary: Content-Type,Accept-Encoding,X-Amzn-CDN-Cache,X-Amzn-AX-Treatment,User-Agent\r\n",
       "X-Cache: Miss from cloudfront\r\n",
       "Via: 1.1 8d0d4f2c2e93b7f0b4d13075ca7e9ea9.cloudfront.net (CloudFront)\r\n",
       "X-Amz-Cf-Pop: AKL50-C1\r\n",
       "X-Amz-Cf-Id: 06rWRVfqyV-OeTF20bfZ-WN8QTaW63tECMr9fKKm2nYGJ7FLNgNRDg==\r\n",
       "\r\n",
       "\n",
       "\n",
       "\n",
       "<!DOCTYPE html>\n",
       "<html\n",
       "    xmlns:og=\"http://ogp.me/ns#\"\n",
       "    xmlns:fb=\"http://www.facebook.com/2008/fbml\">\n",
       "    <head>\n",
       "        \n",
       "<script type='text/javascript'>var ue_t0=ue_t0||+new Date();</script>\n",
       "<script type='text/javascript'>\n",
       "window.ue_ihb = (window.ue_ihb || window.ueinit || 0) + 1;\n",
       "if (window.ue_ihb === 1) {\n",
       "\n",
       "var ue_csm = window,\n",
       "    ue_hob = +new Date();\n",
       "(function(d){var e=d.ue=d.ue||{},f=Date.now||function(){return+new Date};e.d=function(b){return f()-(b?0:d.ue_t0)};e.stub=function(b,a){if(!b[a]){var c=[];b[a]=function(){c.push([c.slice.call(arguments),e.d(),d.ue_id])};b[a].replay=function(b){for(var a;a=c.shift();)b(a[0],a[1],a[2])};b[a].isStub=1}};e.exec=function(b,a){return function(){try{return b.apply(this,arguments)}catch(c){ueLogError(c,{attribution:a||\"undefined\",logLevel:\"WARN\"})}}}})(ue_csm);\n",
       "\n",
       "\n",
       "    var ue_err_chan = 'jserr';\n",
       "(function(d,e){function h(f,b){if(!(a.ec>a.mxe)&&f){a.ter.push(f);b=b||{};var c=f.logLevel||b.logLevel;c&&c!==k&&c!==m&&c!==n&&c!==p||a.ec++;c&&c\n",
       "⋮\n",
       "704638-byte body\n",
       "\"\"\""
      ]
     },
     "execution_count": 187,
     "metadata": {},
     "output_type": "execute_result"
    }
   ],
   "source": [
    "#Fetching the data from the url passed\n",
    "imdb_top_250 = HTTP.get(\"https://www.imdb.com/chart/top/?ref_=nv_mv_250\")"
   ]
  },
  {
   "cell_type": "code",
   "execution_count": 188,
   "metadata": {},
   "outputs": [
    {
     "data": {
      "text/plain": [
       "HTML Document:\n",
       "<!DOCTYPE html>\n",
       "HTMLElement{:HTML}:<HTML xmlns:fb=\"http://www.facebook.com/2008/fbml\" xmlns:og=\"http://ogp.me/ns#\">\n",
       "  <head>\n",
       "    <script type=\"text/javascript\">var ue_t0=ue_t0||+new Date();    </script>\n",
       "    <script type=\"text/javascript\">\n",
       "window.ue_ihb = (window.ue_ihb || window.ueinit || 0) + 1;\n",
       "if (window.ue_ihb === 1) {\n",
       "\n",
       "var ue_csm = window,\n",
       "    ue_hob = +new Date();\n",
       "(function(d){var e=d.ue=d.ue||{},f=Date.now||function(){return+new Date};e.d=function(b){return f()-(b?0:d.ue_t0)};e.stub=function(b,a){if(!b[a]){var c=[];b[a]=function(){c.push([c.slice.call(arguments),e.d(),d.ue_id])};b[a].replay=function(b){for(var a;a=c.shift();)b(a[0],a[1],a[2])};b[a].isStub=1}};e.exec=function(b,a){return function(){try{return b.apply(this,arguments)}catch(c){ueLogError(c,{attribution:a||\"undefined\",logLevel:\"WARN\"})}}}})(ue_csm);\n",
       "\n",
       "\n",
       "    var ue_err_chan = 'jserr';\n",
       "(function(d,e){function h(f,b){if(!(a.ec>a.mxe)&&f){a.ter.push(f);b=b||{};var c=f.logLevel||b.logLevel;c&&c!==k&&c!==m&&c!==n&&c!==p||a.ec++;c&&c!=k||a.ecf++;b.pageURL=\"\"+(e.location?e.location.href:\"\");b.logLevel=c;b.attribution=f.attribution||b.attribution;a.erl.push({ex:f,info:b})}}function l(a,b,c,e,g){d.ueLogError({m:a,f:b,l:c,c:\"\"+e,err:g,fromOnError:1,args:arguments},g?{attribution:g.attribution,logLevel:g.logLevel}:void 0);return!1}var k=\"FATAL\",m=\"ERROR\",n=\"WARN\",p=\"DOWNGRADED\",a={ec:0,ecf:0,\n",
       "pec:0,ts:0,erl:[],ter:[],mxe:50,startTimer:function(){a.ts++;setInterval(function(){d.ue&&a.pec<a.ec&&d.uex(\"at\");a.pec=a.ec},1E4)}};l.skipTrace=1;h.skipTrace=1;h.isStub=1;d.ueLogError=h;d.ue_err=a;e.onerror=l})(ue_csm,window);\n",
       "\n",
       "\n",
       "var ue_id = '83EN8MT8BA88A25WESGX',\n",
       "    ue_url,\n",
       "    ue_navtiming = 1,\n",
       "...\n"
      ]
     },
     "execution_count": 188,
     "metadata": {},
     "output_type": "execute_result"
    }
   ],
   "source": [
    "# we are fetching the body of the response by parsing it using Gumbo\n",
    "parsed_page = imdb_top_250.body |>\n",
    "              String |>\n",
    "              parsehtml"
   ]
  },
  {
   "cell_type": "markdown",
   "metadata": {},
   "source": [
    "**Creating functions to fetch the data using selectors**"
   ]
  },
  {
   "cell_type": "code",
   "execution_count": 189,
   "metadata": {},
   "outputs": [],
   "source": [
    "movie_name_sel = Selector(\".titleColumn a\") #selector for movies\n",
    "\n",
    "#for each of the elements under titleColumn and imdb ratings\n",
    "movie_names_all = eachmatch(movie_name_sel,parsed_page.root)\n",
    "\n",
    "#creating a variable to store movie name\n",
    "movie_name = String[]\n",
    "\n",
    "#fetch all the movie names\n",
    "for movie in movie_names_all\n",
    "    name = strip(text(movie)) #get only the text part using strip()\n",
    "    push!(movie_name, name)\n",
    "end"
   ]
  },
  {
   "cell_type": "code",
   "execution_count": 190,
   "metadata": {},
   "outputs": [],
   "source": [
    "movie_rating_sel = Selector(\".imdbRating\") #for ratings\n",
    "movie_ratings_all = eachmatch(movie_rating_sel,parsed_page.root)\n",
    "\n",
    "#creating a variable to store the ratings\n",
    "movie_ratings = String[]\n",
    "\n",
    "#fetch all the movie ratings\n",
    "for movie in movie_ratings_all\n",
    "    ratings = strip(text(movie)) #get only the text part using strip()\n",
    "    push!(movie_ratings, ratings)\n",
    "end"
   ]
  },
  {
   "cell_type": "code",
   "execution_count": 191,
   "metadata": {},
   "outputs": [],
   "source": [
    "movie_year_sel = Selector(\".secondaryInfo\") #for years\n",
    "movie_year_all = eachmatch(movie_year_sel,parsed_page.root)\n",
    "\n",
    "#creating a variable to store the all the years\n",
    "movie_years = String[]\n",
    "\n",
    "#fetch all the years they were released in\n",
    "for movie in movie_year_all\n",
    "    years = strip(text(movie))        #get only the text part using strip()\n",
    "    years = replace(years,\"(\"  => \"\") #using replace function to remove brackets\n",
    "    years = replace(years,\")\"  => \"\")\n",
    "    push!(movie_years, years)\n",
    "end"
   ]
  },
  {
   "cell_type": "markdown",
   "metadata": {},
   "source": [
    "**We will now store the data obtained into the dataframe and use it to summarise**"
   ]
  },
  {
   "cell_type": "code",
   "execution_count": 192,
   "metadata": {},
   "outputs": [
    {
     "name": "stderr",
     "output_type": "stream",
     "text": [
      "┌ Warning: `getindex(df::DataFrame, col_ind::ColumnIndex)` is deprecated, use `df[!, col_ind]` instead.\n",
      "│   caller = top-level scope at In[192]:5\n",
      "└ @ Core In[192]:5\n",
      "┌ Warning: `setindex!(df::DataFrame, v::AbstractVector, col_ind::ColumnIndex)` is deprecated, use `begin\n",
      "│     df[!, col_ind] = v\n",
      "│     df\n",
      "│ end` instead.\n",
      "│   caller = top-level scope at In[192]:5\n",
      "└ @ Core In[192]:5\n",
      "┌ Warning: `getindex(df::DataFrame, col_ind::ColumnIndex)` is deprecated, use `df[!, col_ind]` instead.\n",
      "│   caller = top-level scope at In[192]:7\n",
      "└ @ Core In[192]:7\n",
      "┌ Warning: `setindex!(df::DataFrame, v::AbstractVector, col_ind::ColumnIndex)` is deprecated, use `begin\n",
      "│     df[!, col_ind] = v\n",
      "│     df\n",
      "│ end` instead.\n",
      "│   caller = top-level scope at In[192]:7\n",
      "└ @ Core In[192]:7\n",
      "┌ Warning: `head(df::AbstractDataFrame)` is deprecated, use `first(df, 6)` instead.\n",
      "│   caller = top-level scope at In[192]:8\n",
      "└ @ Core In[192]:8\n"
     ]
    },
    {
     "data": {
      "text/html": [
       "<table class=\"data-frame\"><thead><tr><th></th><th>Top_250_movie</th><th>Ratings</th><th>Years</th></tr><tr><th></th><th>String</th><th>Float16</th><th>Int64</th></tr></thead><tbody><p>6 rows × 3 columns</p><tr><th>1</th><td>The Shawshank Redemption</td><td>9.2</td><td>1994</td></tr><tr><th>2</th><td>The Godfather</td><td>9.1</td><td>1972</td></tr><tr><th>3</th><td>The Godfather: Part II</td><td>9.0</td><td>1974</td></tr><tr><th>4</th><td>The Dark Knight</td><td>9.0</td><td>2008</td></tr><tr><th>5</th><td>12 Angry Men</td><td>8.9</td><td>1957</td></tr><tr><th>6</th><td>Schindler's List</td><td>8.9</td><td>1993</td></tr></tbody></table>"
      ],
      "text/latex": [
       "\\begin{tabular}{r|ccc}\n",
       "\t& Top\\_250\\_movie & Ratings & Years\\\\\n",
       "\t\\hline\n",
       "\t& String & Float16 & Int64\\\\\n",
       "\t\\hline\n",
       "\t1 & The Shawshank Redemption & 9.2 & 1994 \\\\\n",
       "\t2 & The Godfather & 9.1 & 1972 \\\\\n",
       "\t3 & The Godfather: Part II & 9.0 & 1974 \\\\\n",
       "\t4 & The Dark Knight & 9.0 & 2008 \\\\\n",
       "\t5 & 12 Angry Men & 8.9 & 1957 \\\\\n",
       "\t6 & Schindler's List & 8.9 & 1993 \\\\\n",
       "\\end{tabular}\n"
      ],
      "text/plain": [
       "6×3 DataFrame\n",
       "│ Row │ Top_250_movie            │ Ratings │ Years │\n",
       "│     │ \u001b[90mString\u001b[39m                   │ \u001b[90mFloat16\u001b[39m │ \u001b[90mInt64\u001b[39m │\n",
       "├─────┼──────────────────────────┼─────────┼───────┤\n",
       "│ 1   │ The Shawshank Redemption │ 9.2     │ 1994  │\n",
       "│ 2   │ The Godfather            │ 9.1     │ 1972  │\n",
       "│ 3   │ The Godfather: Part II   │ 9.0     │ 1974  │\n",
       "│ 4   │ The Dark Knight          │ 9.0     │ 2008  │\n",
       "│ 5   │ 12 Angry Men             │ 8.9     │ 1957  │\n",
       "│ 6   │ Schindler's List         │ 8.9     │ 1993  │"
      ]
     },
     "execution_count": 192,
     "metadata": {},
     "output_type": "execute_result"
    }
   ],
   "source": [
    "using DataFrames\n",
    "imdb_top_250 = DataFrame(Top_250_movie = movie_name,\n",
    "                         Ratings = movie_ratings,\n",
    "                         Years = movie_years)\n",
    "\n",
    "#As the datatype of column is string, we will be transforming Ratings and Years to Integer and Float respectively\n",
    "imdb_top_250[:Ratings] = parse.([Float16],imdb_top_250[:Ratings])\n",
    "imdb_top_250[:Years] = parse.([Int],imdb_top_250[:Years])\n",
    "head(imdb_top_250)"
   ]
  },
  {
   "cell_type": "code",
   "execution_count": 193,
   "metadata": {},
   "outputs": [
    {
     "data": {
      "text/html": [
       "<table class=\"data-frame\"><thead><tr><th></th><th>Ratings</th><th>count</th></tr><tr><th></th><th>Float16</th><th>Int64</th></tr></thead><tbody><p>13 rows × 2 columns</p><tr><th>1</th><td>9.2</td><td>1</td></tr><tr><th>2</th><td>9.1</td><td>1</td></tr><tr><th>3</th><td>9.0</td><td>2</td></tr><tr><th>4</th><td>8.9</td><td>3</td></tr><tr><th>5</th><td>8.8</td><td>5</td></tr><tr><th>6</th><td>8.7</td><td>3</td></tr><tr><th>7</th><td>8.6</td><td>10</td></tr><tr><th>8</th><td>8.5</td><td>23</td></tr><tr><th>9</th><td>8.4</td><td>22</td></tr><tr><th>10</th><td>8.3</td><td>28</td></tr><tr><th>11</th><td>8.2</td><td>45</td></tr><tr><th>12</th><td>8.1</td><td>73</td></tr><tr><th>13</th><td>8.0</td><td>34</td></tr></tbody></table>"
      ],
      "text/latex": [
       "\\begin{tabular}{r|cc}\n",
       "\t& Ratings & count\\\\\n",
       "\t\\hline\n",
       "\t& Float16 & Int64\\\\\n",
       "\t\\hline\n",
       "\t1 & 9.2 & 1 \\\\\n",
       "\t2 & 9.1 & 1 \\\\\n",
       "\t3 & 9.0 & 2 \\\\\n",
       "\t4 & 8.9 & 3 \\\\\n",
       "\t5 & 8.8 & 5 \\\\\n",
       "\t6 & 8.7 & 3 \\\\\n",
       "\t7 & 8.6 & 10 \\\\\n",
       "\t8 & 8.5 & 23 \\\\\n",
       "\t9 & 8.4 & 22 \\\\\n",
       "\t10 & 8.3 & 28 \\\\\n",
       "\t11 & 8.2 & 45 \\\\\n",
       "\t12 & 8.1 & 73 \\\\\n",
       "\t13 & 8.0 & 34 \\\\\n",
       "\\end{tabular}\n"
      ],
      "text/plain": [
       "13×2 DataFrame\n",
       "│ Row │ Ratings │ count │\n",
       "│     │ \u001b[90mFloat16\u001b[39m │ \u001b[90mInt64\u001b[39m │\n",
       "├─────┼─────────┼───────┤\n",
       "│ 1   │ 9.2     │ 1     │\n",
       "│ 2   │ 9.1     │ 1     │\n",
       "│ 3   │ 9.0     │ 2     │\n",
       "│ 4   │ 8.9     │ 3     │\n",
       "│ 5   │ 8.8     │ 5     │\n",
       "│ 6   │ 8.7     │ 3     │\n",
       "│ 7   │ 8.6     │ 10    │\n",
       "│ 8   │ 8.5     │ 23    │\n",
       "│ 9   │ 8.4     │ 22    │\n",
       "│ 10  │ 8.3     │ 28    │\n",
       "│ 11  │ 8.2     │ 45    │\n",
       "│ 12  │ 8.1     │ 73    │\n",
       "│ 13  │ 8.0     │ 34    │"
      ]
     },
     "execution_count": 193,
     "metadata": {},
     "output_type": "execute_result"
    }
   ],
   "source": [
    "#Grouping the data by ratings and obtaining count of total movies.\n",
    "Ratings_count = combine(groupby(imdb_top_250, [:Ratings]), nrow => :count)"
   ]
  },
  {
   "cell_type": "code",
   "execution_count": 194,
   "metadata": {},
   "outputs": [],
   "source": [
    "using Plots"
   ]
  },
  {
   "cell_type": "code",
   "execution_count": 198,
   "metadata": {},
   "outputs": [
    {
     "data": {
      "image/svg+xml": [
       "<?xml version=\"1.0\" encoding=\"utf-8\"?>\n",
       "<svg xmlns=\"http://www.w3.org/2000/svg\" xmlns:xlink=\"http://www.w3.org/1999/xlink\" width=\"600\" height=\"400\" viewBox=\"0 0 2400 1600\">\n",
       "<defs>\n",
       "  <clipPath id=\"clip340\">\n",
       "    <rect x=\"0\" y=\"0\" width=\"2400\" height=\"1600\"/>\n",
       "  </clipPath>\n",
       "</defs>\n",
       "<path clip-path=\"url(#clip340)\" d=\"\n",
       "M0 1600 L2400 1600 L2400 0 L0 0  Z\n",
       "  \" fill=\"#ffffff\" fill-rule=\"evenodd\" fill-opacity=\"1\"/>\n",
       "<defs>\n",
       "  <clipPath id=\"clip341\">\n",
       "    <rect x=\"480\" y=\"0\" width=\"1681\" height=\"1600\"/>\n",
       "  </clipPath>\n",
       "</defs>\n",
       "<path clip-path=\"url(#clip340)\" d=\"\n",
       "M202.459 1423.18 L2352.76 1423.18 L2352.76 123.472 L202.459 123.472  Z\n",
       "  \" fill=\"#ffffff\" fill-rule=\"evenodd\" fill-opacity=\"1\"/>\n",
       "<defs>\n",
       "  <clipPath id=\"clip342\">\n",
       "    <rect x=\"202\" y=\"123\" width=\"2151\" height=\"1301\"/>\n",
       "  </clipPath>\n",
       "</defs>\n",
       "<polyline clip-path=\"url(#clip342)\" style=\"stroke:#000000; stroke-width:2; stroke-opacity:0.1; fill:none\" points=\"\n",
       "  263.316,1423.18 263.316,123.472 \n",
       "  \"/>\n",
       "<polyline clip-path=\"url(#clip342)\" style=\"stroke:#000000; stroke-width:2; stroke-opacity:0.1; fill:none\" points=\"\n",
       "  684.84,1423.18 684.84,123.472 \n",
       "  \"/>\n",
       "<polyline clip-path=\"url(#clip342)\" style=\"stroke:#000000; stroke-width:2; stroke-opacity:0.1; fill:none\" points=\"\n",
       "  1106.36,1423.18 1106.36,123.472 \n",
       "  \"/>\n",
       "<polyline clip-path=\"url(#clip342)\" style=\"stroke:#000000; stroke-width:2; stroke-opacity:0.1; fill:none\" points=\"\n",
       "  1527.89,1423.18 1527.89,123.472 \n",
       "  \"/>\n",
       "<polyline clip-path=\"url(#clip342)\" style=\"stroke:#000000; stroke-width:2; stroke-opacity:0.1; fill:none\" points=\"\n",
       "  1949.41,1423.18 1949.41,123.472 \n",
       "  \"/>\n",
       "<polyline clip-path=\"url(#clip340)\" style=\"stroke:#000000; stroke-width:4; stroke-opacity:1; fill:none\" points=\"\n",
       "  202.459,1423.18 2352.76,1423.18 \n",
       "  \"/>\n",
       "<polyline clip-path=\"url(#clip340)\" style=\"stroke:#000000; stroke-width:4; stroke-opacity:1; fill:none\" points=\"\n",
       "  263.316,1423.18 263.316,1407.58 \n",
       "  \"/>\n",
       "<polyline clip-path=\"url(#clip340)\" style=\"stroke:#000000; stroke-width:4; stroke-opacity:1; fill:none\" points=\"\n",
       "  684.84,1423.18 684.84,1407.58 \n",
       "  \"/>\n",
       "<polyline clip-path=\"url(#clip340)\" style=\"stroke:#000000; stroke-width:4; stroke-opacity:1; fill:none\" points=\"\n",
       "  1106.36,1423.18 1106.36,1407.58 \n",
       "  \"/>\n",
       "<polyline clip-path=\"url(#clip340)\" style=\"stroke:#000000; stroke-width:4; stroke-opacity:1; fill:none\" points=\"\n",
       "  1527.89,1423.18 1527.89,1407.58 \n",
       "  \"/>\n",
       "<polyline clip-path=\"url(#clip340)\" style=\"stroke:#000000; stroke-width:4; stroke-opacity:1; fill:none\" points=\"\n",
       "  1949.41,1423.18 1949.41,1407.58 \n",
       "  \"/>\n",
       "<path clip-path=\"url(#clip340)\" d=\"M 0 0 M231.326 1467.44 Q227.993 1467.44 226.071 1469.22 Q224.173 1471 224.173 1474.13 Q224.173 1477.25 226.071 1479.04 Q227.993 1480.82 231.326 1480.82 Q234.659 1480.82 236.58 1479.04 Q238.502 1477.23 238.502 1474.13 Q238.502 1471 236.58 1469.22 Q234.682 1467.44 231.326 1467.44 M226.65 1465.45 Q223.641 1464.71 221.951 1462.65 Q220.284 1460.59 220.284 1457.63 Q220.284 1453.48 223.224 1451.07 Q226.187 1448.67 231.326 1448.67 Q236.488 1448.67 239.428 1451.07 Q242.367 1453.48 242.367 1457.63 Q242.367 1460.59 240.678 1462.65 Q239.011 1464.71 236.025 1465.45 Q239.405 1466.24 241.279 1468.53 Q243.178 1470.82 243.178 1474.13 Q243.178 1479.15 240.099 1481.84 Q237.043 1484.52 231.326 1484.52 Q225.608 1484.52 222.53 1481.84 Q219.474 1479.15 219.474 1474.13 Q219.474 1470.82 221.372 1468.53 Q223.27 1466.24 226.65 1465.45 M224.937 1458.06 Q224.937 1460.75 226.604 1462.25 Q228.293 1463.76 231.326 1463.76 Q234.335 1463.76 236.025 1462.25 Q237.738 1460.75 237.738 1458.06 Q237.738 1455.38 236.025 1453.88 Q234.335 1452.37 231.326 1452.37 Q228.293 1452.37 226.604 1453.88 Q224.937 1455.38 224.937 1458.06 Z\" fill=\"#000000\" fill-rule=\"evenodd\" fill-opacity=\"1\" /><path clip-path=\"url(#clip340)\" d=\"M 0 0 M248.247 1477.97 L253.131 1477.97 L253.131 1483.85 L248.247 1483.85 L248.247 1477.97 Z\" fill=\"#000000\" fill-rule=\"evenodd\" fill-opacity=\"1\" /><path clip-path=\"url(#clip340)\" d=\"M 0 0 M268.201 1452.37 Q264.59 1452.37 262.761 1455.94 Q260.955 1459.48 260.955 1466.61 Q260.955 1473.71 262.761 1477.28 Q264.59 1480.82 268.201 1480.82 Q271.835 1480.82 273.64 1477.28 Q275.469 1473.71 275.469 1466.61 Q275.469 1459.48 273.64 1455.94 Q271.835 1452.37 268.201 1452.37 M268.201 1448.67 Q274.011 1448.67 277.066 1453.27 Q280.145 1457.86 280.145 1466.61 Q280.145 1475.33 277.066 1479.94 Q274.011 1484.52 268.201 1484.52 Q262.39 1484.52 259.312 1479.94 Q256.256 1475.33 256.256 1466.61 Q256.256 1457.86 259.312 1453.27 Q262.39 1448.67 268.201 1448.67 Z\" fill=\"#000000\" fill-rule=\"evenodd\" fill-opacity=\"1\" /><path clip-path=\"url(#clip340)\" d=\"M 0 0 M295.214 1452.37 Q291.603 1452.37 289.775 1455.94 Q287.969 1459.48 287.969 1466.61 Q287.969 1473.71 289.775 1477.28 Q291.603 1480.82 295.214 1480.82 Q298.849 1480.82 300.654 1477.28 Q302.483 1473.71 302.483 1466.61 Q302.483 1459.48 300.654 1455.94 Q298.849 1452.37 295.214 1452.37 M295.214 1448.67 Q301.025 1448.67 304.08 1453.27 Q307.159 1457.86 307.159 1466.61 Q307.159 1475.33 304.08 1479.94 Q301.025 1484.52 295.214 1484.52 Q289.404 1484.52 286.326 1479.94 Q283.27 1475.33 283.27 1466.61 Q283.27 1457.86 286.326 1453.27 Q289.404 1448.67 295.214 1448.67 Z\" fill=\"#000000\" fill-rule=\"evenodd\" fill-opacity=\"1\" /><path clip-path=\"url(#clip340)\" d=\"M 0 0 M654.146 1467.44 Q650.812 1467.44 648.891 1469.22 Q646.993 1471 646.993 1474.13 Q646.993 1477.25 648.891 1479.04 Q650.812 1480.82 654.146 1480.82 Q657.479 1480.82 659.4 1479.04 Q661.322 1477.23 661.322 1474.13 Q661.322 1471 659.4 1469.22 Q657.502 1467.44 654.146 1467.44 M649.47 1465.45 Q646.461 1464.71 644.771 1462.65 Q643.104 1460.59 643.104 1457.63 Q643.104 1453.48 646.044 1451.07 Q649.007 1448.67 654.146 1448.67 Q659.308 1448.67 662.247 1451.07 Q665.187 1453.48 665.187 1457.63 Q665.187 1460.59 663.497 1462.65 Q661.831 1464.71 658.845 1465.45 Q662.224 1466.24 664.099 1468.53 Q665.997 1470.82 665.997 1474.13 Q665.997 1479.15 662.919 1481.84 Q659.863 1484.52 654.146 1484.52 Q648.428 1484.52 645.349 1481.84 Q642.294 1479.15 642.294 1474.13 Q642.294 1470.82 644.192 1468.53 Q646.09 1466.24 649.47 1465.45 M647.757 1458.06 Q647.757 1460.75 649.423 1462.25 Q651.113 1463.76 654.146 1463.76 Q657.155 1463.76 658.845 1462.25 Q660.558 1460.75 660.558 1458.06 Q660.558 1455.38 658.845 1453.88 Q657.155 1452.37 654.146 1452.37 Q651.113 1452.37 649.423 1453.88 Q647.757 1455.38 647.757 1458.06 Z\" fill=\"#000000\" fill-rule=\"evenodd\" fill-opacity=\"1\" /><path clip-path=\"url(#clip340)\" d=\"M 0 0 M671.067 1477.97 L675.951 1477.97 L675.951 1483.85 L671.067 1483.85 L671.067 1477.97 Z\" fill=\"#000000\" fill-rule=\"evenodd\" fill-opacity=\"1\" /><path clip-path=\"url(#clip340)\" d=\"M 0 0 M685.048 1479.92 L701.368 1479.92 L701.368 1483.85 L679.423 1483.85 L679.423 1479.92 Q682.085 1477.16 686.669 1472.53 Q691.275 1467.88 692.456 1466.54 Q694.701 1464.01 695.581 1462.28 Q696.483 1460.52 696.483 1458.83 Q696.483 1456.07 694.539 1454.34 Q692.618 1452.6 689.516 1452.6 Q687.317 1452.6 684.863 1453.37 Q682.433 1454.13 679.655 1455.68 L679.655 1450.96 Q682.479 1449.82 684.933 1449.25 Q687.386 1448.67 689.423 1448.67 Q694.794 1448.67 697.988 1451.35 Q701.182 1454.04 701.182 1458.53 Q701.182 1460.66 700.372 1462.58 Q699.585 1464.48 697.479 1467.07 Q696.9 1467.74 693.798 1470.96 Q690.696 1474.15 685.048 1479.92 Z\" fill=\"#000000\" fill-rule=\"evenodd\" fill-opacity=\"1\" /><path clip-path=\"url(#clip340)\" d=\"M 0 0 M706.483 1449.29 L724.84 1449.29 L724.84 1453.23 L710.766 1453.23 L710.766 1461.7 Q711.784 1461.35 712.803 1461.19 Q713.821 1461 714.84 1461 Q720.627 1461 724.006 1464.18 Q727.386 1467.35 727.386 1472.76 Q727.386 1478.34 723.914 1481.44 Q720.442 1484.52 714.122 1484.52 Q711.946 1484.52 709.678 1484.15 Q707.432 1483.78 705.025 1483.04 L705.025 1478.34 Q707.108 1479.48 709.331 1480.03 Q711.553 1480.59 714.03 1480.59 Q718.034 1480.59 720.372 1478.48 Q722.71 1476.38 722.71 1472.76 Q722.71 1469.15 720.372 1467.05 Q718.034 1464.94 714.03 1464.94 Q712.155 1464.94 710.28 1465.36 Q708.428 1465.77 706.483 1466.65 L706.483 1449.29 Z\" fill=\"#000000\" fill-rule=\"evenodd\" fill-opacity=\"1\" /><path clip-path=\"url(#clip340)\" d=\"M 0 0 M1074.87 1467.44 Q1071.54 1467.44 1069.62 1469.22 Q1067.72 1471 1067.72 1474.13 Q1067.72 1477.25 1069.62 1479.04 Q1071.54 1480.82 1074.87 1480.82 Q1078.2 1480.82 1080.13 1479.04 Q1082.05 1477.23 1082.05 1474.13 Q1082.05 1471 1080.13 1469.22 Q1078.23 1467.44 1074.87 1467.44 M1070.19 1465.45 Q1067.19 1464.71 1065.5 1462.65 Q1063.83 1460.59 1063.83 1457.63 Q1063.83 1453.48 1066.77 1451.07 Q1069.73 1448.67 1074.87 1448.67 Q1080.03 1448.67 1082.97 1451.07 Q1085.91 1453.48 1085.91 1457.63 Q1085.91 1460.59 1084.22 1462.65 Q1082.56 1464.71 1079.57 1465.45 Q1082.95 1466.24 1084.82 1468.53 Q1086.72 1470.82 1086.72 1474.13 Q1086.72 1479.15 1083.64 1481.84 Q1080.59 1484.52 1074.87 1484.52 Q1069.15 1484.52 1066.07 1481.84 Q1063.02 1479.15 1063.02 1474.13 Q1063.02 1470.82 1064.92 1468.53 Q1066.82 1466.24 1070.19 1465.45 M1068.48 1458.06 Q1068.48 1460.75 1070.15 1462.25 Q1071.84 1463.76 1074.87 1463.76 Q1077.88 1463.76 1079.57 1462.25 Q1081.28 1460.75 1081.28 1458.06 Q1081.28 1455.38 1079.57 1453.88 Q1077.88 1452.37 1074.87 1452.37 Q1071.84 1452.37 1070.15 1453.88 Q1068.48 1455.38 1068.48 1458.06 Z\" fill=\"#000000\" fill-rule=\"evenodd\" fill-opacity=\"1\" /><path clip-path=\"url(#clip340)\" d=\"M 0 0 M1091.79 1477.97 L1096.68 1477.97 L1096.68 1483.85 L1091.79 1483.85 L1091.79 1477.97 Z\" fill=\"#000000\" fill-rule=\"evenodd\" fill-opacity=\"1\" /><path clip-path=\"url(#clip340)\" d=\"M 0 0 M1101.79 1449.29 L1120.15 1449.29 L1120.15 1453.23 L1106.07 1453.23 L1106.07 1461.7 Q1107.09 1461.35 1108.11 1461.19 Q1109.13 1461 1110.15 1461 Q1115.94 1461 1119.31 1464.18 Q1122.69 1467.35 1122.69 1472.76 Q1122.69 1478.34 1119.22 1481.44 Q1115.75 1484.52 1109.43 1484.52 Q1107.25 1484.52 1104.99 1484.15 Q1102.74 1483.78 1100.33 1483.04 L1100.33 1478.34 Q1102.42 1479.48 1104.64 1480.03 Q1106.86 1480.59 1109.34 1480.59 Q1113.34 1480.59 1115.68 1478.48 Q1118.02 1476.38 1118.02 1472.76 Q1118.02 1469.15 1115.68 1467.05 Q1113.34 1464.94 1109.34 1464.94 Q1107.46 1464.94 1105.59 1465.36 Q1103.74 1465.77 1101.79 1466.65 L1101.79 1449.29 Z\" fill=\"#000000\" fill-rule=\"evenodd\" fill-opacity=\"1\" /><path clip-path=\"url(#clip340)\" d=\"M 0 0 M1137.76 1452.37 Q1134.15 1452.37 1132.32 1455.94 Q1130.52 1459.48 1130.52 1466.61 Q1130.52 1473.71 1132.32 1477.28 Q1134.15 1480.82 1137.76 1480.82 Q1141.4 1480.82 1143.2 1477.28 Q1145.03 1473.71 1145.03 1466.61 Q1145.03 1459.48 1143.2 1455.94 Q1141.4 1452.37 1137.76 1452.37 M1137.76 1448.67 Q1143.57 1448.67 1146.63 1453.27 Q1149.71 1457.86 1149.71 1466.61 Q1149.71 1475.33 1146.63 1479.94 Q1143.57 1484.52 1137.76 1484.52 Q1131.95 1484.52 1128.87 1479.94 Q1125.82 1475.33 1125.82 1466.61 Q1125.82 1457.86 1128.87 1453.27 Q1131.95 1448.67 1137.76 1448.67 Z\" fill=\"#000000\" fill-rule=\"evenodd\" fill-opacity=\"1\" /><path clip-path=\"url(#clip340)\" d=\"M 0 0 M1496.85 1467.44 Q1493.51 1467.44 1491.59 1469.22 Q1489.69 1471 1489.69 1474.13 Q1489.69 1477.25 1491.59 1479.04 Q1493.51 1480.82 1496.85 1480.82 Q1500.18 1480.82 1502.1 1479.04 Q1504.02 1477.23 1504.02 1474.13 Q1504.02 1471 1502.1 1469.22 Q1500.2 1467.44 1496.85 1467.44 M1492.17 1465.45 Q1489.16 1464.71 1487.47 1462.65 Q1485.8 1460.59 1485.8 1457.63 Q1485.8 1453.48 1488.74 1451.07 Q1491.71 1448.67 1496.85 1448.67 Q1502.01 1448.67 1504.95 1451.07 Q1507.89 1453.48 1507.89 1457.63 Q1507.89 1460.59 1506.2 1462.65 Q1504.53 1464.71 1501.54 1465.45 Q1504.92 1466.24 1506.8 1468.53 Q1508.7 1470.82 1508.7 1474.13 Q1508.7 1479.15 1505.62 1481.84 Q1502.56 1484.52 1496.85 1484.52 Q1491.13 1484.52 1488.05 1481.84 Q1484.99 1479.15 1484.99 1474.13 Q1484.99 1470.82 1486.89 1468.53 Q1488.79 1466.24 1492.17 1465.45 M1490.46 1458.06 Q1490.46 1460.75 1492.12 1462.25 Q1493.81 1463.76 1496.85 1463.76 Q1499.85 1463.76 1501.54 1462.25 Q1503.26 1460.75 1503.26 1458.06 Q1503.26 1455.38 1501.54 1453.88 Q1499.85 1452.37 1496.85 1452.37 Q1493.81 1452.37 1492.12 1453.88 Q1490.46 1455.38 1490.46 1458.06 Z\" fill=\"#000000\" fill-rule=\"evenodd\" fill-opacity=\"1\" /><path clip-path=\"url(#clip340)\" d=\"M 0 0 M1513.77 1477.97 L1518.65 1477.97 L1518.65 1483.85 L1513.77 1483.85 L1513.77 1477.97 Z\" fill=\"#000000\" fill-rule=\"evenodd\" fill-opacity=\"1\" /><path clip-path=\"url(#clip340)\" d=\"M 0 0 M1522.54 1449.29 L1544.76 1449.29 L1544.76 1451.28 L1532.22 1483.85 L1527.33 1483.85 L1539.14 1453.23 L1522.54 1453.23 L1522.54 1449.29 Z\" fill=\"#000000\" fill-rule=\"evenodd\" fill-opacity=\"1\" /><path clip-path=\"url(#clip340)\" d=\"M 0 0 M1549.88 1449.29 L1568.23 1449.29 L1568.23 1453.23 L1554.16 1453.23 L1554.16 1461.7 Q1555.18 1461.35 1556.2 1461.19 Q1557.22 1461 1558.23 1461 Q1564.02 1461 1567.4 1464.18 Q1570.78 1467.35 1570.78 1472.76 Q1570.78 1478.34 1567.31 1481.44 Q1563.84 1484.52 1557.52 1484.52 Q1555.34 1484.52 1553.07 1484.15 Q1550.83 1483.78 1548.42 1483.04 L1548.42 1478.34 Q1550.5 1479.48 1552.72 1480.03 Q1554.95 1480.59 1557.42 1480.59 Q1561.43 1480.59 1563.77 1478.48 Q1566.1 1476.38 1566.1 1472.76 Q1566.1 1469.15 1563.77 1467.05 Q1561.43 1464.94 1557.42 1464.94 Q1555.55 1464.94 1553.67 1465.36 Q1551.82 1465.77 1549.88 1466.65 L1549.88 1449.29 Z\" fill=\"#000000\" fill-rule=\"evenodd\" fill-opacity=\"1\" /><path clip-path=\"url(#clip340)\" d=\"M 0 0 M1907.72 1483.13 L1907.72 1478.88 Q1909.48 1479.71 1911.29 1480.15 Q1913.09 1480.59 1914.83 1480.59 Q1919.46 1480.59 1921.89 1477.49 Q1924.34 1474.36 1924.69 1468.02 Q1923.35 1470.01 1921.29 1471.07 Q1919.23 1472.14 1916.73 1472.14 Q1911.54 1472.14 1908.51 1469.01 Q1905.5 1465.87 1905.5 1460.43 Q1905.5 1455.1 1908.65 1451.88 Q1911.8 1448.67 1917.03 1448.67 Q1923.02 1448.67 1926.17 1453.27 Q1929.34 1457.86 1929.34 1466.61 Q1929.34 1474.78 1925.45 1479.66 Q1921.59 1484.52 1915.04 1484.52 Q1913.28 1484.52 1911.47 1484.18 Q1909.67 1483.83 1907.72 1483.13 M1917.03 1468.48 Q1920.17 1468.48 1922 1466.33 Q1923.86 1464.18 1923.86 1460.43 Q1923.86 1456.7 1922 1454.55 Q1920.17 1452.37 1917.03 1452.37 Q1913.88 1452.37 1912.03 1454.55 Q1910.2 1456.7 1910.2 1460.43 Q1910.2 1464.18 1912.03 1466.33 Q1913.88 1468.48 1917.03 1468.48 Z\" fill=\"#000000\" fill-rule=\"evenodd\" fill-opacity=\"1\" /><path clip-path=\"url(#clip340)\" d=\"M 0 0 M1934.41 1477.97 L1939.29 1477.97 L1939.29 1483.85 L1934.41 1483.85 L1934.41 1477.97 Z\" fill=\"#000000\" fill-rule=\"evenodd\" fill-opacity=\"1\" /><path clip-path=\"url(#clip340)\" d=\"M 0 0 M1954.36 1452.37 Q1950.75 1452.37 1948.92 1455.94 Q1947.12 1459.48 1947.12 1466.61 Q1947.12 1473.71 1948.92 1477.28 Q1950.75 1480.82 1954.36 1480.82 Q1958 1480.82 1959.8 1477.28 Q1961.63 1473.71 1961.63 1466.61 Q1961.63 1459.48 1959.8 1455.94 Q1958 1452.37 1954.36 1452.37 M1954.36 1448.67 Q1960.17 1448.67 1963.23 1453.27 Q1966.31 1457.86 1966.31 1466.61 Q1966.31 1475.33 1963.23 1479.94 Q1960.17 1484.52 1954.36 1484.52 Q1948.55 1484.52 1945.48 1479.94 Q1942.42 1475.33 1942.42 1466.61 Q1942.42 1457.86 1945.48 1453.27 Q1948.55 1448.67 1954.36 1448.67 Z\" fill=\"#000000\" fill-rule=\"evenodd\" fill-opacity=\"1\" /><path clip-path=\"url(#clip340)\" d=\"M 0 0 M1981.38 1452.37 Q1977.77 1452.37 1975.94 1455.94 Q1974.13 1459.48 1974.13 1466.61 Q1974.13 1473.71 1975.94 1477.28 Q1977.77 1480.82 1981.38 1480.82 Q1985.01 1480.82 1986.82 1477.28 Q1988.65 1473.71 1988.65 1466.61 Q1988.65 1459.48 1986.82 1455.94 Q1985.01 1452.37 1981.38 1452.37 M1981.38 1448.67 Q1987.19 1448.67 1990.24 1453.27 Q1993.32 1457.86 1993.32 1466.61 Q1993.32 1475.33 1990.24 1479.94 Q1987.19 1484.52 1981.38 1484.52 Q1975.57 1484.52 1972.49 1479.94 Q1969.43 1475.33 1969.43 1466.61 Q1969.43 1457.86 1972.49 1453.27 Q1975.57 1448.67 1981.38 1448.67 Z\" fill=\"#000000\" fill-rule=\"evenodd\" fill-opacity=\"1\" /><path clip-path=\"url(#clip340)\" d=\"M 0 0 M1196.33 1533.76 Q1198.4 1534.46 1200.34 1536.76 Q1202.32 1539.05 1204.29 1543.06 L1210.82 1556.04 L1203.91 1556.04 L1197.83 1543.85 Q1195.47 1539.08 1193.25 1537.52 Q1191.05 1535.96 1187.23 1535.96 L1180.23 1535.96 L1180.23 1556.04 L1173.8 1556.04 L1173.8 1508.52 L1188.31 1508.52 Q1196.46 1508.52 1200.47 1511.93 Q1204.48 1515.34 1204.48 1522.21 Q1204.48 1526.7 1202.38 1529.66 Q1200.31 1532.62 1196.33 1533.76 M1180.23 1513.81 L1180.23 1530.68 L1188.31 1530.68 Q1192.96 1530.68 1195.31 1528.54 Q1197.7 1526.38 1197.7 1522.21 Q1197.7 1518.04 1195.31 1515.94 Q1192.96 1513.81 1188.31 1513.81 L1180.23 1513.81 Z\" fill=\"#000000\" fill-rule=\"evenodd\" fill-opacity=\"1\" /><path clip-path=\"url(#clip340)\" d=\"M 0 0 M1231.73 1538.12 Q1224.63 1538.12 1221.89 1539.75 Q1219.15 1541.37 1219.15 1545.29 Q1219.15 1548.4 1221.19 1550.25 Q1223.26 1552.07 1226.79 1552.07 Q1231.66 1552.07 1234.59 1548.63 Q1237.55 1545.16 1237.55 1539.43 L1237.55 1538.12 L1231.73 1538.12 M1243.41 1535.71 L1243.41 1556.04 L1237.55 1556.04 L1237.55 1550.63 Q1235.55 1553.88 1232.55 1555.44 Q1229.56 1556.97 1225.23 1556.97 Q1219.76 1556.97 1216.51 1553.91 Q1213.3 1550.82 1213.3 1545.67 Q1213.3 1539.65 1217.31 1536.6 Q1221.35 1533.54 1229.34 1533.54 L1237.55 1533.54 L1237.55 1532.97 Q1237.55 1528.93 1234.88 1526.73 Q1232.24 1524.5 1227.43 1524.5 Q1224.37 1524.5 1221.48 1525.23 Q1218.58 1525.97 1215.91 1527.43 L1215.91 1522.02 Q1219.12 1520.78 1222.15 1520.17 Q1225.17 1519.54 1228.03 1519.54 Q1235.77 1519.54 1239.59 1523.55 Q1243.41 1527.56 1243.41 1535.71 Z\" fill=\"#000000\" fill-rule=\"evenodd\" fill-opacity=\"1\" /><path clip-path=\"url(#clip340)\" d=\"M 0 0 M1255.34 1510.27 L1255.34 1520.4 L1267.41 1520.4 L1267.41 1524.95 L1255.34 1524.95 L1255.34 1544.3 Q1255.34 1548.66 1256.52 1549.9 Q1257.73 1551.14 1261.39 1551.14 L1267.41 1551.14 L1267.41 1556.04 L1261.39 1556.04 Q1254.61 1556.04 1252.03 1553.53 Q1249.46 1550.98 1249.46 1544.3 L1249.46 1524.95 L1245.16 1524.95 L1245.16 1520.4 L1249.46 1520.4 L1249.46 1510.27 L1255.34 1510.27 Z\" fill=\"#000000\" fill-rule=\"evenodd\" fill-opacity=\"1\" /><path clip-path=\"url(#clip340)\" d=\"M 0 0 M1273.55 1520.4 L1279.41 1520.4 L1279.41 1556.04 L1273.55 1556.04 L1273.55 1520.4 M1273.55 1506.52 L1279.41 1506.52 L1279.41 1513.93 L1273.55 1513.93 L1273.55 1506.52 Z\" fill=\"#000000\" fill-rule=\"evenodd\" fill-opacity=\"1\" /><path clip-path=\"url(#clip340)\" d=\"M 0 0 M1315.18 1534.53 L1315.18 1556.04 L1309.32 1556.04 L1309.32 1534.72 Q1309.32 1529.66 1307.35 1527.14 Q1305.38 1524.63 1301.43 1524.63 Q1296.69 1524.63 1293.95 1527.65 Q1291.21 1530.68 1291.21 1535.9 L1291.21 1556.04 L1285.33 1556.04 L1285.33 1520.4 L1291.21 1520.4 L1291.21 1525.93 Q1293.31 1522.72 1296.15 1521.13 Q1299.01 1519.54 1302.74 1519.54 Q1308.88 1519.54 1312.03 1523.36 Q1315.18 1527.14 1315.18 1534.53 Z\" fill=\"#000000\" fill-rule=\"evenodd\" fill-opacity=\"1\" /><path clip-path=\"url(#clip340)\" d=\"M 0 0 M1344.78 1537.81 Q1344.78 1531.44 1342.14 1527.94 Q1339.53 1524.44 1334.79 1524.44 Q1330.08 1524.44 1327.43 1527.94 Q1324.83 1531.44 1324.83 1537.81 Q1324.83 1544.14 1327.43 1547.64 Q1330.08 1551.14 1334.79 1551.14 Q1339.53 1551.14 1342.14 1547.64 Q1344.78 1544.14 1344.78 1537.81 M1350.64 1551.62 Q1350.64 1560.72 1346.6 1565.15 Q1342.55 1569.6 1334.21 1569.6 Q1331.13 1569.6 1328.39 1569.13 Q1325.65 1568.68 1323.07 1567.72 L1323.07 1562.03 Q1325.65 1563.43 1328.17 1564.1 Q1330.68 1564.76 1333.29 1564.76 Q1339.05 1564.76 1341.92 1561.74 Q1344.78 1558.75 1344.78 1552.67 L1344.78 1549.77 Q1342.97 1552.92 1340.13 1554.48 Q1337.3 1556.04 1333.36 1556.04 Q1326.8 1556.04 1322.79 1551.05 Q1318.78 1546.05 1318.78 1537.81 Q1318.78 1529.53 1322.79 1524.53 Q1326.8 1519.54 1333.36 1519.54 Q1337.3 1519.54 1340.13 1521.1 Q1342.97 1522.66 1344.78 1525.81 L1344.78 1520.4 L1350.64 1520.4 L1350.64 1551.62 Z\" fill=\"#000000\" fill-rule=\"evenodd\" fill-opacity=\"1\" /><path clip-path=\"url(#clip340)\" d=\"M 0 0 M1379.51 1521.45 L1379.51 1526.98 Q1377.02 1525.71 1374.35 1525.07 Q1371.68 1524.44 1368.81 1524.44 Q1364.45 1524.44 1362.26 1525.77 Q1360.09 1527.11 1360.09 1529.79 Q1360.09 1531.82 1361.65 1533 Q1363.21 1534.15 1367.92 1535.2 L1369.93 1535.64 Q1376.16 1536.98 1378.77 1539.43 Q1381.42 1541.85 1381.42 1546.21 Q1381.42 1551.17 1377.47 1554.07 Q1373.55 1556.97 1366.68 1556.97 Q1363.82 1556.97 1360.7 1556.39 Q1357.61 1555.85 1354.17 1554.74 L1354.17 1548.69 Q1357.42 1550.38 1360.57 1551.24 Q1363.72 1552.07 1366.81 1552.07 Q1370.94 1552.07 1373.17 1550.66 Q1375.4 1549.23 1375.4 1546.65 Q1375.4 1544.27 1373.78 1542.99 Q1372.19 1541.72 1366.74 1540.54 L1364.71 1540.07 Q1359.26 1538.92 1356.84 1536.56 Q1354.43 1534.18 1354.43 1530.04 Q1354.43 1525.01 1357.99 1522.27 Q1361.56 1519.54 1368.11 1519.54 Q1371.36 1519.54 1374.22 1520.01 Q1377.09 1520.49 1379.51 1521.45 Z\" fill=\"#000000\" fill-rule=\"evenodd\" fill-opacity=\"1\" /><polyline clip-path=\"url(#clip342)\" style=\"stroke:#000000; stroke-width:2; stroke-opacity:0.1; fill:none\" points=\"\n",
       "  202.459,1403.43 2352.76,1403.43 \n",
       "  \"/>\n",
       "<polyline clip-path=\"url(#clip342)\" style=\"stroke:#000000; stroke-width:2; stroke-opacity:0.1; fill:none\" points=\"\n",
       "  202.459,1062.83 2352.76,1062.83 \n",
       "  \"/>\n",
       "<polyline clip-path=\"url(#clip342)\" style=\"stroke:#000000; stroke-width:2; stroke-opacity:0.1; fill:none\" points=\"\n",
       "  202.459,722.237 2352.76,722.237 \n",
       "  \"/>\n",
       "<polyline clip-path=\"url(#clip342)\" style=\"stroke:#000000; stroke-width:2; stroke-opacity:0.1; fill:none\" points=\"\n",
       "  202.459,381.643 2352.76,381.643 \n",
       "  \"/>\n",
       "<polyline clip-path=\"url(#clip340)\" style=\"stroke:#000000; stroke-width:4; stroke-opacity:1; fill:none\" points=\"\n",
       "  202.459,1423.18 202.459,123.472 \n",
       "  \"/>\n",
       "<polyline clip-path=\"url(#clip340)\" style=\"stroke:#000000; stroke-width:4; stroke-opacity:1; fill:none\" points=\"\n",
       "  202.459,1403.43 228.263,1403.43 \n",
       "  \"/>\n",
       "<polyline clip-path=\"url(#clip340)\" style=\"stroke:#000000; stroke-width:4; stroke-opacity:1; fill:none\" points=\"\n",
       "  202.459,1062.83 228.263,1062.83 \n",
       "  \"/>\n",
       "<polyline clip-path=\"url(#clip340)\" style=\"stroke:#000000; stroke-width:4; stroke-opacity:1; fill:none\" points=\"\n",
       "  202.459,722.237 228.263,722.237 \n",
       "  \"/>\n",
       "<polyline clip-path=\"url(#clip340)\" style=\"stroke:#000000; stroke-width:4; stroke-opacity:1; fill:none\" points=\"\n",
       "  202.459,381.643 228.263,381.643 \n",
       "  \"/>\n",
       "<path clip-path=\"url(#clip340)\" d=\"M 0 0 M154.515 1389.22 Q150.903 1389.22 149.075 1392.79 Q147.269 1396.33 147.269 1403.46 Q147.269 1410.57 149.075 1414.13 Q150.903 1417.67 154.515 1417.67 Q158.149 1417.67 159.954 1414.13 Q161.783 1410.57 161.783 1403.46 Q161.783 1396.33 159.954 1392.79 Q158.149 1389.22 154.515 1389.22 M154.515 1385.52 Q160.325 1385.52 163.38 1390.13 Q166.459 1394.71 166.459 1403.46 Q166.459 1412.19 163.38 1416.79 Q160.325 1421.38 154.515 1421.38 Q148.704 1421.38 145.626 1416.79 Q142.57 1412.19 142.57 1403.46 Q142.57 1394.71 145.626 1390.13 Q148.704 1385.52 154.515 1385.52 Z\" fill=\"#000000\" fill-rule=\"evenodd\" fill-opacity=\"1\" /><path clip-path=\"url(#clip340)\" d=\"M 0 0 M123.126 1076.18 L139.445 1076.18 L139.445 1080.11 L117.501 1080.11 L117.501 1076.18 Q120.163 1073.42 124.746 1068.79 Q129.353 1064.14 130.533 1062.8 Q132.779 1060.27 133.658 1058.54 Q134.561 1056.78 134.561 1055.09 Q134.561 1052.33 132.617 1050.6 Q130.695 1048.86 127.593 1048.86 Q125.394 1048.86 122.941 1049.63 Q120.51 1050.39 117.732 1051.94 L117.732 1047.22 Q120.556 1046.08 123.01 1045.5 Q125.464 1044.93 127.501 1044.93 Q132.871 1044.93 136.066 1047.61 Q139.26 1050.3 139.26 1054.79 Q139.26 1056.92 138.45 1058.84 Q137.663 1060.74 135.556 1063.33 Q134.978 1064 131.876 1067.22 Q128.774 1070.41 123.126 1076.18 Z\" fill=\"#000000\" fill-rule=\"evenodd\" fill-opacity=\"1\" /><path clip-path=\"url(#clip340)\" d=\"M 0 0 M154.515 1048.63 Q150.903 1048.63 149.075 1052.19 Q147.269 1055.74 147.269 1062.87 Q147.269 1069.97 149.075 1073.54 Q150.903 1077.08 154.515 1077.08 Q158.149 1077.08 159.954 1073.54 Q161.783 1069.97 161.783 1062.87 Q161.783 1055.74 159.954 1052.19 Q158.149 1048.63 154.515 1048.63 M154.515 1044.93 Q160.325 1044.93 163.38 1049.53 Q166.459 1054.12 166.459 1062.87 Q166.459 1071.59 163.38 1076.2 Q160.325 1080.78 154.515 1080.78 Q148.704 1080.78 145.626 1076.2 Q142.57 1071.59 142.57 1062.87 Q142.57 1054.12 145.626 1049.53 Q148.704 1044.93 154.515 1044.93 Z\" fill=\"#000000\" fill-rule=\"evenodd\" fill-opacity=\"1\" /><path clip-path=\"url(#clip340)\" d=\"M 0 0 M129.862 709.031 L118.056 727.48 L129.862 727.48 L129.862 709.031 M128.635 704.957 L134.515 704.957 L134.515 727.48 L139.445 727.48 L139.445 731.369 L134.515 731.369 L134.515 739.517 L129.862 739.517 L129.862 731.369 L114.26 731.369 L114.26 726.855 L128.635 704.957 Z\" fill=\"#000000\" fill-rule=\"evenodd\" fill-opacity=\"1\" /><path clip-path=\"url(#clip340)\" d=\"M 0 0 M154.515 708.036 Q150.903 708.036 149.075 711.6 Q147.269 715.142 147.269 722.272 Q147.269 729.378 149.075 732.943 Q150.903 736.484 154.515 736.484 Q158.149 736.484 159.954 732.943 Q161.783 729.378 161.783 722.272 Q161.783 715.142 159.954 711.6 Q158.149 708.036 154.515 708.036 M154.515 704.332 Q160.325 704.332 163.38 708.938 Q166.459 713.522 166.459 722.272 Q166.459 730.998 163.38 735.605 Q160.325 740.188 154.515 740.188 Q148.704 740.188 145.626 735.605 Q142.57 730.998 142.57 722.272 Q142.57 713.522 145.626 708.938 Q148.704 704.332 154.515 704.332 Z\" fill=\"#000000\" fill-rule=\"evenodd\" fill-opacity=\"1\" /><path clip-path=\"url(#clip340)\" d=\"M 0 0 M127.917 379.779 Q124.769 379.779 122.918 381.932 Q121.089 384.085 121.089 387.835 Q121.089 391.562 122.918 393.737 Q124.769 395.89 127.917 395.89 Q131.066 395.89 132.894 393.737 Q134.746 391.562 134.746 387.835 Q134.746 384.085 132.894 381.932 Q131.066 379.779 127.917 379.779 M137.2 365.126 L137.2 369.386 Q135.441 368.552 133.635 368.113 Q131.853 367.673 130.093 367.673 Q125.464 367.673 123.01 370.798 Q120.58 373.923 120.232 380.242 Q121.598 378.228 123.658 377.163 Q125.718 376.075 128.195 376.075 Q133.404 376.075 136.413 379.247 Q139.445 382.395 139.445 387.835 Q139.445 393.159 136.297 396.376 Q133.149 399.594 127.917 399.594 Q121.922 399.594 118.751 395.011 Q115.58 390.404 115.58 381.677 Q115.58 373.483 119.468 368.622 Q123.357 363.738 129.908 363.738 Q131.667 363.738 133.45 364.085 Q135.255 364.432 137.2 365.126 Z\" fill=\"#000000\" fill-rule=\"evenodd\" fill-opacity=\"1\" /><path clip-path=\"url(#clip340)\" d=\"M 0 0 M154.515 367.441 Q150.903 367.441 149.075 371.006 Q147.269 374.548 147.269 381.677 Q147.269 388.784 149.075 392.349 Q150.903 395.89 154.515 395.89 Q158.149 395.89 159.954 392.349 Q161.783 388.784 161.783 381.677 Q161.783 374.548 159.954 371.006 Q158.149 367.441 154.515 367.441 M154.515 363.738 Q160.325 363.738 163.38 368.344 Q166.459 372.927 166.459 381.677 Q166.459 390.404 163.38 395.011 Q160.325 399.594 154.515 399.594 Q148.704 399.594 145.626 395.011 Q142.57 390.404 142.57 381.677 Q142.57 372.927 145.626 368.344 Q148.704 363.738 154.515 363.738 Z\" fill=\"#000000\" fill-rule=\"evenodd\" fill-opacity=\"1\" /><path clip-path=\"url(#clip340)\" d=\"M 0 0 M40.4842 1040.7 L40.4842 1032.04 L80.238 1010.97 L40.4842 1010.97 L40.4842 1004.74 L88.0042 1004.74 L88.0042 1013.39 L48.2503 1034.46 L88.0042 1034.46 L88.0042 1040.7 L40.4842 1040.7 Z\" fill=\"#000000\" fill-rule=\"evenodd\" fill-opacity=\"1\" /><path clip-path=\"url(#clip340)\" d=\"M 0 0 M73.9359 999.197 L52.3562 999.197 L52.3562 993.341 L73.7131 993.341 Q78.7739 993.341 81.3202 991.367 Q83.8346 989.394 83.8346 985.447 Q83.8346 980.705 80.8109 977.968 Q77.7872 975.198 72.5673 975.198 L52.3562 975.198 L52.3562 969.342 L88.0042 969.342 L88.0042 975.198 L82.5296 975.198 Q85.7762 977.331 87.3676 980.164 Q88.9272 982.965 88.9272 986.689 Q88.9272 992.831 85.1078 996.014 Q81.2883 999.197 73.9359 999.197 M51.4968 984.461 L51.4968 984.461 Z\" fill=\"#000000\" fill-rule=\"evenodd\" fill-opacity=\"1\" /><path clip-path=\"url(#clip340)\" d=\"M 0 0 M59.1993 935.445 Q55.2526 933.248 53.3747 930.193 Q51.4968 927.137 51.4968 923 Q51.4968 917.43 55.4117 914.406 Q59.2948 911.382 66.4881 911.382 L88.0042 911.382 L88.0042 917.271 L66.679 917.271 Q61.5546 917.271 59.072 919.085 Q56.5894 920.899 56.5894 924.623 Q56.5894 929.174 59.6131 931.816 Q62.6368 934.458 67.8567 934.458 L88.0042 934.458 L88.0042 940.346 L66.679 940.346 Q61.5228 940.346 59.072 942.16 Q56.5894 943.975 56.5894 947.762 Q56.5894 952.25 59.6449 954.892 Q62.6686 957.534 67.8567 957.534 L88.0042 957.534 L88.0042 963.422 L52.3562 963.422 L52.3562 957.534 L57.8944 957.534 Q54.616 955.528 53.0564 952.728 Q51.4968 949.927 51.4968 946.075 Q51.4968 942.192 53.4702 939.487 Q55.4436 936.75 59.1993 935.445 Z\" fill=\"#000000\" fill-rule=\"evenodd\" fill-opacity=\"1\" /><path clip-path=\"url(#clip340)\" d=\"M 0 0 M70.212 879.649 Q63.7508 879.649 60.0905 882.323 Q56.3984 884.965 56.3984 889.612 Q56.3984 894.258 60.0905 896.932 Q63.7508 899.574 70.212 899.574 Q76.6732 899.574 80.3653 896.932 Q84.0256 894.258 84.0256 889.612 Q84.0256 884.965 80.3653 882.323 Q76.6732 879.649 70.212 879.649 M57.7671 899.574 Q54.5842 897.728 53.0564 894.927 Q51.4968 892.094 51.4968 888.179 Q51.4968 881.686 56.6531 877.644 Q61.8093 873.57 70.212 873.57 Q78.6147 873.57 83.771 877.644 Q88.9272 881.686 88.9272 888.179 Q88.9272 892.094 87.3994 894.927 Q85.8398 897.728 82.657 899.574 L88.0042 899.574 L88.0042 905.462 L38.479 905.462 L38.479 899.574 L57.7671 899.574 Z\" fill=\"#000000\" fill-rule=\"evenodd\" fill-opacity=\"1\" /><path clip-path=\"url(#clip340)\" d=\"M 0 0 M68.7161 836.935 L71.5806 836.935 L71.5806 863.862 Q77.6281 863.48 80.8109 860.234 Q83.9619 856.955 83.9619 851.131 Q83.9619 847.757 83.1344 844.606 Q82.3069 841.423 80.6518 838.304 L86.1899 838.304 Q87.5267 841.455 88.227 844.765 Q88.9272 848.075 88.9272 851.481 Q88.9272 860.011 83.9619 865.008 Q78.9967 869.973 70.5303 869.973 Q61.7774 869.973 56.6531 865.263 Q51.4968 860.52 51.4968 852.499 Q51.4968 845.306 56.1438 841.137 Q60.7589 836.935 68.7161 836.935 M66.9973 842.792 Q62.1912 842.855 59.3266 845.497 Q56.4621 848.107 56.4621 852.436 Q56.4621 857.337 59.2312 860.297 Q62.0002 863.226 67.0292 863.671 L66.9973 842.792 Z\" fill=\"#000000\" fill-rule=\"evenodd\" fill-opacity=\"1\" /><path clip-path=\"url(#clip340)\" d=\"M 0 0 M57.8307 810.136 Q57.2578 811.122 57.0032 812.3 Q56.7167 813.446 56.7167 814.846 Q56.7167 819.812 59.9632 822.485 Q63.1779 825.127 69.2253 825.127 L88.0042 825.127 L88.0042 831.015 L52.3562 831.015 L52.3562 825.127 L57.8944 825.127 Q54.6479 823.281 53.0883 820.321 Q51.4968 817.361 51.4968 813.128 Q51.4968 812.523 51.5923 811.791 Q51.656 811.059 51.8151 810.168 L57.8307 810.136 Z\" fill=\"#000000\" fill-rule=\"evenodd\" fill-opacity=\"1\" /><path clip-path=\"url(#clip340)\" d=\"M 0 0 M56.4621 769.459 Q56.4621 774.169 60.1542 776.907 Q63.8145 779.644 70.212 779.644 Q76.6095 779.644 80.3017 776.939 Q83.9619 774.201 83.9619 769.459 Q83.9619 764.78 80.2698 762.043 Q76.5777 759.306 70.212 759.306 Q63.8781 759.306 60.186 762.043 Q56.4621 764.78 56.4621 769.459 M51.4968 769.459 Q51.4968 761.82 56.4621 757.459 Q61.4273 753.099 70.212 753.099 Q78.9649 753.099 83.9619 757.459 Q88.9272 761.82 88.9272 769.459 Q88.9272 777.129 83.9619 781.49 Q78.9649 785.819 70.212 785.819 Q61.4273 785.819 56.4621 781.49 Q51.4968 777.129 51.4968 769.459 Z\" fill=\"#000000\" fill-rule=\"evenodd\" fill-opacity=\"1\" /><path clip-path=\"url(#clip340)\" d=\"M 0 0 M38.479 728.909 L43.3487 728.909 L43.3487 734.511 Q43.3487 737.662 44.6219 738.903 Q45.895 740.113 49.2052 740.113 L52.3562 740.113 L52.3562 730.469 L56.9077 730.469 L56.9077 740.113 L88.0042 740.113 L88.0042 746.001 L56.9077 746.001 L56.9077 751.603 L52.3562 751.603 L52.3562 746.001 L49.8736 746.001 Q43.9216 746.001 41.2162 743.232 Q38.479 740.463 38.479 734.447 L38.479 728.909 Z\" fill=\"#000000\" fill-rule=\"evenodd\" fill-opacity=\"1\" /><path clip-path=\"url(#clip340)\" d=\"M 0 0 M40.4842 701.791 L40.4842 692.211 L72.8219 680.084 L40.4842 667.894 L40.4842 658.314 L88.0042 658.314 L88.0042 664.584 L46.277 664.584 L78.8694 676.838 L78.8694 683.299 L46.277 695.553 L88.0042 695.553 L88.0042 701.791 L40.4842 701.791 Z\" fill=\"#000000\" fill-rule=\"evenodd\" fill-opacity=\"1\" /><path clip-path=\"url(#clip340)\" d=\"M 0 0 M56.4621 638.357 Q56.4621 643.068 60.1542 645.805 Q63.8145 648.542 70.212 648.542 Q76.6095 648.542 80.3017 645.837 Q83.9619 643.1 83.9619 638.357 Q83.9619 633.678 80.2698 630.941 Q76.5777 628.204 70.212 628.204 Q63.8781 628.204 60.186 630.941 Q56.4621 633.678 56.4621 638.357 M51.4968 638.357 Q51.4968 630.718 56.4621 626.358 Q61.4273 621.997 70.212 621.997 Q78.9649 621.997 83.9619 626.358 Q88.9272 630.718 88.9272 638.357 Q88.9272 646.028 83.9619 650.388 Q78.9649 654.717 70.212 654.717 Q61.4273 654.717 56.4621 650.388 Q51.4968 646.028 51.4968 638.357 Z\" fill=\"#000000\" fill-rule=\"evenodd\" fill-opacity=\"1\" /><path clip-path=\"url(#clip340)\" d=\"M 0 0 M52.3562 620.056 L52.3562 613.849 L82.275 602.709 L52.3562 591.569 L52.3562 585.363 L88.0042 598.731 L88.0042 606.688 L52.3562 620.056 Z\" fill=\"#000000\" fill-rule=\"evenodd\" fill-opacity=\"1\" /><path clip-path=\"url(#clip340)\" d=\"M 0 0 M52.3562 579.22 L52.3562 573.363 L88.0042 573.363 L88.0042 579.22 L52.3562 579.22 M38.479 579.22 L38.479 573.363 L45.895 573.363 L45.895 579.22 L38.479 579.22 Z\" fill=\"#000000\" fill-rule=\"evenodd\" fill-opacity=\"1\" /><path clip-path=\"url(#clip340)\" d=\"M 0 0 M68.7161 536.729 L71.5806 536.729 L71.5806 563.656 Q77.6281 563.274 80.8109 560.027 Q83.9619 556.749 83.9619 550.924 Q83.9619 547.55 83.1344 544.399 Q82.3069 541.216 80.6518 538.097 L86.1899 538.097 Q87.5267 541.248 88.227 544.558 Q88.9272 547.869 88.9272 551.274 Q88.9272 559.804 83.9619 564.801 Q78.9967 569.767 70.5303 569.767 Q61.7774 569.767 56.6531 565.056 Q51.4968 560.314 51.4968 552.293 Q51.4968 545.099 56.1438 540.93 Q60.7589 536.729 68.7161 536.729 M66.9973 542.585 Q62.1912 542.649 59.3266 545.29 Q56.4621 547.9 56.4621 552.229 Q56.4621 557.131 59.2312 560.091 Q62.0002 563.019 67.0292 563.465 L66.9973 542.585 Z\" fill=\"#000000\" fill-rule=\"evenodd\" fill-opacity=\"1\" /><path clip-path=\"url(#clip340)\" d=\"M 0 0 M53.4065 507.86 L58.9447 507.86 Q57.6716 510.343 57.035 513.016 Q56.3984 515.69 56.3984 518.554 Q56.3984 522.915 57.7352 525.111 Q59.072 527.276 61.7456 527.276 Q63.7826 527.276 64.9603 525.716 Q66.1061 524.156 67.1565 519.446 L67.6021 517.44 Q68.9389 511.202 71.3897 508.592 Q73.8086 505.95 78.1691 505.95 Q83.1344 505.95 86.0308 509.897 Q88.9272 513.812 88.9272 520.687 Q88.9272 523.552 88.3543 526.671 Q87.8132 529.758 86.6992 533.196 L80.6518 533.196 Q82.3387 529.949 83.198 526.798 Q84.0256 523.647 84.0256 520.56 Q84.0256 516.422 82.6251 514.194 Q81.1929 511.966 78.6147 511.966 Q76.2276 511.966 74.9545 513.589 Q73.6813 515.181 72.5037 520.623 L72.0262 522.66 Q70.8804 528.103 68.5251 530.522 Q66.138 532.941 62.0002 532.941 Q56.9713 532.941 54.2341 529.376 Q51.4968 525.811 51.4968 519.255 Q51.4968 516.008 51.9743 513.144 Q52.4517 510.279 53.4065 507.86 Z\" fill=\"#000000\" fill-rule=\"evenodd\" fill-opacity=\"1\" /><path clip-path=\"url(#clip340)\" d=\"M 0 0 M128.69 12.096 L136.954 12.096 L149.674 63.2184 L162.353 12.096 L171.549 12.096 L184.268 63.2184 L196.948 12.096 L205.252 12.096 L190.061 72.576 L179.772 72.576 L167.012 20.0763 L154.13 72.576 L143.84 72.576 L128.69 12.096 Z\" fill=\"#000000\" fill-rule=\"evenodd\" fill-opacity=\"1\" /><path clip-path=\"url(#clip340)\" d=\"M 0 0 M250.784 45.1919 L250.784 72.576 L243.331 72.576 L243.331 45.4349 Q243.331 38.994 240.819 35.7938 Q238.307 32.5936 233.284 32.5936 Q227.248 32.5936 223.765 36.4419 Q220.281 40.2903 220.281 46.9338 L220.281 72.576 L212.787 72.576 L212.787 9.54393 L220.281 9.54393 L220.281 34.2544 Q222.955 30.163 226.56 28.1376 Q230.206 26.1121 234.945 26.1121 Q242.763 26.1121 246.774 30.9732 Q250.784 35.7938 250.784 45.1919 Z\" fill=\"#000000\" fill-rule=\"evenodd\" fill-opacity=\"1\" /><path clip-path=\"url(#clip340)\" d=\"M 0 0 M279.222 49.7694 Q270.188 49.7694 266.704 51.8354 Q263.221 53.9013 263.221 58.8839 Q263.221 62.8538 265.813 65.2034 Q268.446 67.5124 272.943 67.5124 Q279.141 67.5124 282.867 63.1374 Q286.635 58.7219 286.635 51.4303 L286.635 49.7694 L279.222 49.7694 M294.088 46.6907 L294.088 72.576 L286.635 72.576 L286.635 65.6895 Q284.083 69.8214 280.275 71.8063 Q276.467 73.7508 270.958 73.7508 Q263.99 73.7508 259.858 69.8619 Q255.767 65.9325 255.767 59.3701 Q255.767 51.7138 260.871 47.825 Q266.016 43.9361 276.183 43.9361 L286.635 43.9361 L286.635 43.2069 Q286.635 38.0623 283.232 35.2672 Q279.87 32.4315 273.753 32.4315 Q269.864 32.4315 266.178 33.3632 Q262.491 34.295 259.089 36.1584 L259.089 29.2718 Q263.18 27.692 267.028 26.9223 Q270.877 26.1121 274.523 26.1121 Q284.366 26.1121 289.227 31.2163 Q294.088 36.3204 294.088 46.6907 Z\" fill=\"#000000\" fill-rule=\"evenodd\" fill-opacity=\"1\" /><path clip-path=\"url(#clip340)\" d=\"M 0 0 M309.279 14.324 L309.279 27.2059 L324.632 27.2059 L324.632 32.9987 L309.279 32.9987 L309.279 57.6282 Q309.279 63.1779 310.778 64.7578 Q312.317 66.3376 316.976 66.3376 L324.632 66.3376 L324.632 72.576 L316.976 72.576 Q308.348 72.576 305.066 69.3758 Q301.785 66.1351 301.785 57.6282 L301.785 32.9987 L296.316 32.9987 L296.316 27.2059 L301.785 27.2059 L301.785 14.324 L309.279 14.324 Z\" fill=\"#000000\" fill-rule=\"evenodd\" fill-opacity=\"1\" /><path clip-path=\"url(#clip340)\" d=\"M 0 0 M379.441 49.7694 Q370.407 49.7694 366.924 51.8354 Q363.44 53.9013 363.44 58.8839 Q363.44 62.8538 366.032 65.2034 Q368.666 67.5124 373.162 67.5124 Q379.36 67.5124 383.087 63.1374 Q386.854 58.7219 386.854 51.4303 L386.854 49.7694 L379.441 49.7694 M394.308 46.6907 L394.308 72.576 L386.854 72.576 L386.854 65.6895 Q384.302 69.8214 380.494 71.8063 Q376.686 73.7508 371.177 73.7508 Q364.21 73.7508 360.078 69.8619 Q355.986 65.9325 355.986 59.3701 Q355.986 51.7138 361.09 47.825 Q366.235 43.9361 376.403 43.9361 L386.854 43.9361 L386.854 43.2069 Q386.854 38.0623 383.451 35.2672 Q380.089 32.4315 373.972 32.4315 Q370.083 32.4315 366.397 33.3632 Q362.711 34.295 359.308 36.1584 L359.308 29.2718 Q363.399 27.692 367.248 26.9223 Q371.096 26.1121 374.742 26.1121 Q384.586 26.1121 389.447 31.2163 Q394.308 36.3204 394.308 46.6907 Z\" fill=\"#000000\" fill-rule=\"evenodd\" fill-opacity=\"1\" /><path clip-path=\"url(#clip340)\" d=\"M 0 0 M428.416 34.1734 Q427.161 33.4443 425.662 33.1202 Q424.203 32.7556 422.421 32.7556 Q416.102 32.7556 412.699 36.8875 Q409.337 40.9789 409.337 48.6757 L409.337 72.576 L401.842 72.576 L401.842 27.2059 L409.337 27.2059 L409.337 34.2544 Q411.686 30.1225 415.453 28.1376 Q419.221 26.1121 424.609 26.1121 Q425.378 26.1121 426.31 26.2337 Q427.242 26.3147 428.376 26.5172 L428.416 34.1734 Z\" fill=\"#000000\" fill-rule=\"evenodd\" fill-opacity=\"1\" /><path clip-path=\"url(#clip340)\" d=\"M 0 0 M473.219 48.0275 L473.219 51.6733 L438.949 51.6733 Q439.435 59.3701 443.567 63.421 Q447.739 67.4314 455.152 67.4314 Q459.446 67.4314 463.457 66.3781 Q467.508 65.3249 471.477 63.2184 L471.477 70.267 Q467.467 71.9684 463.254 72.8596 Q459.041 73.7508 454.707 73.7508 Q443.85 73.7508 437.49 67.4314 Q431.171 61.1119 431.171 50.3365 Q431.171 39.1965 437.166 32.6746 Q443.202 26.1121 453.41 26.1121 Q462.565 26.1121 467.872 32.0264 Q473.219 37.9003 473.219 48.0275 M465.766 45.84 Q465.685 39.7232 462.322 36.0774 Q459.001 32.4315 453.491 32.4315 Q447.253 32.4315 443.486 35.9558 Q439.759 39.4801 439.192 45.8805 L465.766 45.84 Z\" fill=\"#000000\" fill-rule=\"evenodd\" fill-opacity=\"1\" /><path clip-path=\"url(#clip340)\" d=\"M 0 0 M514.782 14.324 L514.782 27.2059 L530.135 27.2059 L530.135 32.9987 L514.782 32.9987 L514.782 57.6282 Q514.782 63.1779 516.28 64.7578 Q517.82 66.3376 522.478 66.3376 L530.135 66.3376 L530.135 72.576 L522.478 72.576 Q513.85 72.576 510.569 69.3758 Q507.287 66.1351 507.287 57.6282 L507.287 32.9987 L501.819 32.9987 L501.819 27.2059 L507.287 27.2059 L507.287 14.324 L514.782 14.324 Z\" fill=\"#000000\" fill-rule=\"evenodd\" fill-opacity=\"1\" /><path clip-path=\"url(#clip340)\" d=\"M 0 0 M575.667 45.1919 L575.667 72.576 L568.213 72.576 L568.213 45.4349 Q568.213 38.994 565.702 35.7938 Q563.19 32.5936 558.167 32.5936 Q552.131 32.5936 548.647 36.4419 Q545.163 40.2903 545.163 46.9338 L545.163 72.576 L537.669 72.576 L537.669 9.54393 L545.163 9.54393 L545.163 34.2544 Q547.837 30.163 551.442 28.1376 Q555.088 26.1121 559.828 26.1121 Q567.646 26.1121 571.656 30.9732 Q575.667 35.7938 575.667 45.1919 Z\" fill=\"#000000\" fill-rule=\"evenodd\" fill-opacity=\"1\" /><path clip-path=\"url(#clip340)\" d=\"M 0 0 M622.293 48.0275 L622.293 51.6733 L588.022 51.6733 Q588.508 59.3701 592.64 63.421 Q596.812 67.4314 604.226 67.4314 Q608.52 67.4314 612.53 66.3781 Q616.581 65.3249 620.551 63.2184 L620.551 70.267 Q616.54 71.9684 612.327 72.8596 Q608.114 73.7508 603.78 73.7508 Q592.924 73.7508 586.564 67.4314 Q580.244 61.1119 580.244 50.3365 Q580.244 39.1965 586.24 32.6746 Q592.275 26.1121 602.484 26.1121 Q611.639 26.1121 616.945 32.0264 Q622.293 37.9003 622.293 48.0275 M614.839 45.84 Q614.758 39.7232 611.396 36.0774 Q608.074 32.4315 602.565 32.4315 Q596.326 32.4315 592.559 35.9558 Q588.832 39.4801 588.265 45.8805 L614.839 45.84 Z\" fill=\"#000000\" fill-rule=\"evenodd\" fill-opacity=\"1\" /><path clip-path=\"url(#clip340)\" d=\"M 0 0 M682.773 34.1734 Q681.517 33.4443 680.018 33.1202 Q678.56 32.7556 676.777 32.7556 Q670.458 32.7556 667.055 36.8875 Q663.693 40.9789 663.693 48.6757 L663.693 72.576 L656.199 72.576 L656.199 27.2059 L663.693 27.2059 L663.693 34.2544 Q666.042 30.1225 669.81 28.1376 Q673.577 26.1121 678.965 26.1121 Q679.734 26.1121 680.666 26.2337 Q681.598 26.3147 682.732 26.5172 L682.773 34.1734 Z\" fill=\"#000000\" fill-rule=\"evenodd\" fill-opacity=\"1\" /><path clip-path=\"url(#clip340)\" d=\"M 0 0 M711.21 49.7694 Q702.176 49.7694 698.693 51.8354 Q695.209 53.9013 695.209 58.8839 Q695.209 62.8538 697.802 65.2034 Q700.435 67.5124 704.931 67.5124 Q711.129 67.5124 714.856 63.1374 Q718.623 58.7219 718.623 51.4303 L718.623 49.7694 L711.21 49.7694 M726.077 46.6907 L726.077 72.576 L718.623 72.576 L718.623 65.6895 Q716.071 69.8214 712.263 71.8063 Q708.455 73.7508 702.946 73.7508 Q695.979 73.7508 691.847 69.8619 Q687.755 65.9325 687.755 59.3701 Q687.755 51.7138 692.859 47.825 Q698.004 43.9361 708.172 43.9361 L718.623 43.9361 L718.623 43.2069 Q718.623 38.0623 715.22 35.2672 Q711.858 32.4315 705.741 32.4315 Q701.852 32.4315 698.166 33.3632 Q694.48 34.295 691.077 36.1584 L691.077 29.2718 Q695.168 27.692 699.017 26.9223 Q702.865 26.1121 706.511 26.1121 Q716.355 26.1121 721.216 31.2163 Q726.077 36.3204 726.077 46.6907 Z\" fill=\"#000000\" fill-rule=\"evenodd\" fill-opacity=\"1\" /><path clip-path=\"url(#clip340)\" d=\"M 0 0 M741.268 14.324 L741.268 27.2059 L756.621 27.2059 L756.621 32.9987 L741.268 32.9987 L741.268 57.6282 Q741.268 63.1779 742.767 64.7578 Q744.306 66.3376 748.964 66.3376 L756.621 66.3376 L756.621 72.576 L748.964 72.576 Q740.336 72.576 737.055 69.3758 Q733.774 66.1351 733.774 57.6282 L733.774 32.9987 L728.305 32.9987 L728.305 27.2059 L733.774 27.2059 L733.774 14.324 L741.268 14.324 Z\" fill=\"#000000\" fill-rule=\"evenodd\" fill-opacity=\"1\" /><path clip-path=\"url(#clip340)\" d=\"M 0 0 M764.439 27.2059 L771.893 27.2059 L771.893 72.576 L764.439 72.576 L764.439 27.2059 M764.439 9.54393 L771.893 9.54393 L771.893 18.9825 L764.439 18.9825 L764.439 9.54393 Z\" fill=\"#000000\" fill-rule=\"evenodd\" fill-opacity=\"1\" /><path clip-path=\"url(#clip340)\" d=\"M 0 0 M817.425 45.1919 L817.425 72.576 L809.971 72.576 L809.971 45.4349 Q809.971 38.994 807.459 35.7938 Q804.948 32.5936 799.925 32.5936 Q793.889 32.5936 790.405 36.4419 Q786.921 40.2903 786.921 46.9338 L786.921 72.576 L779.427 72.576 L779.427 27.2059 L786.921 27.2059 L786.921 34.2544 Q789.595 30.163 793.2 28.1376 Q796.846 26.1121 801.586 26.1121 Q809.404 26.1121 813.414 30.9732 Q817.425 35.7938 817.425 45.1919 Z\" fill=\"#000000\" fill-rule=\"evenodd\" fill-opacity=\"1\" /><path clip-path=\"url(#clip340)\" d=\"M 0 0 M855.098 49.3643 Q855.098 41.2625 851.736 36.8065 Q848.414 32.3505 842.378 32.3505 Q836.383 32.3505 833.021 36.8065 Q829.699 41.2625 829.699 49.3643 Q829.699 57.4256 833.021 61.8816 Q836.383 66.3376 842.378 66.3376 Q848.414 66.3376 851.736 61.8816 Q855.098 57.4256 855.098 49.3643 M862.552 66.9452 Q862.552 78.5308 857.407 84.1616 Q852.262 89.8329 841.649 89.8329 Q837.72 89.8329 834.236 89.2252 Q830.752 88.6581 827.471 87.4428 L827.471 80.1917 Q830.752 81.9741 833.952 82.8248 Q837.153 83.6755 840.474 83.6755 Q847.806 83.6755 851.452 79.8271 Q855.098 76.0193 855.098 68.282 L855.098 64.5957 Q852.789 68.6061 849.184 70.5911 Q845.578 72.576 840.555 72.576 Q832.211 72.576 827.106 66.2161 Q822.002 59.8562 822.002 49.3643 Q822.002 38.832 827.106 32.472 Q832.211 26.1121 840.555 26.1121 Q845.578 26.1121 849.184 28.0971 Q852.789 30.082 855.098 34.0924 L855.098 27.2059 L862.552 27.2059 L862.552 66.9452 Z\" fill=\"#000000\" fill-rule=\"evenodd\" fill-opacity=\"1\" /><path clip-path=\"url(#clip340)\" d=\"M 0 0 M899.293 28.5427 L899.293 35.5912 Q896.134 33.9709 892.731 33.1607 Q889.328 32.3505 885.682 32.3505 Q880.133 32.3505 877.338 34.0519 Q874.583 35.7533 874.583 39.156 Q874.583 41.7486 876.568 43.2475 Q878.553 44.7058 884.548 46.0426 L887.1 46.6097 Q895.04 48.3111 898.362 51.4303 Q901.724 54.509 901.724 60.0587 Q901.724 66.3781 896.701 70.0644 Q891.718 73.7508 882.968 73.7508 Q879.323 73.7508 875.353 73.0216 Q871.423 72.3329 867.048 70.9151 L867.048 63.2184 Q871.18 65.3654 875.191 66.4591 Q879.201 67.5124 883.13 67.5124 Q888.397 67.5124 891.232 65.73 Q894.068 63.9071 894.068 60.6258 Q894.068 57.5877 892.002 55.9673 Q889.976 54.3469 883.049 52.8481 L880.457 52.2405 Q873.53 50.7821 870.451 47.7845 Q867.372 44.7463 867.372 39.4801 Q867.372 33.0797 871.909 29.5959 Q876.446 26.1121 884.791 26.1121 Q888.923 26.1121 892.569 26.7198 Q896.215 27.3274 899.293 28.5427 Z\" fill=\"#000000\" fill-rule=\"evenodd\" fill-opacity=\"1\" /><path clip-path=\"url(#clip340)\" d=\"M 0 0 M958.882 9.54393 L958.882 15.7418 L951.753 15.7418 Q947.742 15.7418 946.162 17.3622 Q944.623 18.9825 944.623 23.1955 L944.623 27.2059 L956.897 27.2059 L956.897 32.9987 L944.623 32.9987 L944.623 72.576 L937.129 72.576 L937.129 32.9987 L929.999 32.9987 L929.999 27.2059 L937.129 27.2059 L937.129 24.0462 Q937.129 16.471 940.653 13.0277 Q944.178 9.54393 951.834 9.54393 L958.882 9.54393 Z\" fill=\"#000000\" fill-rule=\"evenodd\" fill-opacity=\"1\" /><path clip-path=\"url(#clip340)\" d=\"M 0 0 M984.281 32.4315 Q978.286 32.4315 974.802 37.1306 Q971.319 41.7891 971.319 49.9314 Q971.319 58.0738 974.762 62.7728 Q978.246 67.4314 984.281 67.4314 Q990.236 67.4314 993.72 62.7323 Q997.204 58.0333 997.204 49.9314 Q997.204 41.8701 993.72 37.1711 Q990.236 32.4315 984.281 32.4315 M984.281 26.1121 Q994.004 26.1121 999.553 32.4315 Q1005.1 38.7509 1005.1 49.9314 Q1005.1 61.0714 999.553 67.4314 Q994.004 73.7508 984.281 73.7508 Q974.519 73.7508 968.969 67.4314 Q963.46 61.0714 963.46 49.9314 Q963.46 38.7509 968.969 32.4315 Q974.519 26.1121 984.281 26.1121 Z\" fill=\"#000000\" fill-rule=\"evenodd\" fill-opacity=\"1\" /><path clip-path=\"url(#clip340)\" d=\"M 0 0 M1039.21 34.1734 Q1037.96 33.4443 1036.46 33.1202 Q1035 32.7556 1033.22 32.7556 Q1026.9 32.7556 1023.49 36.8875 Q1020.13 40.9789 1020.13 48.6757 L1020.13 72.576 L1012.64 72.576 L1012.64 27.2059 L1020.13 27.2059 L1020.13 34.2544 Q1022.48 30.1225 1026.25 28.1376 Q1030.02 26.1121 1035.4 26.1121 Q1036.17 26.1121 1037.11 26.2337 Q1038.04 26.3147 1039.17 26.5172 L1039.21 34.1734 Z\" fill=\"#000000\" fill-rule=\"evenodd\" fill-opacity=\"1\" /><path clip-path=\"url(#clip340)\" d=\"M 0 0 M1108.73 35.9153 Q1111.52 30.8922 1115.41 28.5022 Q1119.3 26.1121 1124.56 26.1121 Q1131.65 26.1121 1135.5 31.0947 Q1139.35 36.0368 1139.35 45.1919 L1139.35 72.576 L1131.86 72.576 L1131.86 45.4349 Q1131.86 38.913 1129.55 35.7533 Q1127.24 32.5936 1122.5 32.5936 Q1116.71 32.5936 1113.34 36.4419 Q1109.98 40.2903 1109.98 46.9338 L1109.98 72.576 L1102.49 72.576 L1102.49 45.4349 Q1102.49 38.8725 1100.18 35.7533 Q1097.87 32.5936 1093.05 32.5936 Q1087.34 32.5936 1083.97 36.4824 Q1080.61 40.3308 1080.61 46.9338 L1080.61 72.576 L1073.12 72.576 L1073.12 27.2059 L1080.61 27.2059 L1080.61 34.2544 Q1083.16 30.082 1086.73 28.0971 Q1090.29 26.1121 1095.2 26.1121 Q1100.14 26.1121 1103.58 28.6237 Q1107.06 31.1352 1108.73 35.9153 Z\" fill=\"#000000\" fill-rule=\"evenodd\" fill-opacity=\"1\" /><path clip-path=\"url(#clip340)\" d=\"M 0 0 M1164.75 32.4315 Q1158.75 32.4315 1155.27 37.1306 Q1151.79 41.7891 1151.79 49.9314 Q1151.79 58.0738 1155.23 62.7728 Q1158.71 67.4314 1164.75 67.4314 Q1170.7 67.4314 1174.19 62.7323 Q1177.67 58.0333 1177.67 49.9314 Q1177.67 41.8701 1174.19 37.1711 Q1170.7 32.4315 1164.75 32.4315 M1164.75 26.1121 Q1174.47 26.1121 1180.02 32.4315 Q1185.57 38.7509 1185.57 49.9314 Q1185.57 61.0714 1180.02 67.4314 Q1174.47 73.7508 1164.75 73.7508 Q1154.99 73.7508 1149.44 67.4314 Q1143.93 61.0714 1143.93 49.9314 Q1143.93 38.7509 1149.44 32.4315 Q1154.99 26.1121 1164.75 26.1121 Z\" fill=\"#000000\" fill-rule=\"evenodd\" fill-opacity=\"1\" /><path clip-path=\"url(#clip340)\" d=\"M 0 0 M1222.31 28.5427 L1222.31 35.5912 Q1219.15 33.9709 1215.75 33.1607 Q1212.35 32.3505 1208.7 32.3505 Q1203.15 32.3505 1200.36 34.0519 Q1197.6 35.7533 1197.6 39.156 Q1197.6 41.7486 1199.59 43.2475 Q1201.57 44.7058 1207.57 46.0426 L1210.12 46.6097 Q1218.06 48.3111 1221.38 51.4303 Q1224.74 54.509 1224.74 60.0587 Q1224.74 66.3781 1219.72 70.0644 Q1214.74 73.7508 1205.99 73.7508 Q1202.34 73.7508 1198.37 73.0216 Q1194.44 72.3329 1190.07 70.9151 L1190.07 63.2184 Q1194.2 65.3654 1198.21 66.4591 Q1202.22 67.5124 1206.15 67.5124 Q1211.42 67.5124 1214.25 65.73 Q1217.09 63.9071 1217.09 60.6258 Q1217.09 57.5877 1215.02 55.9673 Q1213 54.3469 1206.07 52.8481 L1203.48 52.2405 Q1196.55 50.7821 1193.47 47.7845 Q1190.39 44.7463 1190.39 39.4801 Q1190.39 33.0797 1194.93 29.5959 Q1199.47 26.1121 1207.81 26.1121 Q1211.94 26.1121 1215.59 26.7198 Q1219.23 27.3274 1222.31 28.5427 Z\" fill=\"#000000\" fill-rule=\"evenodd\" fill-opacity=\"1\" /><path clip-path=\"url(#clip340)\" d=\"M 0 0 M1239.93 14.324 L1239.93 27.2059 L1255.29 27.2059 L1255.29 32.9987 L1239.93 32.9987 L1239.93 57.6282 Q1239.93 63.1779 1241.43 64.7578 Q1242.97 66.3376 1247.63 66.3376 L1255.29 66.3376 L1255.29 72.576 L1247.63 72.576 Q1239 72.576 1235.72 69.3758 Q1232.44 66.1351 1232.44 57.6282 L1232.44 32.9987 L1226.97 32.9987 L1226.97 27.2059 L1232.44 27.2059 L1232.44 14.324 L1239.93 14.324 Z\" fill=\"#000000\" fill-rule=\"evenodd\" fill-opacity=\"1\" /><path clip-path=\"url(#clip340)\" d=\"M 0 0 M1307.06 32.4315 Q1301.06 32.4315 1297.58 37.1306 Q1294.09 41.7891 1294.09 49.9314 Q1294.09 58.0738 1297.54 62.7728 Q1301.02 67.4314 1307.06 67.4314 Q1313.01 67.4314 1316.5 62.7323 Q1319.98 58.0333 1319.98 49.9314 Q1319.98 41.8701 1316.5 37.1711 Q1313.01 32.4315 1307.06 32.4315 M1307.06 26.1121 Q1316.78 26.1121 1322.33 32.4315 Q1327.88 38.7509 1327.88 49.9314 Q1327.88 61.0714 1322.33 67.4314 Q1316.78 73.7508 1307.06 73.7508 Q1297.29 73.7508 1291.75 67.4314 Q1286.24 61.0714 1286.24 49.9314 Q1286.24 38.7509 1291.75 32.4315 Q1297.29 26.1121 1307.06 26.1121 Z\" fill=\"#000000\" fill-rule=\"evenodd\" fill-opacity=\"1\" /><path clip-path=\"url(#clip340)\" d=\"M 0 0 M1358.67 9.54393 L1358.67 15.7418 L1351.54 15.7418 Q1347.53 15.7418 1345.95 17.3622 Q1344.41 18.9825 1344.41 23.1955 L1344.41 27.2059 L1356.68 27.2059 L1356.68 32.9987 L1344.41 32.9987 L1344.41 72.576 L1336.91 72.576 L1336.91 32.9987 L1329.78 32.9987 L1329.78 27.2059 L1336.91 27.2059 L1336.91 24.0462 Q1336.91 16.471 1340.44 13.0277 Q1343.96 9.54393 1351.62 9.54393 L1358.67 9.54393 Z\" fill=\"#000000\" fill-rule=\"evenodd\" fill-opacity=\"1\" /><path clip-path=\"url(#clip340)\" d=\"M 0 0 M1400.23 14.324 L1400.23 27.2059 L1415.58 27.2059 L1415.58 32.9987 L1400.23 32.9987 L1400.23 57.6282 Q1400.23 63.1779 1401.73 64.7578 Q1403.27 66.3376 1407.93 66.3376 L1415.58 66.3376 L1415.58 72.576 L1407.93 72.576 Q1399.3 72.576 1396.02 69.3758 Q1392.73 66.1351 1392.73 57.6282 L1392.73 32.9987 L1387.27 32.9987 L1387.27 27.2059 L1392.73 27.2059 L1392.73 14.324 L1400.23 14.324 Z\" fill=\"#000000\" fill-rule=\"evenodd\" fill-opacity=\"1\" /><path clip-path=\"url(#clip340)\" d=\"M 0 0 M1461.11 45.1919 L1461.11 72.576 L1453.66 72.576 L1453.66 45.4349 Q1453.66 38.994 1451.15 35.7938 Q1448.64 32.5936 1443.61 32.5936 Q1437.58 32.5936 1434.09 36.4419 Q1430.61 40.2903 1430.61 46.9338 L1430.61 72.576 L1423.12 72.576 L1423.12 9.54393 L1430.61 9.54393 L1430.61 34.2544 Q1433.28 30.163 1436.89 28.1376 Q1440.53 26.1121 1445.27 26.1121 Q1453.09 26.1121 1457.1 30.9732 Q1461.11 35.7938 1461.11 45.1919 Z\" fill=\"#000000\" fill-rule=\"evenodd\" fill-opacity=\"1\" /><path clip-path=\"url(#clip340)\" d=\"M 0 0 M1507.74 48.0275 L1507.74 51.6733 L1473.47 51.6733 Q1473.95 59.3701 1478.09 63.421 Q1482.26 67.4314 1489.67 67.4314 Q1493.97 67.4314 1497.98 66.3781 Q1502.03 65.3249 1506 63.2184 L1506 70.267 Q1501.99 71.9684 1497.77 72.8596 Q1493.56 73.7508 1489.23 73.7508 Q1478.37 73.7508 1472.01 67.4314 Q1465.69 61.1119 1465.69 50.3365 Q1465.69 39.1965 1471.69 32.6746 Q1477.72 26.1121 1487.93 26.1121 Q1497.09 26.1121 1502.39 32.0264 Q1507.74 37.9003 1507.74 48.0275 M1500.29 45.84 Q1500.2 39.7232 1496.84 36.0774 Q1493.52 32.4315 1488.01 32.4315 Q1481.77 32.4315 1478.01 35.9558 Q1474.28 39.4801 1473.71 45.8805 L1500.29 45.84 Z\" fill=\"#000000\" fill-rule=\"evenodd\" fill-opacity=\"1\" /><path clip-path=\"url(#clip340)\" d=\"M 0 0 M1577.25 35.9153 Q1580.05 30.8922 1583.94 28.5022 Q1587.83 26.1121 1593.09 26.1121 Q1600.18 26.1121 1604.03 31.0947 Q1607.88 36.0368 1607.88 45.1919 L1607.88 72.576 L1600.38 72.576 L1600.38 45.4349 Q1600.38 38.913 1598.07 35.7533 Q1595.77 32.5936 1591.03 32.5936 Q1585.23 32.5936 1581.87 36.4419 Q1578.51 40.2903 1578.51 46.9338 L1578.51 72.576 L1571.01 72.576 L1571.01 45.4349 Q1571.01 38.8725 1568.71 35.7533 Q1566.4 32.5936 1561.58 32.5936 Q1555.86 32.5936 1552.5 36.4824 Q1549.14 40.3308 1549.14 46.9338 L1549.14 72.576 L1541.65 72.576 L1541.65 27.2059 L1549.14 27.2059 L1549.14 34.2544 Q1551.69 30.082 1555.26 28.0971 Q1558.82 26.1121 1563.72 26.1121 Q1568.66 26.1121 1572.11 28.6237 Q1575.59 31.1352 1577.25 35.9153 Z\" fill=\"#000000\" fill-rule=\"evenodd\" fill-opacity=\"1\" /><path clip-path=\"url(#clip340)\" d=\"M 0 0 M1633.28 32.4315 Q1627.28 32.4315 1623.8 37.1306 Q1620.31 41.7891 1620.31 49.9314 Q1620.31 58.0738 1623.76 62.7728 Q1627.24 67.4314 1633.28 67.4314 Q1639.23 67.4314 1642.72 62.7323 Q1646.2 58.0333 1646.2 49.9314 Q1646.2 41.8701 1642.72 37.1711 Q1639.23 32.4315 1633.28 32.4315 M1633.28 26.1121 Q1643 26.1121 1648.55 32.4315 Q1654.1 38.7509 1654.1 49.9314 Q1654.1 61.0714 1648.55 67.4314 Q1643 73.7508 1633.28 73.7508 Q1623.51 73.7508 1617.96 67.4314 Q1612.46 61.0714 1612.46 49.9314 Q1612.46 38.7509 1617.96 32.4315 Q1623.51 26.1121 1633.28 26.1121 Z\" fill=\"#000000\" fill-rule=\"evenodd\" fill-opacity=\"1\" /><path clip-path=\"url(#clip340)\" d=\"M 0 0 M1656.57 27.2059 L1664.47 27.2059 L1678.65 65.2844 L1692.83 27.2059 L1700.72 27.2059 L1683.71 72.576 L1673.58 72.576 L1656.57 27.2059 Z\" fill=\"#000000\" fill-rule=\"evenodd\" fill-opacity=\"1\" /><path clip-path=\"url(#clip340)\" d=\"M 0 0 M1708.54 27.2059 L1716 27.2059 L1716 72.576 L1708.54 72.576 L1708.54 27.2059 M1708.54 9.54393 L1716 9.54393 L1716 18.9825 L1708.54 18.9825 L1708.54 9.54393 Z\" fill=\"#000000\" fill-rule=\"evenodd\" fill-opacity=\"1\" /><path clip-path=\"url(#clip340)\" d=\"M 0 0 M1762.62 48.0275 L1762.62 51.6733 L1728.35 51.6733 Q1728.84 59.3701 1732.97 63.421 Q1737.14 67.4314 1744.56 67.4314 Q1748.85 67.4314 1752.86 66.3781 Q1756.91 65.3249 1760.88 63.2184 L1760.88 70.267 Q1756.87 71.9684 1752.66 72.8596 Q1748.44 73.7508 1744.11 73.7508 Q1733.25 73.7508 1726.89 67.4314 Q1720.57 61.1119 1720.57 50.3365 Q1720.57 39.1965 1726.57 32.6746 Q1732.6 26.1121 1742.81 26.1121 Q1751.97 26.1121 1757.27 32.0264 Q1762.62 37.9003 1762.62 48.0275 M1755.17 45.84 Q1755.09 39.7232 1751.73 36.0774 Q1748.4 32.4315 1742.89 32.4315 Q1736.66 32.4315 1732.89 35.9558 Q1729.16 39.4801 1728.59 45.8805 L1755.17 45.84 Z\" fill=\"#000000\" fill-rule=\"evenodd\" fill-opacity=\"1\" /><path clip-path=\"url(#clip340)\" d=\"M 0 0 M1799.36 28.5427 L1799.36 35.5912 Q1796.2 33.9709 1792.8 33.1607 Q1789.4 32.3505 1785.75 32.3505 Q1780.2 32.3505 1777.41 34.0519 Q1774.65 35.7533 1774.65 39.156 Q1774.65 41.7486 1776.64 43.2475 Q1778.62 44.7058 1784.62 46.0426 L1787.17 46.6097 Q1795.11 48.3111 1798.43 51.4303 Q1801.79 54.509 1801.79 60.0587 Q1801.79 66.3781 1796.77 70.0644 Q1791.79 73.7508 1783.04 73.7508 Q1779.39 73.7508 1775.42 73.0216 Q1771.49 72.3329 1767.12 70.9151 L1767.12 63.2184 Q1771.25 65.3654 1775.26 66.4591 Q1779.27 67.5124 1783.2 67.5124 Q1788.47 67.5124 1791.3 65.73 Q1794.14 63.9071 1794.14 60.6258 Q1794.14 57.5877 1792.07 55.9673 Q1790.05 54.3469 1783.12 52.8481 L1780.53 52.2405 Q1773.6 50.7821 1770.52 47.7845 Q1767.44 44.7463 1767.44 39.4801 Q1767.44 33.0797 1771.98 29.5959 Q1776.52 26.1121 1784.86 26.1121 Q1788.99 26.1121 1792.64 26.7198 Q1796.29 27.3274 1799.36 28.5427 Z\" fill=\"#000000\" fill-rule=\"evenodd\" fill-opacity=\"1\" /><path clip-path=\"url(#clip340)\" d=\"M 0 0 M1835.21 54.671 L1835.21 27.2059 L1842.67 27.2059 L1842.67 54.3874 Q1842.67 60.8284 1845.18 64.0691 Q1847.69 67.2693 1852.71 67.2693 Q1858.75 67.2693 1862.23 63.421 Q1865.76 59.5726 1865.76 52.9291 L1865.76 27.2059 L1873.21 27.2059 L1873.21 72.576 L1865.76 72.576 L1865.76 65.6084 Q1863.04 69.7404 1859.44 71.7658 Q1855.87 73.7508 1851.13 73.7508 Q1843.32 73.7508 1839.27 68.8897 Q1835.21 64.0286 1835.21 54.671 M1853.97 26.1121 L1853.97 26.1121 Z\" fill=\"#000000\" fill-rule=\"evenodd\" fill-opacity=\"1\" /><path clip-path=\"url(#clip340)\" d=\"M 0 0 M1918.74 45.1919 L1918.74 72.576 L1911.29 72.576 L1911.29 45.4349 Q1911.29 38.994 1908.78 35.7938 Q1906.27 32.5936 1901.24 32.5936 Q1895.21 32.5936 1891.72 36.4419 Q1888.24 40.2903 1888.24 46.9338 L1888.24 72.576 L1880.75 72.576 L1880.75 27.2059 L1888.24 27.2059 L1888.24 34.2544 Q1890.91 30.163 1894.52 28.1376 Q1898.17 26.1121 1902.91 26.1121 Q1910.72 26.1121 1914.73 30.9732 Q1918.74 35.7938 1918.74 45.1919 Z\" fill=\"#000000\" fill-rule=\"evenodd\" fill-opacity=\"1\" /><path clip-path=\"url(#clip340)\" d=\"M 0 0 M1956.42 34.0924 L1956.42 9.54393 L1963.87 9.54393 L1963.87 72.576 L1956.42 72.576 L1956.42 65.7705 Q1954.07 69.8214 1950.46 71.8063 Q1946.9 73.7508 1941.87 73.7508 Q1933.65 73.7508 1928.47 67.1883 Q1923.32 60.6258 1923.32 49.9314 Q1923.32 39.2371 1928.47 32.6746 Q1933.65 26.1121 1941.87 26.1121 Q1946.9 26.1121 1950.46 28.0971 Q1954.07 30.0415 1956.42 34.0924 M1931.02 49.9314 Q1931.02 58.1548 1934.38 62.8538 Q1937.78 67.5124 1943.7 67.5124 Q1949.61 67.5124 1953.01 62.8538 Q1956.42 58.1548 1956.42 49.9314 Q1956.42 41.7081 1953.01 37.0496 Q1949.61 32.3505 1943.7 32.3505 Q1937.78 32.3505 1934.38 37.0496 Q1931.02 41.7081 1931.02 49.9314 Z\" fill=\"#000000\" fill-rule=\"evenodd\" fill-opacity=\"1\" /><path clip-path=\"url(#clip340)\" d=\"M 0 0 M2010.5 48.0275 L2010.5 51.6733 L1976.23 51.6733 Q1976.71 59.3701 1980.84 63.421 Q1985.02 67.4314 1992.43 67.4314 Q1996.72 67.4314 2000.73 66.3781 Q2004.79 65.3249 2008.76 63.2184 L2008.76 70.267 Q2004.74 71.9684 2000.53 72.8596 Q1996.32 73.7508 1991.98 73.7508 Q1981.13 73.7508 1974.77 67.4314 Q1968.45 61.1119 1968.45 50.3365 Q1968.45 39.1965 1974.44 32.6746 Q1980.48 26.1121 1990.69 26.1121 Q1999.84 26.1121 2005.15 32.0264 Q2010.5 37.9003 2010.5 48.0275 M2003.04 45.84 Q2002.96 39.7232 1999.6 36.0774 Q1996.28 32.4315 1990.77 32.4315 Q1984.53 32.4315 1980.76 35.9558 Q1977.04 39.4801 1976.47 45.8805 L2003.04 45.84 Z\" fill=\"#000000\" fill-rule=\"evenodd\" fill-opacity=\"1\" /><path clip-path=\"url(#clip340)\" d=\"M 0 0 M2044.61 34.1734 Q2043.35 33.4443 2041.85 33.1202 Q2040.39 32.7556 2038.61 32.7556 Q2032.29 32.7556 2028.89 36.8875 Q2025.53 40.9789 2025.53 48.6757 L2025.53 72.576 L2018.03 72.576 L2018.03 27.2059 L2025.53 27.2059 L2025.53 34.2544 Q2027.88 30.1225 2031.64 28.1376 Q2035.41 26.1121 2040.8 26.1121 Q2041.57 26.1121 2042.5 26.2337 Q2043.43 26.3147 2044.57 26.5172 L2044.61 34.1734 Z\" fill=\"#000000\" fill-rule=\"evenodd\" fill-opacity=\"1\" /><path clip-path=\"url(#clip340)\" d=\"M 0 0 M2086.17 14.324 L2086.17 27.2059 L2101.52 27.2059 L2101.52 32.9987 L2086.17 32.9987 L2086.17 57.6282 Q2086.17 63.1779 2087.67 64.7578 Q2089.21 66.3376 2093.86 66.3376 L2101.52 66.3376 L2101.52 72.576 L2093.86 72.576 Q2085.24 72.576 2081.95 69.3758 Q2078.67 66.1351 2078.67 57.6282 L2078.67 32.9987 L2073.21 32.9987 L2073.21 27.2059 L2078.67 27.2059 L2078.67 14.324 L2086.17 14.324 Z\" fill=\"#000000\" fill-rule=\"evenodd\" fill-opacity=\"1\" /><path clip-path=\"url(#clip340)\" d=\"M 0 0 M2126.92 32.4315 Q2120.92 32.4315 2117.44 37.1306 Q2113.96 41.7891 2113.96 49.9314 Q2113.96 58.0738 2117.4 62.7728 Q2120.88 67.4314 2126.92 67.4314 Q2132.87 67.4314 2136.36 62.7323 Q2139.84 58.0333 2139.84 49.9314 Q2139.84 41.8701 2136.36 37.1711 Q2132.87 32.4315 2126.92 32.4315 M2126.92 26.1121 Q2136.64 26.1121 2142.19 32.4315 Q2147.74 38.7509 2147.74 49.9314 Q2147.74 61.0714 2142.19 67.4314 Q2136.64 73.7508 2126.92 73.7508 Q2117.16 73.7508 2111.61 67.4314 Q2106.1 61.0714 2106.1 49.9314 Q2106.1 38.7509 2111.61 32.4315 Q2117.16 26.1121 2126.92 26.1121 Z\" fill=\"#000000\" fill-rule=\"evenodd\" fill-opacity=\"1\" /><path clip-path=\"url(#clip340)\" d=\"M 0 0 M2162.77 65.7705 L2162.77 89.8329 L2155.28 89.8329 L2155.28 27.2059 L2162.77 27.2059 L2162.77 34.0924 Q2165.12 30.0415 2168.68 28.0971 Q2172.29 26.1121 2177.27 26.1121 Q2185.54 26.1121 2190.68 32.6746 Q2195.87 39.2371 2195.87 49.9314 Q2195.87 60.6258 2190.68 67.1883 Q2185.54 73.7508 2177.27 73.7508 Q2172.29 73.7508 2168.68 71.8063 Q2165.12 69.8214 2162.77 65.7705 M2188.13 49.9314 Q2188.13 41.7081 2184.73 37.0496 Q2181.36 32.3505 2175.45 32.3505 Q2169.54 32.3505 2166.13 37.0496 Q2162.77 41.7081 2162.77 49.9314 Q2162.77 58.1548 2166.13 62.8538 Q2169.54 67.5124 2175.45 67.5124 Q2181.36 67.5124 2184.73 62.8538 Q2188.13 58.1548 2188.13 49.9314 Z\" fill=\"#000000\" fill-rule=\"evenodd\" fill-opacity=\"1\" /><path clip-path=\"url(#clip340)\" d=\"M 0 0 M2232.53 65.6895 L2245.9 65.6895 L2245.9 19.5497 L2231.35 22.4663 L2231.35 15.0127 L2245.81 12.096 L2254 12.096 L2254 65.6895 L2267.36 65.6895 L2267.36 72.576 L2232.53 72.576 L2232.53 65.6895 Z\" fill=\"#000000\" fill-rule=\"evenodd\" fill-opacity=\"1\" /><path clip-path=\"url(#clip340)\" d=\"M 0 0 M2293.74 17.4837 Q2287.42 17.4837 2284.22 23.7221 Q2281.06 29.92 2281.06 42.3968 Q2281.06 54.833 2284.22 61.0714 Q2287.42 67.2693 2293.74 67.2693 Q2300.1 67.2693 2303.26 61.0714 Q2306.46 54.833 2306.46 42.3968 Q2306.46 29.92 2303.26 23.7221 Q2300.1 17.4837 2293.74 17.4837 M2293.74 11.0023 Q2303.9 11.0023 2309.25 19.0636 Q2314.64 27.0843 2314.64 42.3968 Q2314.64 57.6687 2309.25 65.73 Q2303.9 73.7508 2293.74 73.7508 Q2283.57 73.7508 2278.18 65.73 Q2272.83 57.6687 2272.83 42.3968 Q2272.83 27.0843 2278.18 19.0636 Q2283.57 11.0023 2293.74 11.0023 Z\" fill=\"#000000\" fill-rule=\"evenodd\" fill-opacity=\"1\" /><path clip-path=\"url(#clip340)\" d=\"M 0 0 M2341.01 17.4837 Q2334.69 17.4837 2331.49 23.7221 Q2328.33 29.92 2328.33 42.3968 Q2328.33 54.833 2331.49 61.0714 Q2334.69 67.2693 2341.01 67.2693 Q2347.37 67.2693 2350.53 61.0714 Q2353.73 54.833 2353.73 42.3968 Q2353.73 29.92 2350.53 23.7221 Q2347.37 17.4837 2341.01 17.4837 M2341.01 11.0023 Q2351.18 11.0023 2356.53 19.0636 Q2361.91 27.0843 2361.91 42.3968 Q2361.91 57.6687 2356.53 65.73 Q2351.18 73.7508 2341.01 73.7508 Q2330.84 73.7508 2325.45 65.73 Q2320.11 57.6687 2320.11 42.3968 Q2320.11 27.0843 2325.45 19.0636 Q2330.84 11.0023 2341.01 11.0023 Z\" fill=\"#000000\" fill-rule=\"evenodd\" fill-opacity=\"1\" /><path clip-path=\"url(#clip340)\" d=\"M 0 0 M2404.12 62.2867 L2412.35 62.2867 L2412.35 72.576 L2404.12 72.576 L2404.12 62.2867 M2412.1 56.3319 L2404.37 56.3319 L2404.37 50.0935 Q2404.37 46.0021 2405.5 43.369 Q2406.63 40.7359 2410.28 37.2521 L2413.93 33.6468 Q2416.24 31.4998 2417.25 29.5959 Q2418.3 27.692 2418.3 25.707 Q2418.3 22.1017 2415.63 19.8737 Q2412.99 17.6457 2408.62 17.6457 Q2405.42 17.6457 2401.77 19.0636 Q2398.17 20.4814 2394.24 23.1955 L2394.24 15.5798 Q2398.05 13.2708 2401.94 12.1365 Q2405.87 11.0023 2410.04 11.0023 Q2417.49 11.0023 2421.99 14.9316 Q2426.52 18.861 2426.52 25.3019 Q2426.52 28.3806 2425.07 31.1758 Q2423.61 33.9304 2419.96 37.4142 L2416.4 40.8979 Q2414.49 42.8019 2413.68 43.8956 Q2412.91 44.9488 2412.59 45.9616 Q2412.35 46.8122 2412.23 48.0275 Q2412.1 49.2428 2412.1 51.3493 L2412.1 56.3319 Z\" fill=\"#000000\" fill-rule=\"evenodd\" fill-opacity=\"1\" /><polyline clip-path=\"url(#clip342)\" style=\"stroke:#009af9; stroke-width:12; stroke-opacity:1; fill:none\" points=\"\n",
       "  2291.9,1386.4 2120.65,1386.4 1949.41,1369.37 1778.17,1352.34 1606.92,1318.28 1448.85,1352.34 1277.61,1233.13 1106.36,1011.74 935.12,1028.77 763.876,926.593 \n",
       "  605.804,637.088 434.56,160.256 263.316,824.415 \n",
       "  \"/>\n",
       "<path clip-path=\"url(#clip340)\" d=\"\n",
       "M1583.99 287.756 L2281.08 287.756 L2281.08 166.796 L1583.99 166.796  Z\n",
       "  \" fill=\"#ffffff\" fill-rule=\"evenodd\" fill-opacity=\"1\"/>\n",
       "<polyline clip-path=\"url(#clip340)\" style=\"stroke:#000000; stroke-width:4; stroke-opacity:1; fill:none\" points=\"\n",
       "  1583.99,287.756 2281.08,287.756 2281.08,166.796 1583.99,166.796 1583.99,287.756 \n",
       "  \"/>\n",
       "<polyline clip-path=\"url(#clip340)\" style=\"stroke:#009af9; stroke-width:4; stroke-opacity:1; fill:none\" points=\"\n",
       "  1607.88,227.276 1751.23,227.276 \n",
       "  \"/>\n",
       "<path clip-path=\"url(#clip340)\" d=\"M 0 0 M1775.13 208.537 L1784.94 208.537 L1784.94 211.848 L1779.39 211.848 L1779.39 247.496 L1784.94 247.496 L1784.94 250.806 L1775.13 250.806 L1775.13 208.537 Z\" fill=\"#000000\" fill-rule=\"evenodd\" fill-opacity=\"1\" /><path clip-path=\"url(#clip340)\" d=\"M 0 0 M1793.44 209.996 L1793.44 222.843 L1789.5 222.843 L1789.5 209.996 L1793.44 209.996 M1802.19 209.996 L1802.19 222.843 L1798.25 222.843 L1798.25 209.996 L1802.19 209.996 Z\" fill=\"#000000\" fill-rule=\"evenodd\" fill-opacity=\"1\" /><path clip-path=\"url(#clip340)\" d=\"M 0 0 M1806.84 209.996 L1813.14 209.996 L1828.46 238.908 L1828.46 209.996 L1833 209.996 L1833 244.556 L1826.7 244.556 L1811.38 215.644 L1811.38 244.556 L1806.84 244.556 L1806.84 209.996 Z\" fill=\"#000000\" fill-rule=\"evenodd\" fill-opacity=\"1\" /><path clip-path=\"url(#clip340)\" d=\"M 0 0 M1837.02 234.324 L1837.02 218.63 L1841.28 218.63 L1841.28 234.162 Q1841.28 237.843 1842.72 239.695 Q1844.15 241.523 1847.02 241.523 Q1850.47 241.523 1852.46 239.324 Q1854.48 237.125 1854.48 233.329 L1854.48 218.63 L1858.74 218.63 L1858.74 244.556 L1854.48 244.556 L1854.48 240.574 Q1852.93 242.935 1850.87 244.093 Q1848.83 245.227 1846.12 245.227 Q1841.65 245.227 1839.34 242.449 Q1837.02 239.671 1837.02 234.324 M1847.74 218.005 L1847.74 218.005 Z\" fill=\"#000000\" fill-rule=\"evenodd\" fill-opacity=\"1\" /><path clip-path=\"url(#clip340)\" d=\"M 0 0 M1883.39 223.607 Q1884.99 220.736 1887.21 219.371 Q1889.43 218.005 1892.44 218.005 Q1896.49 218.005 1898.69 220.852 Q1900.89 223.676 1900.89 228.908 L1900.89 244.556 L1896.61 244.556 L1896.61 229.047 Q1896.61 225.32 1895.29 223.514 Q1893.97 221.709 1891.26 221.709 Q1887.95 221.709 1886.03 223.908 Q1884.11 226.107 1884.11 229.903 L1884.11 244.556 L1879.82 244.556 L1879.82 229.047 Q1879.82 225.297 1878.51 223.514 Q1877.19 221.709 1874.43 221.709 Q1871.17 221.709 1869.25 223.931 Q1867.32 226.13 1867.32 229.903 L1867.32 244.556 L1863.04 244.556 L1863.04 218.63 L1867.32 218.63 L1867.32 222.658 Q1868.78 220.273 1870.82 219.139 Q1872.86 218.005 1875.66 218.005 Q1878.48 218.005 1880.45 219.44 Q1882.44 220.875 1883.39 223.607 Z\" fill=\"#000000\" fill-rule=\"evenodd\" fill-opacity=\"1\" /><path clip-path=\"url(#clip340)\" d=\"M 0 0 M1923.97 231.616 Q1923.97 226.917 1922.02 224.255 Q1920.1 221.57 1916.72 221.57 Q1913.34 221.57 1911.4 224.255 Q1909.48 226.917 1909.48 231.616 Q1909.48 236.315 1911.4 239 Q1913.34 241.662 1916.72 241.662 Q1920.1 241.662 1922.02 239 Q1923.97 236.315 1923.97 231.616 M1909.48 222.565 Q1910.82 220.25 1912.86 219.139 Q1914.92 218.005 1917.76 218.005 Q1922.49 218.005 1925.43 221.755 Q1928.39 225.505 1928.39 231.616 Q1928.39 237.727 1925.43 241.477 Q1922.49 245.227 1917.76 245.227 Q1914.92 245.227 1912.86 244.116 Q1910.82 242.982 1909.48 240.667 L1909.48 244.556 L1905.19 244.556 L1905.19 208.537 L1909.48 208.537 L1909.48 222.565 Z\" fill=\"#000000\" fill-rule=\"evenodd\" fill-opacity=\"1\" /><path clip-path=\"url(#clip340)\" d=\"M 0 0 M1955.03 230.528 L1955.03 232.611 L1935.45 232.611 Q1935.73 237.009 1938.09 239.324 Q1940.47 241.616 1944.71 241.616 Q1947.16 241.616 1949.45 241.014 Q1951.77 240.412 1954.04 239.209 L1954.04 243.236 Q1951.75 244.208 1949.34 244.718 Q1946.93 245.227 1944.45 245.227 Q1938.25 245.227 1934.62 241.616 Q1931 238.005 1931 231.847 Q1931 225.482 1934.43 221.755 Q1937.88 218.005 1943.71 218.005 Q1948.94 218.005 1951.98 221.385 Q1955.03 224.741 1955.03 230.528 M1950.77 229.278 Q1950.73 225.783 1948.81 223.699 Q1946.91 221.616 1943.76 221.616 Q1940.19 221.616 1938.04 223.63 Q1935.91 225.644 1935.59 229.301 L1950.77 229.278 Z\" fill=\"#000000\" fill-rule=\"evenodd\" fill-opacity=\"1\" /><path clip-path=\"url(#clip340)\" d=\"M 0 0 M1974.52 222.611 Q1973.81 222.195 1972.95 222.01 Q1972.12 221.801 1971.1 221.801 Q1967.49 221.801 1965.54 224.162 Q1963.62 226.5 1963.62 230.898 L1963.62 244.556 L1959.34 244.556 L1959.34 218.63 L1963.62 218.63 L1963.62 222.658 Q1964.96 220.297 1967.12 219.162 Q1969.27 218.005 1972.35 218.005 Q1972.79 218.005 1973.32 218.074 Q1973.85 218.121 1974.5 218.236 L1974.52 222.611 Z\" fill=\"#000000\" fill-rule=\"evenodd\" fill-opacity=\"1\" /><path clip-path=\"url(#clip340)\" d=\"M 0 0 M2004.11 221.616 Q2000.68 221.616 1998.69 224.301 Q1996.7 226.963 1996.7 231.616 Q1996.7 236.269 1998.67 238.954 Q2000.66 241.616 2004.11 241.616 Q2007.51 241.616 2009.5 238.931 Q2011.49 236.246 2011.49 231.616 Q2011.49 227.01 2009.5 224.324 Q2007.51 221.616 2004.11 221.616 M2004.11 218.005 Q2009.66 218.005 2012.83 221.616 Q2016 225.227 2016 231.616 Q2016 237.982 2012.83 241.616 Q2009.66 245.227 2004.11 245.227 Q1998.53 245.227 1995.36 241.616 Q1992.21 237.982 1992.21 231.616 Q1992.21 225.227 1995.36 221.616 Q1998.53 218.005 2004.11 218.005 Z\" fill=\"#000000\" fill-rule=\"evenodd\" fill-opacity=\"1\" /><path clip-path=\"url(#clip340)\" d=\"M 0 0 M2033.6 208.537 L2033.6 212.079 L2029.52 212.079 Q2027.23 212.079 2026.33 213.005 Q2025.45 213.931 2025.45 216.338 L2025.45 218.63 L2032.46 218.63 L2032.46 221.94 L2025.45 221.94 L2025.45 244.556 L2021.17 244.556 L2021.17 221.94 L2017.09 221.94 L2017.09 218.63 L2021.17 218.63 L2021.17 216.824 Q2021.17 212.496 2023.18 210.528 Q2025.19 208.537 2029.57 208.537 L2033.6 208.537 Z\" fill=\"#000000\" fill-rule=\"evenodd\" fill-opacity=\"1\" /><path clip-path=\"url(#clip340)\" d=\"M 0 0 M2073.32 223.607 Q2074.92 220.736 2077.14 219.371 Q2079.36 218.005 2082.37 218.005 Q2086.42 218.005 2088.62 220.852 Q2090.82 223.676 2090.82 228.908 L2090.82 244.556 L2086.54 244.556 L2086.54 229.047 Q2086.54 225.32 2085.22 223.514 Q2083.9 221.709 2081.19 221.709 Q2077.88 221.709 2075.96 223.908 Q2074.04 226.107 2074.04 229.903 L2074.04 244.556 L2069.75 244.556 L2069.75 229.047 Q2069.75 225.297 2068.43 223.514 Q2067.12 221.709 2064.36 221.709 Q2061.1 221.709 2059.18 223.931 Q2057.25 226.13 2057.25 229.903 L2057.25 244.556 L2052.97 244.556 L2052.97 218.63 L2057.25 218.63 L2057.25 222.658 Q2058.71 220.273 2060.75 219.139 Q2062.79 218.005 2065.59 218.005 Q2068.41 218.005 2070.38 219.44 Q2072.37 220.875 2073.32 223.607 Z\" fill=\"#000000\" fill-rule=\"evenodd\" fill-opacity=\"1\" /><path clip-path=\"url(#clip340)\" d=\"M 0 0 M2105.33 221.616 Q2101.91 221.616 2099.92 224.301 Q2097.93 226.963 2097.93 231.616 Q2097.93 236.269 2099.89 238.954 Q2101.88 241.616 2105.33 241.616 Q2108.74 241.616 2110.73 238.931 Q2112.72 236.246 2112.72 231.616 Q2112.72 227.01 2110.73 224.324 Q2108.74 221.616 2105.33 221.616 M2105.33 218.005 Q2110.89 218.005 2114.06 221.616 Q2117.23 225.227 2117.23 231.616 Q2117.23 237.982 2114.06 241.616 Q2110.89 245.227 2105.33 245.227 Q2099.75 245.227 2096.58 241.616 Q2093.43 237.982 2093.43 231.616 Q2093.43 225.227 2096.58 221.616 Q2099.75 218.005 2105.33 218.005 Z\" fill=\"#000000\" fill-rule=\"evenodd\" fill-opacity=\"1\" /><path clip-path=\"url(#clip340)\" d=\"M 0 0 M2118.64 218.63 L2123.16 218.63 L2131.26 240.389 L2139.36 218.63 L2143.87 218.63 L2134.15 244.556 L2128.36 244.556 L2118.64 218.63 Z\" fill=\"#000000\" fill-rule=\"evenodd\" fill-opacity=\"1\" /><path clip-path=\"url(#clip340)\" d=\"M 0 0 M2148.34 218.63 L2152.6 218.63 L2152.6 244.556 L2148.34 244.556 L2148.34 218.63 M2148.34 208.537 L2152.6 208.537 L2152.6 213.931 L2148.34 213.931 L2148.34 208.537 Z\" fill=\"#000000\" fill-rule=\"evenodd\" fill-opacity=\"1\" /><path clip-path=\"url(#clip340)\" d=\"M 0 0 M2179.24 230.528 L2179.24 232.611 L2159.66 232.611 Q2159.94 237.009 2162.3 239.324 Q2164.68 241.616 2168.92 241.616 Q2171.37 241.616 2173.67 241.014 Q2175.98 240.412 2178.25 239.209 L2178.25 243.236 Q2175.96 244.208 2173.55 244.718 Q2171.14 245.227 2168.67 245.227 Q2162.46 245.227 2158.83 241.616 Q2155.22 238.005 2155.22 231.847 Q2155.22 225.482 2158.64 221.755 Q2162.09 218.005 2167.92 218.005 Q2173.16 218.005 2176.19 221.385 Q2179.24 224.741 2179.24 230.528 M2174.99 229.278 Q2174.94 225.783 2173.02 223.699 Q2171.12 221.616 2167.97 221.616 Q2164.41 221.616 2162.25 223.63 Q2160.12 225.644 2159.8 229.301 L2174.99 229.278 Z\" fill=\"#000000\" fill-rule=\"evenodd\" fill-opacity=\"1\" /><path clip-path=\"url(#clip340)\" d=\"M 0 0 M2200.24 219.394 L2200.24 223.422 Q2198.43 222.496 2196.49 222.033 Q2194.55 221.57 2192.46 221.57 Q2189.29 221.57 2187.69 222.542 Q2186.12 223.514 2186.12 225.459 Q2186.12 226.94 2187.25 227.797 Q2188.39 228.63 2191.81 229.394 L2193.27 229.718 Q2197.81 230.69 2199.71 232.472 Q2201.63 234.232 2201.63 237.403 Q2201.63 241.014 2198.76 243.121 Q2195.91 245.227 2190.91 245.227 Q2188.83 245.227 2186.56 244.81 Q2184.31 244.417 2181.81 243.607 L2181.81 239.209 Q2184.17 240.435 2186.47 241.06 Q2188.76 241.662 2191 241.662 Q2194.01 241.662 2195.63 240.644 Q2197.25 239.602 2197.25 237.727 Q2197.25 235.991 2196.07 235.065 Q2194.92 234.139 2190.96 233.283 L2189.48 232.935 Q2185.52 232.102 2183.76 230.389 Q2182 228.653 2182 225.644 Q2182 221.986 2184.59 219.996 Q2187.18 218.005 2191.95 218.005 Q2194.31 218.005 2196.4 218.352 Q2198.48 218.699 2200.24 219.394 Z\" fill=\"#000000\" fill-rule=\"evenodd\" fill-opacity=\"1\" /><path clip-path=\"url(#clip340)\" d=\"M 0 0 M2210.12 209.996 L2210.12 222.843 L2206.19 222.843 L2206.19 209.996 L2210.12 209.996 M2218.87 209.996 L2218.87 222.843 L2214.94 222.843 L2214.94 209.996 L2218.87 209.996 Z\" fill=\"#000000\" fill-rule=\"evenodd\" fill-opacity=\"1\" /><path clip-path=\"url(#clip340)\" d=\"M 0 0 M2233.29 208.537 L2233.29 250.806 L2223.48 250.806 L2223.48 247.496 L2229.01 247.496 L2229.01 211.848 L2223.48 211.848 L2223.48 208.537 L2233.29 208.537 Z\" fill=\"#000000\" fill-rule=\"evenodd\" fill-opacity=\"1\" /></svg>\n"
      ]
     },
     "execution_count": 198,
     "metadata": {},
     "output_type": "execute_result"
    }
   ],
   "source": [
    "x = Ratings_count.Ratings; y = Ratings_count.count; # These are the plotting data\n",
    "plot(x, y, title = \"What are the ratings for most of the movies under top 100 ?\",\n",
    "     label = [\"Number of movies\"], lw =3)\n",
    "     xlabel!(\"Ratings\")\n",
    "     ylabel!(\"Number of Movies\")\n",
    "\n",
    "#we can see from the plot that most of movies from Top 250 had ratings between 8 and 8.25\n",
    "#while only few of them went above 9"
   ]
  }
 ],
 "metadata": {
  "kernelspec": {
   "display_name": "Julia 1.4.2",
   "language": "julia",
   "name": "julia-1.4"
  },
  "language_info": {
   "file_extension": ".jl",
   "mimetype": "application/julia",
   "name": "julia",
   "version": "1.4.2"
  }
 },
 "nbformat": 4,
 "nbformat_minor": 2
}
